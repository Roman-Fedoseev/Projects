{
 "cells": [
  {
   "cell_type": "code",
   "execution_count": 1,
   "id": "c32485b6-eb59-4008-b7ef-db95968349e0",
   "metadata": {},
   "outputs": [],
   "source": [
    "import pandas as pd\n",
    "import numpy as np\n",
    "import seaborn as sns\n",
    "import matplotlib.pyplot as plt\n",
    "\n",
    "import pandas as pd\n",
    "from sklearn.ensemble import RandomForestRegressor\n",
    "from sklearn.metrics import mean_squared_error\n",
    "from tqdm import tqdm\n",
    "\n",
    "pd.set_option('display.max_columns', None)  # Отображать все колонки\n",
    "# pd.set_option('display.max_rows', None)  "
   ]
  },
  {
   "cell_type": "markdown",
   "id": "bcc09282-2824-43a7-8d2f-e808a3db259f",
   "metadata": {},
   "source": [
    "## Акции / Облигации (investing.com)"
   ]
  },
  {
   "cell_type": "code",
   "execution_count": 3,
   "id": "9807033c-b19f-43e6-92c7-b753fffe0d05",
   "metadata": {},
   "outputs": [],
   "source": [
    "gold_path = 'Прошлые данные - Фьючерс на золото.csv'\n",
    "brent_path = 'Прошлые данные - Фьючерс на нефть Brent.csv'\n",
    "svoe_path = 'Прошлые данные - CBOE Volatility Index.csv'\n",
    "gazp_path = 'Прошлые данные - GAZP.csv' \n",
    "lkoh_path = 'Прошлые данные - LKOH.csv'\n",
    "plzl_path = 'Прошлые данные - PLZL.csv'\n",
    "sp500_path = 'Прошлые данные - S&P 500.csv'\n",
    "sber_path = 'Прошлые данные - SBER.csv'\n",
    "sngs_path = 'Прошлые данные - SNGS.csv'\n",
    "tath_path = 'Прошлые данные - TATN.csv'\n",
    "ydex_path = 'Прошлые данные - YDEX.csv'\n",
    "bond3_path = 'Прошлые данные доходности облигаций Россия 3-летние.csv'\n",
    "bond5_path = 'Прошлые данные доходности облигаций Россия 5-летние.csv'\n",
    "bond1_path = 'Прошлые данные доходности облигаций Россия годовые.csv'"
   ]
  },
  {
   "cell_type": "code",
   "execution_count": 4,
   "id": "3cbc8f5f-24a8-425a-b1af-a08be4a8aa41",
   "metadata": {},
   "outputs": [],
   "source": [
    "def stock_bonds(file_path):\n",
    "    df = pd.read_csv(file_path)\n",
    "    \n",
    "    df['Дата'] = pd.to_datetime(df['Дата'], format='%d.%m.%Y', dayfirst=True)\n",
    "\n",
    "    if 'Объём' in df.columns and 'Изм. %' in df.columns:\n",
    "        df.drop(['Объём', 'Изм. %'], axis=1, inplace=True)\n",
    "    elif 'Изм. %' in df.columns:\n",
    "        df.drop(['Изм. %'], axis=1, inplace=True)\n",
    "        \n",
    "    df.set_index('Дата', inplace=True)\n",
    "    \n",
    "    return df"
   ]
  },
  {
   "cell_type": "code",
   "execution_count": 5,
   "id": "17708e86-b2d9-4f7b-a5a2-2e2d35e57360",
   "metadata": {},
   "outputs": [],
   "source": [
    "gold = stock_bonds(gold_path)\n",
    "brent = stock_bonds(brent_path)\n",
    "svoe = stock_bonds(svoe_path)\n",
    "gazp = stock_bonds(gazp_path)\n",
    "lkoh = stock_bonds(lkoh_path)\n",
    "plzl = stock_bonds(plzl_path)\n",
    "sp500 = stock_bonds(sp500_path)\n",
    "sber = stock_bonds(sber_path)\n",
    "sngs = stock_bonds(sngs_path)\n",
    "tath = stock_bonds(tath_path)\n",
    "ydex = stock_bonds(ydex_path)\n",
    "\n",
    "bond3 = stock_bonds(bond3_path)\n",
    "bond5 = stock_bonds(bond5_path)\n",
    "bond1 = stock_bonds(bond1_path)"
   ]
  },
  {
   "cell_type": "code",
   "execution_count": null,
   "id": "5f9efb91-0440-4174-98db-981e180221c7",
   "metadata": {},
   "outputs": [],
   "source": []
  },
  {
   "cell_type": "markdown",
   "id": "9bed3e11-c3b9-4f40-ab3b-b994909476f6",
   "metadata": {},
   "source": [
    "## Валюта ЦБ"
   ]
  },
  {
   "cell_type": "code",
   "execution_count": 7,
   "id": "9c2fbb5e-0601-4eaa-924e-2a9bac0b3b7d",
   "metadata": {},
   "outputs": [],
   "source": [
    "ruble_to_doll_path = 'Доллар_рубль_ЦБ.xlsx'\n",
    "ruble_to_euro_path = 'Евро_рубль_ЦБ.xlsx'"
   ]
  },
  {
   "cell_type": "code",
   "execution_count": 8,
   "id": "1effb071-b762-479e-97b1-782d4036321e",
   "metadata": {},
   "outputs": [],
   "source": [
    "def currency(file_path):\n",
    "    df = pd.read_excel(file_path)\n",
    "    \n",
    "    df['Дата'] = pd.to_datetime(df['data'], format='%Y.%m.%d')\n",
    "    \n",
    "    df.set_index('Дата', inplace=True)\n",
    "\n",
    "    df.drop(['cdx', 'data', 'nominal'], axis=1, inplace=True)\n",
    "    \n",
    "    return df"
   ]
  },
  {
   "cell_type": "code",
   "execution_count": 9,
   "id": "26b8bd1b-8a59-45f2-9163-ebbbae87610e",
   "metadata": {},
   "outputs": [
    {
     "name": "stderr",
     "output_type": "stream",
     "text": [
      "C:\\ProgramData\\anaconda3\\Lib\\site-packages\\openpyxl\\styles\\stylesheet.py:226: UserWarning: Workbook contains no default style, apply openpyxl's default\n",
      "  warn(\"Workbook contains no default style, apply openpyxl's default\")\n",
      "C:\\ProgramData\\anaconda3\\Lib\\site-packages\\openpyxl\\styles\\stylesheet.py:226: UserWarning: Workbook contains no default style, apply openpyxl's default\n",
      "  warn(\"Workbook contains no default style, apply openpyxl's default\")\n"
     ]
    }
   ],
   "source": [
    "ruble_to_doll = currency(ruble_to_doll_path)\n",
    "ruble_to_euro = currency(ruble_to_euro_path)"
   ]
  },
  {
   "cell_type": "code",
   "execution_count": null,
   "id": "aabc52cb-0478-439f-8cb3-b0d37a43648d",
   "metadata": {},
   "outputs": [],
   "source": []
  },
  {
   "cell_type": "markdown",
   "id": "c7cb977b-f207-4f22-aaa9-4a9e21b27360",
   "metadata": {},
   "source": [
    "## Инфляция и ключевая ставка ЦБ"
   ]
  },
  {
   "cell_type": "code",
   "execution_count": 11,
   "id": "8e54f4c1-80d7-4485-89fa-276db34bbaa2",
   "metadata": {},
   "outputs": [],
   "source": [
    "inflation_and_key_rate_path = 'Инфляция и ключевая ставка ЦБ.xlsx'"
   ]
  },
  {
   "cell_type": "code",
   "execution_count": 12,
   "id": "137534f9-cedf-4386-a7ee-faab4fd83b72",
   "metadata": {},
   "outputs": [],
   "source": [
    "def inflation_and_key_rate_monthly_data(file_path):\n",
    "    df = pd.read_excel(file_path, dtype={'Дата': str})\n",
    "    \n",
    "    df['Дата'] = df['Дата'].astype(str)\n",
    "    \n",
    "    # Преобразование в datetime, указывая последний день месяца\n",
    "    df['Дата'] = pd.to_datetime(df['Дата'], format='%m.%Y').dt.to_period('M').dt.to_timestamp(how='end').dt.floor('D')\n",
    "    \n",
    "    df.set_index('Дата', inplace=True)\n",
    "\n",
    "    df.drop('Цель по инфляции', axis=1, inplace=True)\n",
    "    \n",
    "    return df"
   ]
  },
  {
   "cell_type": "code",
   "execution_count": 13,
   "id": "59d9ab64-a1ad-49ad-9bc8-cc436ad52fb0",
   "metadata": {},
   "outputs": [
    {
     "name": "stderr",
     "output_type": "stream",
     "text": [
      "C:\\ProgramData\\anaconda3\\Lib\\site-packages\\openpyxl\\styles\\stylesheet.py:226: UserWarning: Workbook contains no default style, apply openpyxl's default\n",
      "  warn(\"Workbook contains no default style, apply openpyxl's default\")\n"
     ]
    }
   ],
   "source": [
    "inflation_and_key_rate = inflation_and_key_rate_monthly_data(inflation_and_key_rate_path)"
   ]
  },
  {
   "cell_type": "code",
   "execution_count": null,
   "id": "848185c0-dfd7-4334-b998-aa8b47924871",
   "metadata": {},
   "outputs": [],
   "source": []
  },
  {
   "cell_type": "markdown",
   "id": "7d3dc4e2-f1fe-459a-a4f7-f654ae624946",
   "metadata": {},
   "source": [
    "## MOEX"
   ]
  },
  {
   "cell_type": "code",
   "execution_count": 15,
   "id": "a4b03b5c-4703-475f-911f-6bf8fcb8a0b3",
   "metadata": {},
   "outputs": [],
   "source": [
    "imoex_path = 'IMOEX.csv'\n",
    "moex_blue_chips_path = 'MOEX_blue_chips.csv'\n",
    "rtsi_path = 'RTSI.csv'"
   ]
  },
  {
   "cell_type": "code",
   "execution_count": 16,
   "id": "cdc744d9-e41e-41dd-8add-4b38af5b9d1c",
   "metadata": {},
   "outputs": [],
   "source": [
    "def moex(file_path):\n",
    "    df = pd.read_csv(file_path, encoding='ISO-8859-1', sep=';', skiprows=2)\n",
    "    \n",
    "    df = df[['TRADEDATE', 'CLOSE', 'OPEN', 'HIGH', 'LOW']]\n",
    "    \n",
    "    df['Дата'] = pd.to_datetime(df['TRADEDATE'], format='%d.%m.%Y', dayfirst=True)\n",
    "\n",
    "    df.set_index('Дата', inplace=True)\n",
    "\n",
    "    df.drop('TRADEDATE', axis=1, inplace=True)\n",
    "\n",
    "    df = df.replace(',', '.', regex=True).apply(pd.to_numeric, errors='coerce')\n",
    "\n",
    "    return df"
   ]
  },
  {
   "cell_type": "code",
   "execution_count": 17,
   "id": "04790673-8077-44c8-a7b5-b0c6285eb064",
   "metadata": {},
   "outputs": [],
   "source": [
    "imoex = moex(imoex_path)\n",
    "moex_blue_chips = moex(moex_blue_chips_path)\n",
    "rtsi = moex(rtsi_path)"
   ]
  },
  {
   "cell_type": "code",
   "execution_count": 18,
   "id": "c325fb6e-a963-4d3a-ac3d-f5e8d3577b96",
   "metadata": {},
   "outputs": [],
   "source": [
    "\n",
    "# gold \n",
    "# brent \n",
    "# svoe\n",
    "# gazp\n",
    "# lkoh\n",
    "# plzl\n",
    "# sp500\n",
    "# sber \n",
    "# sngs \n",
    "# tath \n",
    "# ydex \n",
    "\n",
    "# bond3\n",
    "# bond5 \n",
    "# bond1 \n",
    "\n",
    "# ruble_to_doll \n",
    "# ruble_to_euro\n",
    "\n",
    "# inflation_and_key_rate\n",
    "\n",
    "# imoex \n",
    "# moex_blue_chips\n",
    "# rtsi"
   ]
  },
  {
   "cell_type": "markdown",
   "id": "6b6053ce-a756-4a12-8ab0-99fbc187bb68",
   "metadata": {},
   "source": [
    "## Обработка дубликатов"
   ]
  },
  {
   "cell_type": "code",
   "execution_count": 20,
   "id": "9fa772c9-80eb-49b6-ad9c-4d6a6a4264d6",
   "metadata": {},
   "outputs": [],
   "source": [
    "# хочу добавить все датафреймы в словарь, из них в каждом датафрейме удалить дубликаты, а далее сложить все в один датафрейм"
   ]
  },
  {
   "cell_type": "code",
   "execution_count": 21,
   "id": "88cc186f-c10a-4e6a-9158-91b654a99d38",
   "metadata": {},
   "outputs": [],
   "source": [
    "dataframes = {\n",
    "    'gold': gold,\n",
    "    'brent': brent,\n",
    "    'svoe': svoe,\n",
    "    'gazp': gazp,\n",
    "    'lkoh': lkoh,\n",
    "    'plzl': plzl,\n",
    "    'sp500': sp500,\n",
    "    'sber': sber,\n",
    "    'sngs': sngs,\n",
    "    'tath': tath,\n",
    "    'ydex': ydex,\n",
    "    'bond3': bond3,\n",
    "    'bond5': bond5,\n",
    "    'bond1': bond1,\n",
    "    'ruble_to_doll': ruble_to_doll,\n",
    "    'ruble_to_euro': ruble_to_euro,\n",
    "    'inflation_and_key_rate': inflation_and_key_rate,\n",
    "    'imoex': imoex,\n",
    "    'moex_blue_chips': moex_blue_chips,\n",
    "    'rtsi': rtsi\n",
    "}"
   ]
  },
  {
   "cell_type": "code",
   "execution_count": 22,
   "id": "9367ce8e-94bb-41cb-ab53-c111d8b10f9e",
   "metadata": {},
   "outputs": [
    {
     "name": "stdout",
     "output_type": "stream",
     "text": [
      "                 DataFrame  Duplicate Count\n",
      "3                     gazp               11\n",
      "7                     sber               10\n",
      "0                     gold                0\n",
      "11                   bond3                0\n",
      "18         moex_blue_chips                0\n",
      "17                   imoex                0\n",
      "16  inflation_and_key_rate                0\n",
      "15           ruble_to_euro                0\n",
      "14           ruble_to_doll                0\n",
      "13                   bond1                0\n",
      "12                   bond5                0\n",
      "10                    ydex                0\n",
      "1                    brent                0\n",
      "9                     tath                0\n",
      "8                     sngs                0\n",
      "6                    sp500                0\n",
      "5                     plzl                0\n",
      "4                     lkoh                0\n",
      "2                     svoe                0\n",
      "19                    rtsi                0\n"
     ]
    }
   ],
   "source": [
    "df_names = [\n",
    "    \"gold\", \"brent\", \"svoe\", \"gazp\", \"lkoh\", \"plzl\", \"sp500\", \"sber\", \"sngs\", \"tath\", \"ydex\",\n",
    "    \"bond3\", \"bond5\", \"bond1\",\n",
    "    \"ruble_to_doll\", \"ruble_to_euro\",\n",
    "    \"inflation_and_key_rate\",\n",
    "    \"imoex\", \"moex_blue_chips\", \"rtsi\"\n",
    "]\n",
    "\n",
    "duplicate_counts = {}\n",
    "\n",
    "for name in df_names:\n",
    "    df = dataframes[name]\n",
    "    duplicate_counts[name] = df.index.duplicated().sum()\n",
    "\n",
    "# Создаем сводную таблицу\n",
    "summary_df = pd.DataFrame(list(duplicate_counts.items()), columns=[\"DataFrame\", \"Duplicate Count\"])\n",
    "\n",
    "# Выводим таблицу\n",
    "print(summary_df.sort_values(by=\"Duplicate Count\", ascending=False))\n"
   ]
  },
  {
   "cell_type": "code",
   "execution_count": null,
   "id": "43abc500-99f2-41c0-8f56-784665884649",
   "metadata": {},
   "outputs": [],
   "source": []
  },
  {
   "cell_type": "code",
   "execution_count": 23,
   "id": "fe484fb0-3d9c-4491-b5f9-5bebf27ab1bf",
   "metadata": {},
   "outputs": [
    {
     "name": "stdout",
     "output_type": "stream",
     "text": [
      "gazp — уникальных дат: 2259, всего строк: 2259\n",
      "sber — уникальных дат: 2259, всего строк: 2259\n"
     ]
    }
   ],
   "source": [
    "for name in ['gazp', 'sber']:\n",
    "    df = dataframes[name].copy()  # Создаём копию, чтобы избежать неожиданных изменений\n",
    "    df = df.loc[~df.index.duplicated(keep='first')]  # Удаляем дубликаты, оставляя первое вхождение\n",
    "    dataframes[name] = df  # Обновляем датафрейм в словаре\n",
    "\n",
    "# Проверяем, что дубликатов больше нет\n",
    "for name in ['gazp', 'sber']:\n",
    "    df = dataframes[name]\n",
    "    print(f\"{name} — уникальных дат: {df.index.nunique()}, всего строк: {len(df)}\")"
   ]
  },
  {
   "cell_type": "code",
   "execution_count": 24,
   "id": "f0b8e5da-7e01-466a-a34b-127cdbc8341e",
   "metadata": {},
   "outputs": [
    {
     "data": {
      "text/plain": [
       "11"
      ]
     },
     "execution_count": 24,
     "metadata": {},
     "output_type": "execute_result"
    }
   ],
   "source": [
    "gazp.index.duplicated().sum()"
   ]
  },
  {
   "cell_type": "code",
   "execution_count": 25,
   "id": "ec941144-77d9-4dde-bfdd-d15338d1af49",
   "metadata": {},
   "outputs": [
    {
     "data": {
      "text/plain": [
       "0"
      ]
     },
     "execution_count": 25,
     "metadata": {},
     "output_type": "execute_result"
    }
   ],
   "source": [
    "dataframes['gazp'].index.duplicated().sum()"
   ]
  },
  {
   "cell_type": "markdown",
   "id": "18c4da76-c563-43c0-b570-58579d867d5b",
   "metadata": {},
   "source": [
    "## Растягиваем помесячные данные на каждый день месяца"
   ]
  },
  {
   "cell_type": "code",
   "execution_count": 27,
   "id": "19c9edc4-118c-438c-9047-bc13daac8549",
   "metadata": {},
   "outputs": [
    {
     "name": "stdout",
     "output_type": "stream",
     "text": [
      "(3259, 2)\n"
     ]
    },
    {
     "data": {
      "text/html": [
       "<div>\n",
       "<style scoped>\n",
       "    .dataframe tbody tr th:only-of-type {\n",
       "        vertical-align: middle;\n",
       "    }\n",
       "\n",
       "    .dataframe tbody tr th {\n",
       "        vertical-align: top;\n",
       "    }\n",
       "\n",
       "    .dataframe thead th {\n",
       "        text-align: right;\n",
       "    }\n",
       "</style>\n",
       "<table border=\"1\" class=\"dataframe\">\n",
       "  <thead>\n",
       "    <tr style=\"text-align: right;\">\n",
       "      <th></th>\n",
       "      <th>Ключевая ставка, % годовых</th>\n",
       "      <th>Инфляция, % г/г</th>\n",
       "    </tr>\n",
       "    <tr>\n",
       "      <th>Дата</th>\n",
       "      <th></th>\n",
       "      <th></th>\n",
       "    </tr>\n",
       "  </thead>\n",
       "  <tbody>\n",
       "    <tr>\n",
       "      <th>2015-11-30</th>\n",
       "      <td>11.0</td>\n",
       "      <td>15.00</td>\n",
       "    </tr>\n",
       "    <tr>\n",
       "      <th>2015-12-01</th>\n",
       "      <td>11.0</td>\n",
       "      <td>15.00</td>\n",
       "    </tr>\n",
       "    <tr>\n",
       "      <th>2015-12-02</th>\n",
       "      <td>11.0</td>\n",
       "      <td>15.00</td>\n",
       "    </tr>\n",
       "    <tr>\n",
       "      <th>2015-12-03</th>\n",
       "      <td>11.0</td>\n",
       "      <td>15.00</td>\n",
       "    </tr>\n",
       "    <tr>\n",
       "      <th>2015-12-04</th>\n",
       "      <td>11.0</td>\n",
       "      <td>15.00</td>\n",
       "    </tr>\n",
       "    <tr>\n",
       "      <th>...</th>\n",
       "      <td>...</td>\n",
       "      <td>...</td>\n",
       "    </tr>\n",
       "    <tr>\n",
       "      <th>2024-10-27</th>\n",
       "      <td>19.0</td>\n",
       "      <td>8.63</td>\n",
       "    </tr>\n",
       "    <tr>\n",
       "      <th>2024-10-28</th>\n",
       "      <td>19.0</td>\n",
       "      <td>8.63</td>\n",
       "    </tr>\n",
       "    <tr>\n",
       "      <th>2024-10-29</th>\n",
       "      <td>19.0</td>\n",
       "      <td>8.63</td>\n",
       "    </tr>\n",
       "    <tr>\n",
       "      <th>2024-10-30</th>\n",
       "      <td>19.0</td>\n",
       "      <td>8.63</td>\n",
       "    </tr>\n",
       "    <tr>\n",
       "      <th>2024-10-31</th>\n",
       "      <td>21.0</td>\n",
       "      <td>8.54</td>\n",
       "    </tr>\n",
       "  </tbody>\n",
       "</table>\n",
       "<p>3259 rows × 2 columns</p>\n",
       "</div>"
      ],
      "text/plain": [
       "            Ключевая ставка, % годовых  Инфляция, % г/г\n",
       "Дата                                                   \n",
       "2015-11-30                        11.0            15.00\n",
       "2015-12-01                        11.0            15.00\n",
       "2015-12-02                        11.0            15.00\n",
       "2015-12-03                        11.0            15.00\n",
       "2015-12-04                        11.0            15.00\n",
       "...                                ...              ...\n",
       "2024-10-27                        19.0             8.63\n",
       "2024-10-28                        19.0             8.63\n",
       "2024-10-29                        19.0             8.63\n",
       "2024-10-30                        19.0             8.63\n",
       "2024-10-31                        21.0             8.54\n",
       "\n",
       "[3259 rows x 2 columns]"
      ]
     },
     "execution_count": 27,
     "metadata": {},
     "output_type": "execute_result"
    }
   ],
   "source": [
    "# inflation_and_key_rate = inflation_and_key_rate.resample('D').ffill()\n",
    "# inflation_and_key_rate.sort_index().shape\n",
    "\n",
    "dataframes['inflation_and_key_rate'] = inflation_and_key_rate.resample('D').ffill().copy()\n",
    "print(dataframes['inflation_and_key_rate'].sort_index().shape)\n",
    "dataframes['inflation_and_key_rate']"
   ]
  },
  {
   "cell_type": "markdown",
   "id": "d91de20c-c027-47e7-9550-b101686f51aa",
   "metadata": {},
   "source": [
    "## Определяем датафрейм с максимальным кол-вом строк"
   ]
  },
  {
   "cell_type": "code",
   "execution_count": 29,
   "id": "dc0c937d-ac50-4e6b-979c-79d134949573",
   "metadata": {},
   "outputs": [
    {
     "name": "stdout",
     "output_type": "stream",
     "text": [
      "                 DataFrame  Duplicate Count\n",
      "16  inflation_and_key_rate             3259\n",
      "1                    brent             2325\n",
      "0                     gold             2313\n",
      "2                     svoe             2295\n",
      "6                    sp500             2266\n",
      "17                   imoex             2261\n",
      "19                    rtsi             2260\n",
      "7                     sber             2259\n",
      "3                     gazp             2259\n",
      "18         moex_blue_chips             2257\n",
      "8                     sngs             2253\n",
      "9                     tath             2253\n",
      "5                     plzl             2253\n",
      "4                     lkoh             2253\n",
      "10                    ydex             2230\n",
      "14           ruble_to_doll             2223\n",
      "15           ruble_to_euro             2223\n",
      "12                   bond5             2216\n",
      "13                   bond1             2210\n",
      "11                   bond3             2207\n"
     ]
    }
   ],
   "source": [
    "df_names = [\n",
    "    \"gold\", \"brent\", \"svoe\", \"gazp\", \"lkoh\", \"plzl\", \"sp500\", \"sber\", \"sngs\", \"tath\", \"ydex\",\n",
    "    \"bond3\", \"bond5\", \"bond1\",\n",
    "    \"ruble_to_doll\", \"ruble_to_euro\",\n",
    "    \"inflation_and_key_rate\",\n",
    "    \"imoex\", \"moex_blue_chips\", \"rtsi\"\n",
    "]\n",
    "\n",
    "duplicate_counts = {}\n",
    "\n",
    "for name in df_names:\n",
    "    df = dataframes[name]\n",
    "    duplicate_counts[name] = len(df)\n",
    "\n",
    "# Создаем сводную таблицу\n",
    "summary_df = pd.DataFrame(list(duplicate_counts.items()), columns=[\"DataFrame\", \"Duplicate Count\"])\n",
    "\n",
    "# Выводим таблицу\n",
    "print(summary_df.sort_values(by=\"Duplicate Count\", ascending=False))"
   ]
  },
  {
   "cell_type": "markdown",
   "id": "3bf185af-143d-491c-93b7-228f2f24fd24",
   "metadata": {},
   "source": [
    "## Объединяем все df"
   ]
  },
  {
   "cell_type": "code",
   "execution_count": 31,
   "id": "1153e29c-a5f5-4cce-a619-38562b5d7db7",
   "metadata": {},
   "outputs": [],
   "source": [
    "combined_df = dataframes['brent'].rename(columns=lambda col: f\"brent_{col}\")\n",
    "\n",
    "for name, df in dataframes.items():\n",
    "    if name == 'brent':\n",
    "        continue  # Пропускаем, т.к. он уже в основе\n",
    "    df = df.add_prefix(f'{name}_')\n",
    "    combined_df = combined_df.join(df, how='left')\n"
   ]
  },
  {
   "cell_type": "code",
   "execution_count": 32,
   "id": "fd9dfdb2-9f58-4bca-b67b-d0f898931bb7",
   "metadata": {},
   "outputs": [],
   "source": [
    "combined_df = combined_df.sort_index()"
   ]
  },
  {
   "cell_type": "code",
   "execution_count": 33,
   "id": "147e9ebd-7a47-4aac-91b1-8df57763e60c",
   "metadata": {},
   "outputs": [],
   "source": [
    "df = combined_df.copy()"
   ]
  },
  {
   "cell_type": "code",
   "execution_count": 34,
   "id": "aea9eb18-e55c-4dd6-84ad-c22205168dd3",
   "metadata": {},
   "outputs": [
    {
     "name": "stdout",
     "output_type": "stream",
     "text": [
      "Размерность датафрейма:\n",
      "(2325, 72)\n",
      "\n",
      "Сводка по отсутствующим значениям и уникальным значениям:\n"
     ]
    },
    {
     "data": {
      "text/html": [
       "<div>\n",
       "<style scoped>\n",
       "    .dataframe tbody tr th:only-of-type {\n",
       "        vertical-align: middle;\n",
       "    }\n",
       "\n",
       "    .dataframe tbody tr th {\n",
       "        vertical-align: top;\n",
       "    }\n",
       "\n",
       "    .dataframe thead th {\n",
       "        text-align: right;\n",
       "    }\n",
       "</style>\n",
       "<table border=\"1\" class=\"dataframe\">\n",
       "  <thead>\n",
       "    <tr style=\"text-align: right;\">\n",
       "      <th></th>\n",
       "      <th>Missing Values Count</th>\n",
       "      <th>Missing Values Percentage</th>\n",
       "      <th>Unique Values Count</th>\n",
       "    </tr>\n",
       "  </thead>\n",
       "  <tbody>\n",
       "    <tr>\n",
       "      <th>ruble_to_euro_curs</th>\n",
       "      <td>568</td>\n",
       "      <td>24.43</td>\n",
       "      <td>1756</td>\n",
       "    </tr>\n",
       "    <tr>\n",
       "      <th>ruble_to_doll_curs</th>\n",
       "      <td>568</td>\n",
       "      <td>24.43</td>\n",
       "      <td>1751</td>\n",
       "    </tr>\n",
       "    <tr>\n",
       "      <th>bond3_Мин.</th>\n",
       "      <td>172</td>\n",
       "      <td>7.40</td>\n",
       "      <td>701</td>\n",
       "    </tr>\n",
       "    <tr>\n",
       "      <th>bond3_Макс.</th>\n",
       "      <td>172</td>\n",
       "      <td>7.40</td>\n",
       "      <td>723</td>\n",
       "    </tr>\n",
       "    <tr>\n",
       "      <th>bond3_Откр.</th>\n",
       "      <td>172</td>\n",
       "      <td>7.40</td>\n",
       "      <td>726</td>\n",
       "    </tr>\n",
       "    <tr>\n",
       "      <th>...</th>\n",
       "      <td>...</td>\n",
       "      <td>...</td>\n",
       "      <td>...</td>\n",
       "    </tr>\n",
       "    <tr>\n",
       "      <th>gold_Цена</th>\n",
       "      <td>12</td>\n",
       "      <td>0.52</td>\n",
       "      <td>1994</td>\n",
       "    </tr>\n",
       "    <tr>\n",
       "      <th>brent_Макс.</th>\n",
       "      <td>0</td>\n",
       "      <td>0.00</td>\n",
       "      <td>1932</td>\n",
       "    </tr>\n",
       "    <tr>\n",
       "      <th>brent_Откр.</th>\n",
       "      <td>0</td>\n",
       "      <td>0.00</td>\n",
       "      <td>1941</td>\n",
       "    </tr>\n",
       "    <tr>\n",
       "      <th>brent_Мин.</th>\n",
       "      <td>0</td>\n",
       "      <td>0.00</td>\n",
       "      <td>1923</td>\n",
       "    </tr>\n",
       "    <tr>\n",
       "      <th>brent_Цена</th>\n",
       "      <td>0</td>\n",
       "      <td>0.00</td>\n",
       "      <td>1935</td>\n",
       "    </tr>\n",
       "  </tbody>\n",
       "</table>\n",
       "<p>72 rows × 3 columns</p>\n",
       "</div>"
      ],
      "text/plain": [
       "                    Missing Values Count  Missing Values Percentage  \\\n",
       "ruble_to_euro_curs                   568                      24.43   \n",
       "ruble_to_doll_curs                   568                      24.43   \n",
       "bond3_Мин.                           172                       7.40   \n",
       "bond3_Макс.                          172                       7.40   \n",
       "bond3_Откр.                          172                       7.40   \n",
       "...                                  ...                        ...   \n",
       "gold_Цена                             12                       0.52   \n",
       "brent_Макс.                            0                       0.00   \n",
       "brent_Откр.                            0                       0.00   \n",
       "brent_Мин.                             0                       0.00   \n",
       "brent_Цена                             0                       0.00   \n",
       "\n",
       "                    Unique Values Count  \n",
       "ruble_to_euro_curs                 1756  \n",
       "ruble_to_doll_curs                 1751  \n",
       "bond3_Мин.                          701  \n",
       "bond3_Макс.                         723  \n",
       "bond3_Откр.                         726  \n",
       "...                                 ...  \n",
       "gold_Цена                          1994  \n",
       "brent_Макс.                        1932  \n",
       "brent_Откр.                        1941  \n",
       "brent_Мин.                         1923  \n",
       "brent_Цена                         1935  \n",
       "\n",
       "[72 rows x 3 columns]"
      ]
     },
     "execution_count": 34,
     "metadata": {},
     "output_type": "execute_result"
    }
   ],
   "source": [
    "print(\"Размерность датафрейма:\")\n",
    "print(df.shape)\n",
    "print()\n",
    "missing_values_count = df.isna().sum()  # Общее количество пропущенных значений\n",
    "missing_values_percentage = (df.isna().mean() * 100).round(2)  # Процент пропущенных значений\n",
    "unique_values_count = df.nunique()  # Количество уникальных значений в каждом столбце\n",
    "\n",
    "missing_summary = pd.DataFrame({\n",
    "    'Missing Values Count': missing_values_count,\n",
    "    'Missing Values Percentage': missing_values_percentage,\n",
    "    'Unique Values Count': unique_values_count\n",
    "})\n",
    "\n",
    "print(\"Сводка по отсутствующим значениям и уникальным значениям:\")\n",
    "missing_summary.sort_values('Missing Values Count', ascending=False)"
   ]
  },
  {
   "cell_type": "code",
   "execution_count": null,
   "id": "0a813e64-ebb5-4a79-b5c7-4b8db8888aa2",
   "metadata": {},
   "outputs": [],
   "source": []
  },
  {
   "cell_type": "markdown",
   "id": "a5413b2e-320c-4c1c-8435-0700994ce286",
   "metadata": {},
   "source": [
    "## Исправление проблем в df"
   ]
  },
  {
   "cell_type": "code",
   "execution_count": 36,
   "id": "5eea8f86-0278-4e7f-b4d1-bb0a1aad3bed",
   "metadata": {},
   "outputs": [],
   "source": [
    "# Обработать Nan через интерполяцию и выкидывание столбцов\n",
    "# Когда биржа не работала не заполнять\n",
    "# На день прогнозировать неинтересно, надо на неделю, то есть смещать на 5 дней\n",
    "# Отсутствующие данные либо выкинуть либо интерполяция, замена средним"
   ]
  },
  {
   "cell_type": "code",
   "execution_count": 37,
   "id": "cc44b9f9-166f-46e2-b57b-1f31ec5ff149",
   "metadata": {},
   "outputs": [
    {
     "name": "stdout",
     "output_type": "stream",
     "text": [
      "1757\n"
     ]
    }
   ],
   "source": [
    "print(ruble_to_doll.index.intersection(brent.index).size)"
   ]
  },
  {
   "cell_type": "markdown",
   "id": "0cef1618-2272-4605-b1e5-019fd3c71477",
   "metadata": {},
   "source": [
    "### Фиксим запятые и точки"
   ]
  },
  {
   "cell_type": "code",
   "execution_count": 39,
   "id": "928aeeff-9938-4a30-9bb3-5c2bbdb50517",
   "metadata": {},
   "outputs": [],
   "source": [
    "def normalize_numbers(x):\n",
    "    if isinstance(x, str):\n",
    "        # Случай 1: запятая как десятичный разделитель (1.073,80 → 1073.80)\n",
    "        if '.' in x and ',' in x:\n",
    "            return x.replace('.', '').replace(',', '.')\n",
    "        \n",
    "        # # Случай 2: точка как десятичный разделитель (10,280 → 10.280)\n",
    "        # elif ',' in x and x.count(',') == 1:\n",
    "        #     return x.replace(',', '')\n",
    "        \n",
    "        # Случай 3: только запятая как десятичный разделитель\n",
    "        elif ',' in x:\n",
    "            return x.replace(',', '.')\n",
    "    return x\n",
    "\n",
    "# Применяем ко всем столбцам\n",
    "df = df.map(normalize_numbers)\n"
   ]
  },
  {
   "cell_type": "markdown",
   "id": "f70ab66d-c6f8-4760-a99c-e71964281d9e",
   "metadata": {},
   "source": [
    "### Преобразуем все колонки df в float"
   ]
  },
  {
   "cell_type": "code",
   "execution_count": 41,
   "id": "db2b3358-7623-462d-8fd8-55f0182dff88",
   "metadata": {},
   "outputs": [],
   "source": [
    "df = df.map(lambda x: pd.to_numeric(x, errors='coerce'))"
   ]
  },
  {
   "cell_type": "code",
   "execution_count": 42,
   "id": "825893b5-26a9-41c4-92c5-d02e32f4a9eb",
   "metadata": {},
   "outputs": [],
   "source": [
    "# проверил методом пристального взгляда, вроде все ок и новых nan не стало "
   ]
  },
  {
   "cell_type": "markdown",
   "id": "f50417f3-354a-421d-91ce-a258642a47fa",
   "metadata": {},
   "source": [
    "### 568 Nan в ruble_to_dollar и brent"
   ]
  },
  {
   "cell_type": "code",
   "execution_count": 44,
   "id": "95b91c6b-dd66-4769-9765-57945f39e8f3",
   "metadata": {},
   "outputs": [],
   "source": [
    "# Это просто так собраны данные? "
   ]
  },
  {
   "cell_type": "code",
   "execution_count": 45,
   "id": "c20caa1b-32aa-4c92-be31-1ad6195ea505",
   "metadata": {},
   "outputs": [],
   "source": [
    "# Пока что дропнем эти колонки где много NaN"
   ]
  },
  {
   "cell_type": "code",
   "execution_count": 46,
   "id": "5e770dda-347f-4d61-9ae6-d41b3650649c",
   "metadata": {},
   "outputs": [],
   "source": [
    "# df = df.drop(['ruble_to_doll_curs', 'ruble_to_euro_curs'], axis=1)"
   ]
  },
  {
   "cell_type": "code",
   "execution_count": null,
   "id": "c6269e07-a18a-496d-93d1-3468e84a2ac4",
   "metadata": {},
   "outputs": [],
   "source": []
  },
  {
   "cell_type": "markdown",
   "id": "173735ab-4229-4188-a051-dbb544963e6f",
   "metadata": {},
   "source": [
    "## 1. Заполнение отсутствующих значений"
   ]
  },
  {
   "cell_type": "code",
   "execution_count": 48,
   "id": "fa7f53a0-0476-40f8-a172-e0454f7ece05",
   "metadata": {},
   "outputs": [
    {
     "name": "stdout",
     "output_type": "stream",
     "text": [
      "Размерность датафрейма:\n",
      "(2325, 72)\n",
      "\n",
      "Сводка по отсутствующим значениям и уникальным значениям:\n"
     ]
    },
    {
     "data": {
      "text/html": [
       "<div>\n",
       "<style scoped>\n",
       "    .dataframe tbody tr th:only-of-type {\n",
       "        vertical-align: middle;\n",
       "    }\n",
       "\n",
       "    .dataframe tbody tr th {\n",
       "        vertical-align: top;\n",
       "    }\n",
       "\n",
       "    .dataframe thead th {\n",
       "        text-align: right;\n",
       "    }\n",
       "</style>\n",
       "<table border=\"1\" class=\"dataframe\">\n",
       "  <thead>\n",
       "    <tr style=\"text-align: right;\">\n",
       "      <th></th>\n",
       "      <th>Missing Values Count</th>\n",
       "      <th>Missing Values Percentage</th>\n",
       "      <th>Unique Values Count</th>\n",
       "    </tr>\n",
       "  </thead>\n",
       "  <tbody>\n",
       "    <tr>\n",
       "      <th>ruble_to_euro_curs</th>\n",
       "      <td>568</td>\n",
       "      <td>24.43</td>\n",
       "      <td>1756</td>\n",
       "    </tr>\n",
       "    <tr>\n",
       "      <th>ruble_to_doll_curs</th>\n",
       "      <td>568</td>\n",
       "      <td>24.43</td>\n",
       "      <td>1751</td>\n",
       "    </tr>\n",
       "    <tr>\n",
       "      <th>bond3_Мин.</th>\n",
       "      <td>172</td>\n",
       "      <td>7.40</td>\n",
       "      <td>701</td>\n",
       "    </tr>\n",
       "    <tr>\n",
       "      <th>bond3_Макс.</th>\n",
       "      <td>172</td>\n",
       "      <td>7.40</td>\n",
       "      <td>723</td>\n",
       "    </tr>\n",
       "    <tr>\n",
       "      <th>bond3_Откр.</th>\n",
       "      <td>172</td>\n",
       "      <td>7.40</td>\n",
       "      <td>726</td>\n",
       "    </tr>\n",
       "    <tr>\n",
       "      <th>bond3_Цена</th>\n",
       "      <td>172</td>\n",
       "      <td>7.40</td>\n",
       "      <td>730</td>\n",
       "    </tr>\n",
       "    <tr>\n",
       "      <th>bond1_Макс.</th>\n",
       "      <td>170</td>\n",
       "      <td>7.31</td>\n",
       "      <td>882</td>\n",
       "    </tr>\n",
       "    <tr>\n",
       "      <th>bond1_Откр.</th>\n",
       "      <td>170</td>\n",
       "      <td>7.31</td>\n",
       "      <td>865</td>\n",
       "    </tr>\n",
       "    <tr>\n",
       "      <th>bond1_Цена</th>\n",
       "      <td>170</td>\n",
       "      <td>7.31</td>\n",
       "      <td>868</td>\n",
       "    </tr>\n",
       "    <tr>\n",
       "      <th>bond1_Мин.</th>\n",
       "      <td>170</td>\n",
       "      <td>7.31</td>\n",
       "      <td>850</td>\n",
       "    </tr>\n",
       "    <tr>\n",
       "      <th>bond5_Цена</th>\n",
       "      <td>167</td>\n",
       "      <td>7.18</td>\n",
       "      <td>704</td>\n",
       "    </tr>\n",
       "    <tr>\n",
       "      <th>bond5_Мин.</th>\n",
       "      <td>167</td>\n",
       "      <td>7.18</td>\n",
       "      <td>693</td>\n",
       "    </tr>\n",
       "    <tr>\n",
       "      <th>bond5_Макс.</th>\n",
       "      <td>167</td>\n",
       "      <td>7.18</td>\n",
       "      <td>703</td>\n",
       "    </tr>\n",
       "    <tr>\n",
       "      <th>bond5_Откр.</th>\n",
       "      <td>167</td>\n",
       "      <td>7.18</td>\n",
       "      <td>686</td>\n",
       "    </tr>\n",
       "    <tr>\n",
       "      <th>ydex_Мин.</th>\n",
       "      <td>119</td>\n",
       "      <td>5.12</td>\n",
       "      <td>1874</td>\n",
       "    </tr>\n",
       "    <tr>\n",
       "      <th>ydex_Макс.</th>\n",
       "      <td>119</td>\n",
       "      <td>5.12</td>\n",
       "      <td>1868</td>\n",
       "    </tr>\n",
       "    <tr>\n",
       "      <th>ydex_Откр.</th>\n",
       "      <td>119</td>\n",
       "      <td>5.12</td>\n",
       "      <td>1813</td>\n",
       "    </tr>\n",
       "    <tr>\n",
       "      <th>ydex_Цена</th>\n",
       "      <td>119</td>\n",
       "      <td>5.12</td>\n",
       "      <td>1938</td>\n",
       "    </tr>\n",
       "    <tr>\n",
       "      <th>sngs_Откр.</th>\n",
       "      <td>96</td>\n",
       "      <td>4.13</td>\n",
       "      <td>1563</td>\n",
       "    </tr>\n",
       "    <tr>\n",
       "      <th>sngs_Макс.</th>\n",
       "      <td>96</td>\n",
       "      <td>4.13</td>\n",
       "      <td>1648</td>\n",
       "    </tr>\n",
       "  </tbody>\n",
       "</table>\n",
       "</div>"
      ],
      "text/plain": [
       "                    Missing Values Count  Missing Values Percentage  \\\n",
       "ruble_to_euro_curs                   568                      24.43   \n",
       "ruble_to_doll_curs                   568                      24.43   \n",
       "bond3_Мин.                           172                       7.40   \n",
       "bond3_Макс.                          172                       7.40   \n",
       "bond3_Откр.                          172                       7.40   \n",
       "bond3_Цена                           172                       7.40   \n",
       "bond1_Макс.                          170                       7.31   \n",
       "bond1_Откр.                          170                       7.31   \n",
       "bond1_Цена                           170                       7.31   \n",
       "bond1_Мин.                           170                       7.31   \n",
       "bond5_Цена                           167                       7.18   \n",
       "bond5_Мин.                           167                       7.18   \n",
       "bond5_Макс.                          167                       7.18   \n",
       "bond5_Откр.                          167                       7.18   \n",
       "ydex_Мин.                            119                       5.12   \n",
       "ydex_Макс.                           119                       5.12   \n",
       "ydex_Откр.                           119                       5.12   \n",
       "ydex_Цена                            119                       5.12   \n",
       "sngs_Откр.                            96                       4.13   \n",
       "sngs_Макс.                            96                       4.13   \n",
       "\n",
       "                    Unique Values Count  \n",
       "ruble_to_euro_curs                 1756  \n",
       "ruble_to_doll_curs                 1751  \n",
       "bond3_Мин.                          701  \n",
       "bond3_Макс.                         723  \n",
       "bond3_Откр.                         726  \n",
       "bond3_Цена                          730  \n",
       "bond1_Макс.                         882  \n",
       "bond1_Откр.                         865  \n",
       "bond1_Цена                          868  \n",
       "bond1_Мин.                          850  \n",
       "bond5_Цена                          704  \n",
       "bond5_Мин.                          693  \n",
       "bond5_Макс.                         703  \n",
       "bond5_Откр.                         686  \n",
       "ydex_Мин.                          1874  \n",
       "ydex_Макс.                         1868  \n",
       "ydex_Откр.                         1813  \n",
       "ydex_Цена                          1938  \n",
       "sngs_Откр.                         1563  \n",
       "sngs_Макс.                         1648  "
      ]
     },
     "execution_count": 48,
     "metadata": {},
     "output_type": "execute_result"
    }
   ],
   "source": [
    "print(\"Размерность датафрейма:\")\n",
    "print(df.shape)\n",
    "print()\n",
    "missing_values_count = df.isna().sum()  # Общее количество пропущенных значений\n",
    "missing_values_percentage = (df.isna().mean() * 100).round(2)  # Процент пропущенных значений\n",
    "unique_values_count = df.nunique()  # Количество уникальных значений в каждом столбце\n",
    "\n",
    "missing_summary = pd.DataFrame({\n",
    "    'Missing Values Count': missing_values_count,\n",
    "    'Missing Values Percentage': missing_values_percentage,\n",
    "    'Unique Values Count': unique_values_count\n",
    "})\n",
    "\n",
    "print(\"Сводка по отсутствующим значениям и уникальным значениям:\")\n",
    "missing_summary.sort_values('Missing Values Count', ascending=False).iloc[:20]"
   ]
  },
  {
   "cell_type": "code",
   "execution_count": 49,
   "id": "d22f60a9-434a-4fbf-a469-c854841f6454",
   "metadata": {},
   "outputs": [
    {
     "data": {
      "text/plain": [
       "Index(['brent_Цена', 'brent_Откр.', 'brent_Макс.', 'brent_Мин.', 'gold_Цена',\n",
       "       'gold_Откр.', 'gold_Макс.', 'gold_Мин.', 'svoe_Цена', 'svoe_Откр.',\n",
       "       'svoe_Макс.', 'svoe_Мин.', 'gazp_Цена', 'gazp_Откр.', 'gazp_Макс.',\n",
       "       'gazp_Мин.', 'lkoh_Цена', 'lkoh_Откр.', 'lkoh_Макс.', 'lkoh_Мин.',\n",
       "       'plzl_Цена', 'plzl_Откр.', 'plzl_Макс.', 'plzl_Мин.', 'sp500_Цена',\n",
       "       'sp500_Откр.', 'sp500_Макс.', 'sp500_Мин.', 'sber_Цена', 'sber_Откр.',\n",
       "       'sber_Макс.', 'sber_Мин.', 'sngs_Цена', 'sngs_Откр.', 'sngs_Макс.',\n",
       "       'sngs_Мин.', 'tath_Цена', 'tath_Откр.', 'tath_Макс.', 'tath_Мин.',\n",
       "       'ydex_Цена', 'ydex_Откр.', 'ydex_Макс.', 'ydex_Мин.', 'bond3_Цена',\n",
       "       'bond3_Откр.', 'bond3_Макс.', 'bond3_Мин.', 'bond5_Цена', 'bond5_Откр.',\n",
       "       'bond5_Макс.', 'bond5_Мин.', 'bond1_Цена', 'bond1_Откр.', 'bond1_Макс.',\n",
       "       'bond1_Мин.', 'ruble_to_doll_curs', 'ruble_to_euro_curs',\n",
       "       'inflation_and_key_rate_Ключевая ставка, % годовых',\n",
       "       'inflation_and_key_rate_Инфляция, % г/г', 'imoex_CLOSE', 'imoex_OPEN',\n",
       "       'imoex_HIGH', 'imoex_LOW', 'moex_blue_chips_CLOSE',\n",
       "       'moex_blue_chips_OPEN', 'moex_blue_chips_HIGH', 'moex_blue_chips_LOW',\n",
       "       'rtsi_CLOSE', 'rtsi_OPEN', 'rtsi_HIGH', 'rtsi_LOW'],\n",
       "      dtype='object')"
      ]
     },
     "execution_count": 49,
     "metadata": {},
     "output_type": "execute_result"
    }
   ],
   "source": [
    "df.columns"
   ]
  },
  {
   "cell_type": "code",
   "execution_count": 50,
   "id": "14c3dcc3-9c68-46d3-a782-4c3a6db45cab",
   "metadata": {},
   "outputs": [
    {
     "data": {
      "text/plain": [
       "96"
      ]
     },
     "execution_count": 50,
     "metadata": {},
     "output_type": "execute_result"
    }
   ],
   "source": [
    "df['lkoh_Цена'].isna().sum()"
   ]
  },
  {
   "cell_type": "code",
   "execution_count": null,
   "id": "1603f4ff-b122-4f12-a592-7f427e3e461a",
   "metadata": {},
   "outputs": [],
   "source": []
  },
  {
   "cell_type": "code",
   "execution_count": 51,
   "id": "35df3e7f-ae9d-4b33-ab3e-053d9353ec06",
   "metadata": {},
   "outputs": [
    {
     "data": {
      "image/png": "[encoded data removed]",
      "text/plain": [
       "<Figure size 1200x600 with 1 Axes>"
      ]
     },
     "metadata": {},
     "output_type": "display_data"
    }
   ],
   "source": [
    "col = 'lkoh_Цена'\n",
    "\n",
    "plt.figure(figsize=(12,6))\n",
    "plt.plot(df[col], label=col, color='blue', alpha=0.6, linewidth=1)\n",
    "\n",
    "# Отображение пропущенных значений\n",
    "nan_indices = df[col].isna()\n",
    "plt.scatter(df.index[nan_indices], df[col].interpolate()[nan_indices], \n",
    "            marker='x', color='red', label='Пропущенные значения', s=40)\n",
    "\n",
    "plt.title(col)\n",
    "plt.xlabel('Дата')\n",
    "plt.ylabel('Стоимость')\n",
    "plt.legend()\n",
    "plt.show()"
   ]
  },
  {
   "attachments": {},
   "cell_type": "markdown",
   "id": "17153678-2230-4418-b4e2-56ebb560adc2",
   "metadata": {},
   "source": [
    "По рос акциям чуть позже начала 2020 года и чуть позже начала 2022 какая то лютая проблема с Nan - оч много идет подряд \\\n",
    "Пока что имеет смысл дропнуть яндекс и рос гос облигации"
   ]
  },
  {
   "cell_type": "code",
   "execution_count": 53,
   "id": "9f24c927-d5bf-4e53-94ff-b2aa9a64cad5",
   "metadata": {},
   "outputs": [],
   "source": [
    "drop_cols = ['ydex', 'bond3', 'bond5', 'bond1', 'ruble_to_doll', 'ruble_to_euro']\n",
    "df = df.drop(columns=[col for col in df.columns if any(word in col for word in drop_cols)])"
   ]
  },
  {
   "cell_type": "code",
   "execution_count": null,
   "id": "862fe37b-be6e-4ec8-82cd-8e3f213b9793",
   "metadata": {},
   "outputs": [],
   "source": []
  },
  {
   "cell_type": "markdown",
   "id": "17076dc1-d43f-4bb6-a5c2-8cfa07d4ba5c",
   "metadata": {},
   "source": [
    "### Интерполяция"
   ]
  },
  {
   "cell_type": "code",
   "execution_count": 55,
   "id": "49580ec7-2729-4741-ac71-b777485db03a",
   "metadata": {},
   "outputs": [],
   "source": [
    "# df['lkoh_Цена'] = df['lkoh_Цена'].interpolate(method='linear') # Использует две соседние точки\n",
    "# df['lkoh_Цена'] = df['lkoh_Цена'].interpolate(method='spline', order=2) # использует весь набор данных\n",
    "# df['lkoh_Цена'] = df['lkoh_Цена'].fillna(method='ffill') # заполнение предыдущим значением"
   ]
  },
  {
   "cell_type": "code",
   "execution_count": 56,
   "id": "5e2b8627-2772-4647-83f5-2dfea85c92f9",
   "metadata": {},
   "outputs": [],
   "source": [
    "df['lkoh_Цена'] = df['lkoh_Цена'].interpolate(method='linear') # Использует две соседние точки"
   ]
  },
  {
   "cell_type": "code",
   "execution_count": 57,
   "id": "764fea17-2dc9-494b-8110-d0675612751a",
   "metadata": {},
   "outputs": [
    {
     "data": {
      "image/png": "[encoded data removed]",
      "text/plain": [
       "<Figure size 1200x600 with 1 Axes>"
      ]
     },
     "metadata": {},
     "output_type": "display_data"
    }
   ],
   "source": [
    "col = 'lkoh_Цена'\n",
    "\n",
    "plt.figure(figsize=(12,6))\n",
    "plt.plot(df[col], label=col, color='blue', alpha=0.6, linewidth=1)\n",
    "\n",
    "# Отображение пропущенных значений\n",
    "nan_indices = df[col].isna()\n",
    "plt.scatter(df.index[nan_indices], df[col].interpolate()[nan_indices], \n",
    "            marker='x', color='red', label='Пропущенные значения', s=40)\n",
    "\n",
    "plt.title(col)\n",
    "plt.xlabel('Дата')\n",
    "plt.ylabel('Стоимость')\n",
    "plt.legend()\n",
    "plt.show()"
   ]
  },
  {
   "cell_type": "code",
   "execution_count": null,
   "id": "3f98f253-403b-4c55-bdb2-d1d2369af9d0",
   "metadata": {},
   "outputs": [],
   "source": []
  },
  {
   "cell_type": "code",
   "execution_count": 58,
   "id": "c21bfff1-69c2-45e1-98da-10c320b56a5d",
   "metadata": {},
   "outputs": [],
   "source": [
    "for i in df.columns:\n",
    "    df[i] = df[i].interpolate(method='linear') # Использует две соседние точки"
   ]
  },
  {
   "cell_type": "markdown",
   "id": "24805a53-ad13-472f-8bc0-7e29fed8c83c",
   "metadata": {},
   "source": [
    "### bfill"
   ]
  },
  {
   "cell_type": "code",
   "execution_count": 60,
   "id": "52a22e72-9d2d-45e7-867b-6d69a7b25383",
   "metadata": {},
   "outputs": [
    {
     "data": {
      "text/plain": [
       "['inflation_and_key_rate_Ключевая ставка, % годовых',\n",
       " 'inflation_and_key_rate_Инфляция, % г/г']"
      ]
     },
     "execution_count": 60,
     "metadata": {},
     "output_type": "execute_result"
    }
   ],
   "source": [
    "df.columns[df.isna().any()].tolist()"
   ]
  },
  {
   "cell_type": "code",
   "execution_count": 61,
   "id": "ab25751f-bebb-4e38-bdd6-05b612e7da45",
   "metadata": {},
   "outputs": [],
   "source": [
    "# df[['inflation_and_key_rate_Инфляция, % г/г', 'inflation_and_key_rate_Ключевая ставка, % годовых']]"
   ]
  },
  {
   "cell_type": "code",
   "execution_count": null,
   "id": "b3f978eb-ed9e-4f29-9bca-b69c270fe6c2",
   "metadata": {},
   "outputs": [],
   "source": []
  },
  {
   "cell_type": "code",
   "execution_count": 62,
   "id": "55e7bf62-22b4-4c1c-84ca-012b053e9ff4",
   "metadata": {},
   "outputs": [],
   "source": [
    "# Заполняю оставшиеся значения (их было 4) просто методом bfill\n",
    "# Для этих значений просто самая первая строка временного ряда была тоже NaN и интерполяция не помогла\n",
    "\n",
    "for i in df.columns[df.isna().any()].tolist():\n",
    "    df[i] = df[i].bfill() # заполнение предыдущим значением"
   ]
  },
  {
   "cell_type": "code",
   "execution_count": 63,
   "id": "3644f27a-e7fb-498c-99b7-977a60573005",
   "metadata": {},
   "outputs": [],
   "source": [
    "# df[['inflation_and_key_rate_Инфляция, % г/г', 'inflation_and_key_rate_Ключевая ставка, % годовых']]"
   ]
  },
  {
   "cell_type": "code",
   "execution_count": null,
   "id": "c79716dc-cf21-42a6-8cdd-aed06429ef73",
   "metadata": {},
   "outputs": [],
   "source": []
  },
  {
   "cell_type": "code",
   "execution_count": 64,
   "id": "fa176272-f4bf-4d1c-b822-2762e2d26cf5",
   "metadata": {},
   "outputs": [],
   "source": [
    "# print(\"Размерность датафрейма:\")\n",
    "# print(df.shape)\n",
    "# print()\n",
    "# missing_values_count = df.isna().sum()  # Общее количество пропущенных значений\n",
    "# missing_values_percentage = (df.isna().mean() * 100).round(2)  # Процент пропущенных значений\n",
    "# unique_values_count = df.nunique()  # Количество уникальных значений в каждом столбце\n",
    "\n",
    "# missing_summary = pd.DataFrame({\n",
    "#     'Missing Values Count': missing_values_count,\n",
    "#     'Missing Values Percentage': missing_values_percentage,\n",
    "#     'Unique Values Count': unique_values_count\n",
    "# })\n",
    "\n",
    "# print(\"Сводка по отсутствующим значениям и уникальным значениям:\")\n",
    "# missing_summary.sort_values('Missing Values Count', ascending=False)"
   ]
  },
  {
   "cell_type": "markdown",
   "id": "338a9658-6136-464d-a484-48a804d8197b",
   "metadata": {},
   "source": [
    "## Реализованная волатильность"
   ]
  },
  {
   "cell_type": "code",
   "execution_count": 66,
   "id": "cf394781-7ef8-40e2-bbec-353f32282499",
   "metadata": {},
   "outputs": [],
   "source": [
    "# Этот код рассчитывает логарифмическую доходность для каждого индекса. \n",
    "# Логарифмическая доходность используется вместо простой разницы, чтобы сделать данные более нормально распределенными и облегчить последующие расчеты.\n",
    "\n",
    "df['imoex_ret'] = np.log(df['imoex_CLOSE'] / df['imoex_CLOSE'].shift(1))\n",
    "df['moex_blue_chips_ret'] = np.log(df['moex_blue_chips_CLOSE'] / df['moex_blue_chips_CLOSE'].shift(1))\n",
    "df['rtsi_ret'] = np.log(df['rtsi_CLOSE'] / df['rtsi_CLOSE'].shift(1))\n",
    "\n",
    "# Волатильность рассчитывается как квадрат доходности. Это основано на концепции Realized Volatility (RV), \n",
    "# которая является мерой исторической волатильности.\n",
    "\n",
    "df['imoex_RV'] = df['imoex_ret']**2\n",
    "df['moex_blue_chips_RV'] = df['moex_blue_chips_ret']**2\n",
    "df['rtsi_RV'] = df['rtsi_ret']**2\n",
    "\n",
    "# Скользящая сумма используется для агрегации волатильности за определенный период (в данном случае 5 дней). \n",
    "# Это позволяет учитывать историческую волатильность за неделю, что может быть полезно для прогнозирования будущей волатильности.\n",
    "\n",
    "df['imoex_RV_weekly'] = df['imoex_RV'].rolling(5).sum()\n",
    "df['moex_blue_chips_RV_weekly'] = df['moex_blue_chips_RV'].rolling(5).sum()\n",
    "df['rtsi_RV_weekly'] = df['rtsi_RV'].rolling(5).sum()\n",
    "\n",
    "# Скользящая сумма используется для агрегации волатильности за определенный период (в данном случае 5 дней). \n",
    "# Это позволяет учитывать историческую волатильность за неделю, что может быть полезно для прогнозирования будущей волатильности.\n",
    "\n",
    "df['imoex_RV_target'] = df['imoex_RV_weekly'].shift(-5)\n",
    "# df['moex_blue_chips_RV_target'] = df['moex_blue_chips_RV_weekly'].shift(-5)\n",
    "# df['rtsi_RV_target'] = df['rtsi_RV_weekly'].shift(-5)\n",
    "\n",
    "# раскомментировать если буду проверять на другом индексе "
   ]
  },
  {
   "cell_type": "code",
   "execution_count": 67,
   "id": "c42597cc-6878-49cb-a6b3-0151ddeec2a9",
   "metadata": {},
   "outputs": [],
   "source": [
    "# df = df.dropna(subset=['imoex_RV_target'])"
   ]
  },
  {
   "cell_type": "code",
   "execution_count": 68,
   "id": "fefeb2aa-0781-4366-96d0-4477cc9511a7",
   "metadata": {},
   "outputs": [],
   "source": [
    "df = df.dropna()"
   ]
  },
  {
   "cell_type": "markdown",
   "id": "39bb1034-6b1d-427e-bb50-be96dac579c9",
   "metadata": {},
   "source": [
    "## Expanding Window Validation"
   ]
  },
  {
   "cell_type": "code",
   "execution_count": 70,
   "id": "229528d1-da96-4fb8-996c-4d6014c51975",
   "metadata": {},
   "outputs": [],
   "source": [
    "# import pandas as pd\n",
    "# from sklearn.ensemble import RandomForestRegressor\n",
    "# from sklearn.metrics import mean_squared_error\n",
    "# from tqdm import tqdm\n",
    "\n",
    "# def rolling_window_validation(df, test_size=10, window_size=1000, n_estimators_start=10, n_estimators_step=5):\n",
    "#     assert test_size % 5 == 0, \"test_size должен быть кратен 5\"\n",
    "\n",
    "#     train_size = len(df) - test_size\n",
    "#     X = df.drop(['imoex_RV_target'], axis=1)\n",
    "#     y = df['imoex_RV_target']\n",
    "\n",
    "#     errors = []\n",
    "#     model = RandomForestRegressor(n_estimators=n_estimators_start, random_state=42, warm_start=True, n_jobs=-1)\n",
    "\n",
    "#     # Итеративное тестирование\n",
    "#     for i in tqdm(range(window_size, train_size, 5), desc=\"Обучение модели\"):\n",
    "#         X_train = X[i-window_size:i]\n",
    "#         y_train = y[i-window_size:i]\n",
    "\n",
    "#         X_test = X[i:i+5]\n",
    "#         y_test = y[i:i+5]\n",
    "\n",
    "#         if len(X_test) < 5:\n",
    "#             break\n",
    "\n",
    "#         # Увеличиваем количество деревьев\n",
    "#         model.n_estimators += n_estimators_step  \n",
    "#         model.fit(X_train, y_train)\n",
    "\n",
    "#         # Предсказания\n",
    "#         y_pred = model.predict(X_test)\n",
    "\n",
    "#         # Оценка ошибки\n",
    "#         mse = mean_squared_error(y_test, y_pred)\n",
    "#         errors.append(mse)\n",
    "\n",
    "#     return errors"
   ]
  },
  {
   "cell_type": "code",
   "execution_count": 71,
   "id": "3e59e2b3-21c4-4263-a0d4-ccdb13f963a7",
   "metadata": {},
   "outputs": [],
   "source": [
    "# errors = rolling_window_validation(df, test_size=10, window_size=1000, n_estimators_start=500, n_estimators_step=5)"
   ]
  },
  {
   "cell_type": "code",
   "execution_count": 72,
   "id": "1673ff2f-ab76-46d6-8bb7-3a1f1311aad5",
   "metadata": {},
   "outputs": [],
   "source": [
    "# np.mean(errors)"
   ]
  },
  {
   "cell_type": "code",
   "execution_count": null,
   "id": "32dfe9fa-74f3-4e85-a617-1bbb48295321",
   "metadata": {},
   "outputs": [],
   "source": []
  },
  {
   "cell_type": "markdown",
   "id": "1ac1db8f-c885-4c1f-b21f-550dee471b5c",
   "metadata": {},
   "source": [
    "## All Window Validation"
   ]
  },
  {
   "cell_type": "code",
   "execution_count": 74,
   "id": "406a85b9-3215-4391-933b-605676f8bf49",
   "metadata": {},
   "outputs": [],
   "source": [
    "from sklearn.metrics import mean_squared_error, mean_absolute_error  # Добавляем MAE\n",
    "from tqdm import tqdm\n",
    "import pandas as pd\n",
    "from sklearn.ensemble import RandomForestRegressor"
   ]
  },
  {
   "cell_type": "code",
   "execution_count": 75,
   "id": "1c92d81d-4741-4265-902d-408ea08d963a",
   "metadata": {},
   "outputs": [],
   "source": [
    "def walk_forward_validation(df, test_size=5, n_estimators_start=750, n_estimators_step=20):  # Старт с 750\n",
    "    assert test_size % 5 == 0, \"test_size должен быть кратен 5\"\n",
    "\n",
    "    train_size = len(df) - test_size\n",
    "    X = df.drop(['imoex_RV_target'], axis=1)\n",
    "    y = df['imoex_RV_target']\n",
    "\n",
    "    initial_train_size = int(train_size * 0.9)\n",
    "    X_train = X[:initial_train_size]\n",
    "    y_train = y[:initial_train_size]\n",
    "\n",
    "    mse_errors = []  # Переименовываем errors\n",
    "    mae_errors = []  # Новый массив для MAE\n",
    "    model = RandomForestRegressor(n_estimators=n_estimators_start, random_state=42, \n",
    "                                warm_start=True, n_jobs=-1)\n",
    "\n",
    "    for i in tqdm(range(initial_train_size, train_size, 5), desc=\"Обучение модели\"):\n",
    "        X_test = X[i:i+5]\n",
    "        y_test = y[i:i+5]\n",
    "\n",
    "        if len(X_test) < 5:\n",
    "            break\n",
    "\n",
    "        model.n_estimators += n_estimators_step\n",
    "        model.fit(X_train, y_train)\n",
    "\n",
    "        y_pred = model.predict(X_test)\n",
    "\n",
    "        # Рассчитываем обе ошибки\n",
    "        mse_errors.append(mean_squared_error(y_test, y_pred))\n",
    "        mae_errors.append(mean_absolute_error(y_test, y_pred))  # Добавляем MAE\n",
    "\n",
    "        X_train = pd.concat([X_train, X_test])\n",
    "        y_train = pd.concat([y_train, y_test])\n",
    "\n",
    "    return mse_errors, mae_errors  # Возвращаем оба массива\n"
   ]
  },
  {
   "cell_type": "code",
   "execution_count": 76,
   "id": "8c06c56f-3434-4260-99a3-e4bcd52b3c00",
   "metadata": {},
   "outputs": [],
   "source": [
    "# mse_scores, mae_scores = walk_forward_validation(df, test_size=5, n_estimators_start=750, n_estimators_step=20)\n",
    "# print(f\"Средний RMSE: {np.sqrt(np.mean(mse_scores))}\")\n",
    "# print(f\"Средний MAE: {np.mean(mae_scores)}\")"
   ]
  },
  {
   "cell_type": "code",
   "execution_count": 77,
   "id": "929c55cc-2145-4404-a11b-ede5812066ea",
   "metadata": {},
   "outputs": [],
   "source": [
    "# plt.plot(np.sqrt(mse_scores), label='MSE')\n",
    "# plt.plot(mae_scores, label='MAE')\n",
    "# plt.legend()\n",
    "# plt.title('Динамика ошибок на прогнозном горизонте')\n",
    "# ;"
   ]
  },
  {
   "cell_type": "code",
   "execution_count": 78,
   "id": "b46816ba-a538-4ee2-abb1-c12d83f25fc1",
   "metadata": {},
   "outputs": [
    {
     "data": {
      "text/plain": [
       "0.000979755632737716"
      ]
     },
     "execution_count": 78,
     "metadata": {},
     "output_type": "execute_result"
    }
   ],
   "source": [
    "np.mean(df['imoex_RV_target'])"
   ]
  },
  {
   "cell_type": "code",
   "execution_count": 79,
   "id": "cab70ea3-2b15-4fb9-ac13-93378c102296",
   "metadata": {},
   "outputs": [],
   "source": [
    "# from sklearn.ensemble import RandomForestRegressor\n",
    "# from sklearn.metrics import mean_squared_error, mean_absolute_error\n",
    "# import numpy as np\n",
    "\n",
    "# # Размер теста = 5\n",
    "# test_size = 5\n",
    "# train_size = len(df) - test_size\n",
    "\n",
    "# # Разделяем данные\n",
    "# X = df.drop(['imoex_RV_target'], axis=1)\n",
    "# y = df['imoex_RV_target']\n",
    "\n",
    "# X_train_full = X[:train_size]\n",
    "# y_train_full = y[:train_size]\n",
    "\n",
    "# X_final_test = X[train_size:]\n",
    "# y_final_test = y[train_size:]\n",
    "\n",
    "# # Вычисляем, сколько шагов было бы сделано в walk-forward\n",
    "# steps = (train_size - int(train_size * 0.9)) // 5\n",
    "# final_estimators = 700 + 20 * steps  # соответствие параметрам из вызова\n",
    "\n",
    "# # Обучаем модель на всех тренировочных данных\n",
    "# final_model = RandomForestRegressor(\n",
    "#     n_estimators=final_estimators,\n",
    "#     random_state=42,\n",
    "#     n_jobs=-1\n",
    "# )\n",
    "# final_model.fit(X_train_full, y_train_full)\n",
    "\n",
    "# # Предсказания и метрики\n",
    "# final_preds = final_model.predict(X_final_test)\n",
    "# final_mse = mean_squared_error(y_final_test, final_preds)\n",
    "# final_mae = mean_absolute_error(y_final_test, final_preds)\n",
    "\n",
    "# print(f\"\\n📌 Предсказания на последних 5 строках: {final_preds}\")\n",
    "# print(f\"📉 RMSE на финальном тесте: {np.sqrt(final_mse)}\")\n",
    "# print(f\"📉 MAE на финальном тесте: {final_mae}\")\n"
   ]
  },
  {
   "cell_type": "markdown",
   "id": "139550b0-17ca-414a-b88d-90d308a0e1e4",
   "metadata": {},
   "source": [
    "## Добавление фичей"
   ]
  },
  {
   "cell_type": "markdown",
   "id": "d3f54416-95de-40eb-89c5-9bbccb311752",
   "metadata": {},
   "source": [
    "1) RV(t-22)\n",
    "2) Добавление LV(1), LV(3), LV(6) - бинарная переменная где 1 это цена акции ниже чем была 1, 3, 6, месяцев назад\n",
    "3) добавить CSAD"
   ]
  },
  {
   "cell_type": "markdown",
   "id": "ff7b913e-4b31-448a-9dde-0d21c1191c33",
   "metadata": {},
   "source": [
    "**RV(t-22)**"
   ]
  },
  {
   "cell_type": "code",
   "execution_count": 83,
   "id": "39b75b2c-11f7-4f7d-a9db-b893eb1b1852",
   "metadata": {},
   "outputs": [],
   "source": [
    "df['imoex_RV_monthly'] = df['imoex_RV'].rolling(22).sum()\n",
    "df['moex_blue_chips_RV_monthly'] = df['moex_blue_chips_RV'].rolling(22).sum()\n",
    "df['rtsi_RV_monthly'] = df['rtsi_RV'].rolling(22).sum()"
   ]
  },
  {
   "cell_type": "markdown",
   "id": "cfb3f112-3c33-4d90-9514-3f80268fe69e",
   "metadata": {},
   "source": [
    "**LV(1) LV(3) LV(6)**"
   ]
  },
  {
   "cell_type": "code",
   "execution_count": 85,
   "id": "c0be02b0-d24d-4f15-84f3-83a4d99c8aa1",
   "metadata": {},
   "outputs": [],
   "source": [
    "mass = ['brent_Цена', 'gold_Цена', 'svoe_Цена', 'gazp_Цена', 'lkoh_Цена', 'plzl_Цена',\n",
    "'sber_Цена', 'sngs_Цена', 'tath_Цена', 'imoex_CLOSE', 'moex_blue_chips_CLOSE',\n",
    "'rtsi_CLOSE']"
   ]
  },
  {
   "cell_type": "code",
   "execution_count": 86,
   "id": "924d0466-4eda-444b-984b-2e82f4a85f31",
   "metadata": {},
   "outputs": [
    {
     "name": "stderr",
     "output_type": "stream",
     "text": [
      "C:\\Users\\MadBoss\\AppData\\Local\\Temp\\ipykernel_15144\\3573950744.py:11: PerformanceWarning: DataFrame is highly fragmented.  This is usually the result of calling `frame.insert` many times, which has poor performance.  Consider joining all columns at once using pd.concat(axis=1) instead. To get a de-fragmented frame, use `newframe = frame.copy()`\n",
      "  df[new_col_name] = np.where(df[col] < df[col].shift(132), 1, 0)\n",
      "C:\\Users\\MadBoss\\AppData\\Local\\Temp\\ipykernel_15144\\3573950744.py:11: PerformanceWarning: DataFrame is highly fragmented.  This is usually the result of calling `frame.insert` many times, which has poor performance.  Consider joining all columns at once using pd.concat(axis=1) instead. To get a de-fragmented frame, use `newframe = frame.copy()`\n",
      "  df[new_col_name] = np.where(df[col] < df[col].shift(132), 1, 0)\n",
      "C:\\Users\\MadBoss\\AppData\\Local\\Temp\\ipykernel_15144\\3573950744.py:11: PerformanceWarning: DataFrame is highly fragmented.  This is usually the result of calling `frame.insert` many times, which has poor performance.  Consider joining all columns at once using pd.concat(axis=1) instead. To get a de-fragmented frame, use `newframe = frame.copy()`\n",
      "  df[new_col_name] = np.where(df[col] < df[col].shift(132), 1, 0)\n"
     ]
    }
   ],
   "source": [
    "for col in mass:\n",
    "    new_col_name = f'LV_{col.split(\"_\")[0]}_one_month'\n",
    "    df[new_col_name] = np.where(df[col] < df[col].shift(22), 1, 0)\n",
    "\n",
    "for col in mass:\n",
    "    new_col_name = f'LV_{col.split(\"_\")[0]}_three_month'\n",
    "    df[new_col_name] = np.where(df[col] < df[col].shift(66), 1, 0)\n",
    "\n",
    "for col in mass:\n",
    "    new_col_name = f'LV_{col.split(\"_\")[0]}_six_month'\n",
    "    df[new_col_name] = np.where(df[col] < df[col].shift(132), 1, 0)"
   ]
  },
  {
   "cell_type": "markdown",
   "id": "bc9e35d5-dcc7-4d1b-8a90-8de5c3785d12",
   "metadata": {},
   "source": [
    "**CSAD**"
   ]
  },
  {
   "cell_type": "code",
   "execution_count": 88,
   "id": "b7edcc17-c6f2-4307-95ad-7a7079f03aff",
   "metadata": {},
   "outputs": [],
   "source": [
    "def calculate_csad(df, stocks):\n",
    "    # Создайте промежуточные столбцы для логарифмических доходностей\n",
    "    for stock in stocks:\n",
    "        df[f'{stock}_ret'] = np.log(df[stock] / df[stock].shift(1))\n",
    "\n",
    "    # Рассчитайте среднерыночную доходность\n",
    "    df['market_return'] = df[[f'{stock}_ret' for stock in stocks]].mean(axis=1)\n",
    "\n",
    "    # Рассчитайте абсолютные отклонения от среднерыночной доходности\n",
    "    for stock in stocks:\n",
    "        df[f'{stock}_abs_dev'] = np.abs(df[f'{stock}_ret'] - df['market_return'])\n",
    "\n",
    "    # Рассчитайте CSAD\n",
    "    df['csad'] = df[[f'{stock}_abs_dev' for stock in stocks]].mean(axis=1)\n",
    "\n",
    "    # Удалите промежуточные столбцы\n",
    "    df.drop([f'{stock}_ret' for stock in stocks] + [f'{stock}_abs_dev' for stock in stocks] + ['market_return'], axis=1, inplace=True)\n",
    "\n",
    "    return df"
   ]
  },
  {
   "cell_type": "code",
   "execution_count": 89,
   "id": "8028d00d-1f20-4246-91e1-26149e02af6e",
   "metadata": {},
   "outputs": [
    {
     "name": "stderr",
     "output_type": "stream",
     "text": [
      "C:\\Users\\MadBoss\\AppData\\Local\\Temp\\ipykernel_15144\\1657683320.py:4: PerformanceWarning: DataFrame is highly fragmented.  This is usually the result of calling `frame.insert` many times, which has poor performance.  Consider joining all columns at once using pd.concat(axis=1) instead. To get a de-fragmented frame, use `newframe = frame.copy()`\n",
      "  df[f'{stock}_ret'] = np.log(df[stock] / df[stock].shift(1))\n",
      "C:\\Users\\MadBoss\\AppData\\Local\\Temp\\ipykernel_15144\\1657683320.py:4: PerformanceWarning: DataFrame is highly fragmented.  This is usually the result of calling `frame.insert` many times, which has poor performance.  Consider joining all columns at once using pd.concat(axis=1) instead. To get a de-fragmented frame, use `newframe = frame.copy()`\n",
      "  df[f'{stock}_ret'] = np.log(df[stock] / df[stock].shift(1))\n",
      "C:\\Users\\MadBoss\\AppData\\Local\\Temp\\ipykernel_15144\\1657683320.py:4: PerformanceWarning: DataFrame is highly fragmented.  This is usually the result of calling `frame.insert` many times, which has poor performance.  Consider joining all columns at once using pd.concat(axis=1) instead. To get a de-fragmented frame, use `newframe = frame.copy()`\n",
      "  df[f'{stock}_ret'] = np.log(df[stock] / df[stock].shift(1))\n",
      "C:\\Users\\MadBoss\\AppData\\Local\\Temp\\ipykernel_15144\\1657683320.py:4: PerformanceWarning: DataFrame is highly fragmented.  This is usually the result of calling `frame.insert` many times, which has poor performance.  Consider joining all columns at once using pd.concat(axis=1) instead. To get a de-fragmented frame, use `newframe = frame.copy()`\n",
      "  df[f'{stock}_ret'] = np.log(df[stock] / df[stock].shift(1))\n",
      "C:\\Users\\MadBoss\\AppData\\Local\\Temp\\ipykernel_15144\\1657683320.py:4: PerformanceWarning: DataFrame is highly fragmented.  This is usually the result of calling `frame.insert` many times, which has poor performance.  Consider joining all columns at once using pd.concat(axis=1) instead. To get a de-fragmented frame, use `newframe = frame.copy()`\n",
      "  df[f'{stock}_ret'] = np.log(df[stock] / df[stock].shift(1))\n",
      "C:\\Users\\MadBoss\\AppData\\Local\\Temp\\ipykernel_15144\\1657683320.py:4: PerformanceWarning: DataFrame is highly fragmented.  This is usually the result of calling `frame.insert` many times, which has poor performance.  Consider joining all columns at once using pd.concat(axis=1) instead. To get a de-fragmented frame, use `newframe = frame.copy()`\n",
      "  df[f'{stock}_ret'] = np.log(df[stock] / df[stock].shift(1))\n",
      "C:\\Users\\MadBoss\\AppData\\Local\\Temp\\ipykernel_15144\\1657683320.py:4: PerformanceWarning: DataFrame is highly fragmented.  This is usually the result of calling `frame.insert` many times, which has poor performance.  Consider joining all columns at once using pd.concat(axis=1) instead. To get a de-fragmented frame, use `newframe = frame.copy()`\n",
      "  df[f'{stock}_ret'] = np.log(df[stock] / df[stock].shift(1))\n",
      "C:\\Users\\MadBoss\\AppData\\Local\\Temp\\ipykernel_15144\\1657683320.py:4: PerformanceWarning: DataFrame is highly fragmented.  This is usually the result of calling `frame.insert` many times, which has poor performance.  Consider joining all columns at once using pd.concat(axis=1) instead. To get a de-fragmented frame, use `newframe = frame.copy()`\n",
      "  df[f'{stock}_ret'] = np.log(df[stock] / df[stock].shift(1))\n",
      "C:\\Users\\MadBoss\\AppData\\Local\\Temp\\ipykernel_15144\\1657683320.py:4: PerformanceWarning: DataFrame is highly fragmented.  This is usually the result of calling `frame.insert` many times, which has poor performance.  Consider joining all columns at once using pd.concat(axis=1) instead. To get a de-fragmented frame, use `newframe = frame.copy()`\n",
      "  df[f'{stock}_ret'] = np.log(df[stock] / df[stock].shift(1))\n",
      "C:\\Users\\MadBoss\\AppData\\Local\\Temp\\ipykernel_15144\\1657683320.py:7: PerformanceWarning: DataFrame is highly fragmented.  This is usually the result of calling `frame.insert` many times, which has poor performance.  Consider joining all columns at once using pd.concat(axis=1) instead. To get a de-fragmented frame, use `newframe = frame.copy()`\n",
      "  df['market_return'] = df[[f'{stock}_ret' for stock in stocks]].mean(axis=1)\n",
      "C:\\Users\\MadBoss\\AppData\\Local\\Temp\\ipykernel_15144\\1657683320.py:11: PerformanceWarning: DataFrame is highly fragmented.  This is usually the result of calling `frame.insert` many times, which has poor performance.  Consider joining all columns at once using pd.concat(axis=1) instead. To get a de-fragmented frame, use `newframe = frame.copy()`\n",
      "  df[f'{stock}_abs_dev'] = np.abs(df[f'{stock}_ret'] - df['market_return'])\n",
      "C:\\Users\\MadBoss\\AppData\\Local\\Temp\\ipykernel_15144\\1657683320.py:11: PerformanceWarning: DataFrame is highly fragmented.  This is usually the result of calling `frame.insert` many times, which has poor performance.  Consider joining all columns at once using pd.concat(axis=1) instead. To get a de-fragmented frame, use `newframe = frame.copy()`\n",
      "  df[f'{stock}_abs_dev'] = np.abs(df[f'{stock}_ret'] - df['market_return'])\n",
      "C:\\Users\\MadBoss\\AppData\\Local\\Temp\\ipykernel_15144\\1657683320.py:11: PerformanceWarning: DataFrame is highly fragmented.  This is usually the result of calling `frame.insert` many times, which has poor performance.  Consider joining all columns at once using pd.concat(axis=1) instead. To get a de-fragmented frame, use `newframe = frame.copy()`\n",
      "  df[f'{stock}_abs_dev'] = np.abs(df[f'{stock}_ret'] - df['market_return'])\n",
      "C:\\Users\\MadBoss\\AppData\\Local\\Temp\\ipykernel_15144\\1657683320.py:11: PerformanceWarning: DataFrame is highly fragmented.  This is usually the result of calling `frame.insert` many times, which has poor performance.  Consider joining all columns at once using pd.concat(axis=1) instead. To get a de-fragmented frame, use `newframe = frame.copy()`\n",
      "  df[f'{stock}_abs_dev'] = np.abs(df[f'{stock}_ret'] - df['market_return'])\n",
      "C:\\Users\\MadBoss\\AppData\\Local\\Temp\\ipykernel_15144\\1657683320.py:11: PerformanceWarning: DataFrame is highly fragmented.  This is usually the result of calling `frame.insert` many times, which has poor performance.  Consider joining all columns at once using pd.concat(axis=1) instead. To get a de-fragmented frame, use `newframe = frame.copy()`\n",
      "  df[f'{stock}_abs_dev'] = np.abs(df[f'{stock}_ret'] - df['market_return'])\n",
      "C:\\Users\\MadBoss\\AppData\\Local\\Temp\\ipykernel_15144\\1657683320.py:11: PerformanceWarning: DataFrame is highly fragmented.  This is usually the result of calling `frame.insert` many times, which has poor performance.  Consider joining all columns at once using pd.concat(axis=1) instead. To get a de-fragmented frame, use `newframe = frame.copy()`\n",
      "  df[f'{stock}_abs_dev'] = np.abs(df[f'{stock}_ret'] - df['market_return'])\n",
      "C:\\Users\\MadBoss\\AppData\\Local\\Temp\\ipykernel_15144\\1657683320.py:11: PerformanceWarning: DataFrame is highly fragmented.  This is usually the result of calling `frame.insert` many times, which has poor performance.  Consider joining all columns at once using pd.concat(axis=1) instead. To get a de-fragmented frame, use `newframe = frame.copy()`\n",
      "  df[f'{stock}_abs_dev'] = np.abs(df[f'{stock}_ret'] - df['market_return'])\n",
      "C:\\Users\\MadBoss\\AppData\\Local\\Temp\\ipykernel_15144\\1657683320.py:11: PerformanceWarning: DataFrame is highly fragmented.  This is usually the result of calling `frame.insert` many times, which has poor performance.  Consider joining all columns at once using pd.concat(axis=1) instead. To get a de-fragmented frame, use `newframe = frame.copy()`\n",
      "  df[f'{stock}_abs_dev'] = np.abs(df[f'{stock}_ret'] - df['market_return'])\n",
      "C:\\Users\\MadBoss\\AppData\\Local\\Temp\\ipykernel_15144\\1657683320.py:11: PerformanceWarning: DataFrame is highly fragmented.  This is usually the result of calling `frame.insert` many times, which has poor performance.  Consider joining all columns at once using pd.concat(axis=1) instead. To get a de-fragmented frame, use `newframe = frame.copy()`\n",
      "  df[f'{stock}_abs_dev'] = np.abs(df[f'{stock}_ret'] - df['market_return'])\n",
      "C:\\Users\\MadBoss\\AppData\\Local\\Temp\\ipykernel_15144\\1657683320.py:14: PerformanceWarning: DataFrame is highly fragmented.  This is usually the result of calling `frame.insert` many times, which has poor performance.  Consider joining all columns at once using pd.concat(axis=1) instead. To get a de-fragmented frame, use `newframe = frame.copy()`\n",
      "  df['csad'] = df[[f'{stock}_abs_dev' for stock in stocks]].mean(axis=1)\n"
     ]
    }
   ],
   "source": [
    "stocks = ['brent_Цена', 'gold_Цена', 'svoe_Цена', 'gazp_Цена', 'lkoh_Цена', 'plzl_Цена',\n",
    "          'sber_Цена', 'sngs_Цена', 'tath_Цена']\n",
    "\n",
    "df = calculate_csad(df, stocks)"
   ]
  },
  {
   "cell_type": "code",
   "execution_count": 90,
   "id": "1dc31669-c934-4234-9e7e-605be0a4495f",
   "metadata": {},
   "outputs": [],
   "source": [
    "df = df.dropna()"
   ]
  },
  {
   "cell_type": "code",
   "execution_count": null,
   "id": "689e1def-8a1f-4b4e-8f6c-3b45184e9800",
   "metadata": {},
   "outputs": [],
   "source": []
  },
  {
   "cell_type": "code",
   "execution_count": 91,
   "id": "451afb88-c665-413b-869c-5a1742ce7ab7",
   "metadata": {},
   "outputs": [
    {
     "name": "stderr",
     "output_type": "stream",
     "text": [
      "Обучение модели: 100%|██████████| 46/46 [00:56<00:00,  1.23s/it]"
     ]
    },
    {
     "name": "stdout",
     "output_type": "stream",
     "text": [
      "Средний RMSE: 0.0032313374629312553\n",
      "Средний MAE: 0.0016619089696079726\n"
     ]
    },
    {
     "name": "stderr",
     "output_type": "stream",
     "text": [
      "\n"
     ]
    }
   ],
   "source": [
    "mse_scores, mae_scores = walk_forward_validation(df, test_size=5, n_estimators_start=1000, n_estimators_step=20)\n",
    "print(f\"Средний RMSE: {np.sqrt(np.mean(mse_scores))}\")\n",
    "print(f\"Средний MAE: {np.mean(mae_scores)}\")"
   ]
  },
  {
   "cell_type": "markdown",
   "id": "97183190-42d4-475d-832d-15401d3dec0d",
   "metadata": {},
   "source": [
    "**Почему то доп фичи только ухудшили ситуацию**"
   ]
  },
  {
   "cell_type": "code",
   "execution_count": null,
   "id": "4f554261-532b-4f9a-9cad-d3a3af0a360b",
   "metadata": {},
   "outputs": [],
   "source": [
    "from sklearn.ensemble import RandomForestRegressor\n",
    "from sklearn.metrics import mean_squared_error, mean_absolute_error\n",
    "import numpy as np\n",
    "\n",
    "# Размер теста = 5\n",
    "test_size = 5\n",
    "train_size = len(df) - test_size\n",
    "\n",
    "# Разделяем данные\n",
    "X = df.drop(['imoex_RV_target'], axis=1)\n",
    "y = df['imoex_RV_target']\n",
    "\n",
    "X_train_full = X[:train_size]\n",
    "y_train_full = y[:train_size]\n",
    "\n",
    "X_final_test = X[train_size:]\n",
    "y_final_test = y[train_size:]\n",
    "\n",
    "# Вычисляем, сколько шагов было бы сделано в walk-forward\n",
    "steps = (train_size - int(train_size * 0.9)) // 5\n",
    "final_estimators = 700 + 20 * steps  # соответствие параметрам из вызова\n",
    "\n",
    "# Обучаем модель на всех тренировочных данных\n",
    "final_model = RandomForestRegressor(\n",
    "    n_estimators=final_estimators,\n",
    "    random_state=42,\n",
    "    n_jobs=-1\n",
    ")\n",
    "final_model.fit(X_train_full, y_train_full)\n",
    "\n",
    "# Предсказания и метрики\n",
    "final_preds = final_model.predict(X_final_test)\n",
    "final_mse = mean_squared_error(y_final_test, final_preds)\n",
    "final_mae = mean_absolute_error(y_final_test, final_preds)\n",
    "\n",
    "print(f\"\\n📌 Предсказания на последних 5 строках: {final_preds}\")\n",
    "print(f\"📉 RMSE на финальном тесте: {np.sqrt(final_mse)}\")\n",
    "print(f\"📉 MAE на финальном тесте: {final_mae}\")\n"
   ]
  },
  {
   "cell_type": "markdown",
   "id": "8c217592-3cf5-41e2-9940-9e6ca38c81fb",
   "metadata": {},
   "source": [
    "## CatBoost"
   ]
  },
  {
   "cell_type": "code",
   "execution_count": null,
   "id": "e30a245a-a722-4b47-9612-0706caeca4fc",
   "metadata": {},
   "outputs": [],
   "source": [
    "from catboost import CatBoostRegressor, Pool\n",
    "from sklearn.metrics import mean_squared_error, mean_absolute_error\n",
    "from tqdm import tqdm\n",
    "import pandas as pd\n",
    "\n",
    "def walk_forward_validation_catboost(df, test_size=10, n_estimators_start=500, n_estimators_step=5):\n",
    "    assert test_size % 5 == 0, \"test_size должен быть кратен 5\"\n",
    "\n",
    "    train_size = len(df) - test_size\n",
    "    X = df.drop(['imoex_RV_target'], axis=1)\n",
    "    y = df['imoex_RV_target']\n",
    "\n",
    "    initial_train_size = int(train_size * 0.9)\n",
    "    X_train = X[:initial_train_size]\n",
    "    y_train = y[:initial_train_size]\n",
    "\n",
    "    mse_errors = []\n",
    "    mae_errors = []\n",
    "\n",
    "    current_estimators = n_estimators_start\n",
    "\n",
    "    for i in tqdm(range(initial_train_size, train_size, 5), desc=\"Обучение модели (CatBoost)\"):\n",
    "        X_test = X[i:i+5]\n",
    "        y_test = y[i:i+5]\n",
    "\n",
    "        if len(X_test) < 5:\n",
    "            break\n",
    "\n",
    "        train_pool = Pool(X_train, y_train)\n",
    "        test_pool = Pool(X_test)\n",
    "\n",
    "        model = CatBoostRegressor(\n",
    "            iterations=current_estimators,\n",
    "            learning_rate=0.05,\n",
    "            depth=6,\n",
    "            verbose=False,\n",
    "            random_seed=42\n",
    "        )\n",
    "        model.fit(train_pool)\n",
    "\n",
    "        y_pred = model.predict(test_pool)\n",
    "\n",
    "        mse_errors.append(mean_squared_error(y_test, y_pred))\n",
    "        mae_errors.append(mean_absolute_error(y_test, y_pred))\n",
    "\n",
    "        X_train = pd.concat([X_train, X_test])\n",
    "        y_train = pd.concat([y_train, y_test])\n",
    "        current_estimators += n_estimators_step\n",
    "\n",
    "    return mse_errors, mae_errors\n"
   ]
  },
  {
   "cell_type": "code",
   "execution_count": null,
   "id": "06496b7f-3aa6-4bf1-8923-fb0f751bf4d2",
   "metadata": {},
   "outputs": [],
   "source": [
    "mse_scores, mae_scores = walk_forward_validation_catboost(df, test_size=5, n_estimators_start=750, n_estimators_step=10)\n",
    "print(f\"Средний RMSE: {np.sqrt(np.mean(mse_scores))}\")\n",
    "print(f\"Средний MAE: {np.mean(mae_scores)}\")"
   ]
  },
  {
   "cell_type": "code",
   "execution_count": null,
   "id": "41b0991f-5f1c-459e-bf2c-46d5678b2d7c",
   "metadata": {},
   "outputs": [],
   "source": []
  },
  {
   "cell_type": "code",
   "execution_count": null,
   "id": "d270b4a1-71c1-4223-bf41-d880cc69ae0c",
   "metadata": {},
   "outputs": [],
   "source": [
    "from catboost import CatBoostRegressor, Pool\n",
    "from sklearn.metrics import mean_squared_error, mean_absolute_error\n",
    "import numpy as np\n",
    "\n",
    "# Размер теста = 5\n",
    "test_size = 5\n",
    "train_size = len(df) - test_size\n",
    "\n",
    "# Делим данные\n",
    "X = df.drop(['imoex_RV_target'], axis=1)\n",
    "y = df['imoex_RV_target']\n",
    "\n",
    "X_train_full = X[:train_size]\n",
    "y_train_full = y[:train_size]\n",
    "\n",
    "X_final_test = X[train_size:]\n",
    "y_final_test = y[train_size:]\n",
    "\n",
    "# Вычисляем, сколько шагов было бы сделано в walk-forward\n",
    "steps = (train_size - int(train_size * 0.9)) // 5\n",
    "final_estimators = 100 + 10 * steps  # соответствие параметрам из вызова CatBoost\n",
    "\n",
    "# Создаём пул для обучения\n",
    "train_pool = Pool(X_train_full, y_train_full)\n",
    "test_pool = Pool(X_final_test)\n",
    "\n",
    "# Обучаем модель\n",
    "final_model = CatBoostRegressor(\n",
    "    iterations=final_estimators,\n",
    "    learning_rate=0.05,\n",
    "    depth=6,\n",
    "    verbose=False,\n",
    "    random_seed=42\n",
    ")\n",
    "final_model.fit(train_pool)\n",
    "\n",
    "# Предсказания и метрики\n",
    "final_preds = final_model.predict(test_pool)\n",
    "final_mse = mean_squared_error(y_final_test, final_preds)\n",
    "final_mae = mean_absolute_error(y_final_test, final_preds)\n",
    "\n",
    "# Вывод\n",
    "print(f\"\\n📌 Предсказания на последних 5 строках: {final_preds}\")\n",
    "print(f\"📉 RMSE на финальном тесте: {np.sqrt(final_mse)}\")\n",
    "print(f\"📉 MAE на финальном тесте: {final_mae}\")\n"
   ]
  },
  {
   "cell_type": "code",
   "execution_count": null,
   "id": "8f0f63ac-a3b3-421b-a761-5a7d96cb26d7",
   "metadata": {},
   "outputs": [],
   "source": []
  },
  {
   "cell_type": "markdown",
   "id": "ce310de2-0abb-4be8-9486-f5e03497fc23",
   "metadata": {},
   "source": [
    "Что дальше?\n",
    "1) Мне нужно добавить всякие переменные из MIDAS статьи\n",
    "4) добавить скользящие окна по индексам и мб еще по чему то\n",
    "6) использовать PCA и SNS для отбора признаков\n",
    "8) модели HAR и GARCHt\n",
    "9) надо писать парсеры"
   ]
  },
  {
   "cell_type": "markdown",
   "id": "498e1e93-4d36-4c2f-9dd5-6519f7232660",
   "metadata": {},
   "source": [
    "## Парсер к investing.com"
   ]
  },
  {
   "cell_type": "code",
   "execution_count": null,
   "id": "2c66553e-a627-4d63-9573-34b92a93739c",
   "metadata": {},
   "outputs": [],
   "source": [
    "# !pip install selenium"
   ]
  },
  {
   "cell_type": "code",
   "execution_count": null,
   "id": "3b7e33c5-f0fa-4997-8756-5dd4527a5d56",
   "metadata": {},
   "outputs": [],
   "source": [
    "# from selenium import webdriver\n",
    "# from selenium.webdriver.chrome.options import Options\n",
    "# import time\n",
    "\n",
    "# chrome_options = Options()\n",
    "# # chrome_options.add_argument(\"--headless\")  # Можешь временно отключить headless для проверки\n",
    "# chrome_options.add_argument(\"--disable-gpu\")\n",
    "# chrome_options.add_argument(\"--no-sandbox\")\n",
    "# chrome_options.add_argument(\n",
    "#     \"user-agent=Mozilla/5.0 (Windows NT 10.0; Win64; x64) AppleWebKit/537.36 (KHTML, like Gecko) Chrome/123.0.0.0 Safari/537.36\"\n",
    "# )\n",
    "\n",
    "\n",
    "# driver = webdriver.Chrome(options=chrome_options)\n",
    "# driver.get(\"https://ru.investing.com/equities/sberbank_rts-historical-data\")\n",
    "\n",
    "# # Подождём чуть больше (вдруг всё же грузится)\n",
    "# time.sleep(5)\n",
    "\n",
    "# # Печатаем первые 500 символов HTML\n",
    "# print(driver.page_source[:500])\n",
    "\n",
    "# driver.quit()\n"
   ]
  },
  {
   "cell_type": "markdown",
   "id": "78e0cf3f-6d24-405b-927e-307f2d24495d",
   "metadata": {},
   "source": [
    "## Эконометрика - тесты"
   ]
  },
  {
   "cell_type": "code",
   "execution_count": null,
   "id": "bfd62f81-f710-4158-a5d3-375bb075357a",
   "metadata": {},
   "outputs": [],
   "source": [
    "import pandas as pd\n",
    "import numpy as np\n",
    "from statsmodels.tsa.stattools import adfuller, acf, pacf\n",
    "from scipy.stats import shapiro\n",
    "\n",
    "result = adfuller(df['imoex_RV_target'])\n",
    "print('ADF Statistic:', result[0])\n",
    "print('p-value:', result[1])\n"
   ]
  },
  {
   "cell_type": "code",
   "execution_count": null,
   "id": "ece5c99a-5056-4134-bb6e-67dfb1591eec",
   "metadata": {},
   "outputs": [],
   "source": [
    "# Проверка нормальности остатков\n",
    "residuals = df['imoex_RV_target'] - df['imoex_RV_target'].mean()\n",
    "stat, p = shapiro(residuals)\n",
    "print('Shapiro-Wilk Statistic:', stat)\n",
    "print('p-value:', p)\n",
    "\n",
    "# Визуализация автокорреляции\n",
    "plt.figure(figsize=(10,6))\n",
    "plt.subplot(2,1,1)\n",
    "plt.acorr(df['imoex_RV_target'], maxlags=20)\n",
    "plt.title('ACF')\n",
    "plt.subplot(2,1,2)\n",
    "plt.acorr(df['imoex_RV_target'], maxlags=20)\n",
    "plt.title('PACF')\n",
    "plt.tight_layout()\n",
    "plt.show()"
   ]
  },
  {
   "cell_type": "code",
   "execution_count": null,
   "id": "fdcfa950-eb3d-4c00-8c25-3a56cb80b108",
   "metadata": {},
   "outputs": [],
   "source": []
  }
 ],
 "metadata": {
  "kernelspec": {
   "display_name": "Python 3 (ipykernel)",
   "language": "python",
   "name": "python3"
  },
  "language_info": {
   "codemirror_mode": {
    "name": "ipython",
    "version": 3
   },
   "file_extension": ".py",
   "mimetype": "text/x-python",
   "name": "python",
   "nbconvert_exporter": "python",
   "pygments_lexer": "ipython3",
   "version": "3.12.4"
  }
 },
 "nbformat": 4,
 "nbformat_minor": 5
}
