{
 "cells": [
  {
   "cell_type": "code",
   "execution_count": 137,
   "id": "9f7a4d4c-c958-4535-a028-cbbd815fb91f",
   "metadata": {},
   "outputs": [],
   "source": [
    "import numpy as np\n",
    "import pandas as pd\n",
    "import matplotlib.pyplot as plt\n",
    "import pandas as pd\n",
    "import seaborn as sns\n",
    "from scipy.stats import chi2_contingency\n",
    "from statsmodels.stats.proportion import proportions_ztest\n",
    "import scipy.stats as stats"
   ]
  },
  {
   "cell_type": "code",
   "execution_count": 2,
   "id": "3c0a5833-ea6a-4039-bae8-99f81d509947",
   "metadata": {},
   "outputs": [],
   "source": [
    "df = pd.read_csv('analytics_test.csv', index_col=0)"
   ]
  },
  {
   "cell_type": "code",
   "execution_count": 3,
   "id": "51f6d8dc-1d01-4ae6-b599-a044811c3918",
   "metadata": {},
   "outputs": [
    {
     "data": {
      "text/html": [
       "<div>\n",
       "<style scoped>\n",
       "    .dataframe tbody tr th:only-of-type {\n",
       "        vertical-align: middle;\n",
       "    }\n",
       "\n",
       "    .dataframe tbody tr th {\n",
       "        vertical-align: top;\n",
       "    }\n",
       "\n",
       "    .dataframe thead th {\n",
       "        text-align: right;\n",
       "    }\n",
       "</style>\n",
       "<table border=\"1\" class=\"dataframe\">\n",
       "  <thead>\n",
       "    <tr style=\"text-align: right;\">\n",
       "      <th></th>\n",
       "      <th>user_id</th>\n",
       "      <th>sex</th>\n",
       "      <th>age</th>\n",
       "      <th>platform</th>\n",
       "      <th>query_id</th>\n",
       "      <th>query_text</th>\n",
       "      <th>query_type</th>\n",
       "      <th>event</th>\n",
       "      <th>click_position</th>\n",
       "      <th>doc_type</th>\n",
       "      <th>view_time</th>\n",
       "    </tr>\n",
       "  </thead>\n",
       "  <tbody>\n",
       "    <tr>\n",
       "      <th>0</th>\n",
       "      <td>96422511</td>\n",
       "      <td>female</td>\n",
       "      <td>68</td>\n",
       "      <td>android</td>\n",
       "      <td>89656828</td>\n",
       "      <td>передачи о новых технологиях</td>\n",
       "      <td>show</td>\n",
       "      <td>share</td>\n",
       "      <td>6</td>\n",
       "      <td>playlist</td>\n",
       "      <td>0</td>\n",
       "    </tr>\n",
       "    <tr>\n",
       "      <th>1</th>\n",
       "      <td>45247030</td>\n",
       "      <td>male</td>\n",
       "      <td>62</td>\n",
       "      <td>android_tv</td>\n",
       "      <td>89784877</td>\n",
       "      <td>автопрому новости</td>\n",
       "      <td>news</td>\n",
       "      <td>search</td>\n",
       "      <td>0</td>\n",
       "      <td>NaN</td>\n",
       "      <td>0</td>\n",
       "    </tr>\n",
       "    <tr>\n",
       "      <th>2</th>\n",
       "      <td>79572413</td>\n",
       "      <td>male</td>\n",
       "      <td>12</td>\n",
       "      <td>web</td>\n",
       "      <td>10555855</td>\n",
       "      <td>логистическое законодательство</td>\n",
       "      <td>news</td>\n",
       "      <td>search</td>\n",
       "      <td>0</td>\n",
       "      <td>NaN</td>\n",
       "      <td>0</td>\n",
       "    </tr>\n",
       "    <tr>\n",
       "      <th>3</th>\n",
       "      <td>821317</td>\n",
       "      <td>female</td>\n",
       "      <td>58</td>\n",
       "      <td>android_tv</td>\n",
       "      <td>72054848</td>\n",
       "      <td>банковские премии новости</td>\n",
       "      <td>news</td>\n",
       "      <td>search</td>\n",
       "      <td>0</td>\n",
       "      <td>NaN</td>\n",
       "      <td>0</td>\n",
       "    </tr>\n",
       "    <tr>\n",
       "      <th>4</th>\n",
       "      <td>6206023</td>\n",
       "      <td>female</td>\n",
       "      <td>24</td>\n",
       "      <td>android</td>\n",
       "      <td>20838049</td>\n",
       "      <td>вики шоу аманда</td>\n",
       "      <td>show</td>\n",
       "      <td>subscribe</td>\n",
       "      <td>7</td>\n",
       "      <td>author</td>\n",
       "      <td>0</td>\n",
       "    </tr>\n",
       "  </tbody>\n",
       "</table>\n",
       "</div>"
      ],
      "text/plain": [
       "    user_id     sex  age    platform  query_id  \\\n",
       "0  96422511  female   68     android  89656828   \n",
       "1  45247030    male   62  android_tv  89784877   \n",
       "2  79572413    male   12         web  10555855   \n",
       "3    821317  female   58  android_tv  72054848   \n",
       "4   6206023  female   24     android  20838049   \n",
       "\n",
       "                       query_text query_type      event  click_position  \\\n",
       "0    передачи о новых технологиях       show      share               6   \n",
       "1               автопрому новости       news     search               0   \n",
       "2  логистическое законодательство       news     search               0   \n",
       "3       банковские премии новости       news     search               0   \n",
       "4                 вики шоу аманда       show  subscribe               7   \n",
       "\n",
       "   doc_type  view_time  \n",
       "0  playlist          0  \n",
       "1       NaN          0  \n",
       "2       NaN          0  \n",
       "3       NaN          0  \n",
       "4    author          0  "
      ]
     },
     "execution_count": 3,
     "metadata": {},
     "output_type": "execute_result"
    }
   ],
   "source": [
    "df.head()"
   ]
  },
  {
   "cell_type": "code",
   "execution_count": 4,
   "id": "7e12ef7f-6221-4eae-a08b-26e80d122b18",
   "metadata": {},
   "outputs": [
    {
     "name": "stdout",
     "output_type": "stream",
     "text": [
      "<class 'pandas.core.frame.DataFrame'>\n",
      "Index: 20000 entries, 0 to 19999\n",
      "Data columns (total 11 columns):\n",
      " #   Column          Non-Null Count  Dtype \n",
      "---  ------          --------------  ----- \n",
      " 0   user_id         20000 non-null  int64 \n",
      " 1   sex             20000 non-null  object\n",
      " 2   age             20000 non-null  int64 \n",
      " 3   platform        20000 non-null  object\n",
      " 4   query_id        20000 non-null  int64 \n",
      " 5   query_text      20000 non-null  object\n",
      " 6   query_type      20000 non-null  object\n",
      " 7   event           20000 non-null  object\n",
      " 8   click_position  20000 non-null  int64 \n",
      " 9   doc_type        15042 non-null  object\n",
      " 10  view_time       20000 non-null  int64 \n",
      "dtypes: int64(5), object(6)\n",
      "memory usage: 1.8+ MB\n"
     ]
    }
   ],
   "source": [
    "df.info()"
   ]
  },
  {
   "cell_type": "code",
   "execution_count": 5,
   "id": "82f20f0f-97cc-4037-998d-83c1f02ef8c9",
   "metadata": {},
   "outputs": [
    {
     "data": {
      "text/html": [
       "<div>\n",
       "<style scoped>\n",
       "    .dataframe tbody tr th:only-of-type {\n",
       "        vertical-align: middle;\n",
       "    }\n",
       "\n",
       "    .dataframe tbody tr th {\n",
       "        vertical-align: top;\n",
       "    }\n",
       "\n",
       "    .dataframe thead th {\n",
       "        text-align: right;\n",
       "    }\n",
       "</style>\n",
       "<table border=\"1\" class=\"dataframe\">\n",
       "  <thead>\n",
       "    <tr style=\"text-align: right;\">\n",
       "      <th></th>\n",
       "      <th>user_id</th>\n",
       "      <th>age</th>\n",
       "      <th>query_id</th>\n",
       "      <th>click_position</th>\n",
       "      <th>view_time</th>\n",
       "    </tr>\n",
       "  </thead>\n",
       "  <tbody>\n",
       "    <tr>\n",
       "      <th>count</th>\n",
       "      <td>2.000000e+04</td>\n",
       "      <td>20000.000000</td>\n",
       "      <td>2.000000e+04</td>\n",
       "      <td>20000.000000</td>\n",
       "      <td>20000.000000</td>\n",
       "    </tr>\n",
       "    <tr>\n",
       "      <th>mean</th>\n",
       "      <td>4.940472e+07</td>\n",
       "      <td>30.029600</td>\n",
       "      <td>1.629075e+08</td>\n",
       "      <td>6.216150</td>\n",
       "      <td>614.775450</td>\n",
       "    </tr>\n",
       "    <tr>\n",
       "      <th>std</th>\n",
       "      <td>2.896590e+07</td>\n",
       "      <td>22.588294</td>\n",
       "      <td>2.443505e+08</td>\n",
       "      <td>6.389262</td>\n",
       "      <td>2217.290922</td>\n",
       "    </tr>\n",
       "    <tr>\n",
       "      <th>min</th>\n",
       "      <td>1.273000e+03</td>\n",
       "      <td>0.000000</td>\n",
       "      <td>8.758000e+03</td>\n",
       "      <td>0.000000</td>\n",
       "      <td>0.000000</td>\n",
       "    </tr>\n",
       "    <tr>\n",
       "      <th>25%</th>\n",
       "      <td>2.405560e+07</td>\n",
       "      <td>11.000000</td>\n",
       "      <td>3.215079e+07</td>\n",
       "      <td>0.000000</td>\n",
       "      <td>0.000000</td>\n",
       "    </tr>\n",
       "    <tr>\n",
       "      <th>50%</th>\n",
       "      <td>4.946180e+07</td>\n",
       "      <td>30.000000</td>\n",
       "      <td>6.425107e+07</td>\n",
       "      <td>4.000000</td>\n",
       "      <td>0.000000</td>\n",
       "    </tr>\n",
       "    <tr>\n",
       "      <th>75%</th>\n",
       "      <td>7.429182e+07</td>\n",
       "      <td>50.000000</td>\n",
       "      <td>9.664634e+07</td>\n",
       "      <td>10.000000</td>\n",
       "      <td>0.000000</td>\n",
       "    </tr>\n",
       "    <tr>\n",
       "      <th>max</th>\n",
       "      <td>9.999570e+07</td>\n",
       "      <td>69.000000</td>\n",
       "      <td>9.998612e+08</td>\n",
       "      <td>30.000000</td>\n",
       "      <td>17994.000000</td>\n",
       "    </tr>\n",
       "  </tbody>\n",
       "</table>\n",
       "</div>"
      ],
      "text/plain": [
       "            user_id           age      query_id  click_position     view_time\n",
       "count  2.000000e+04  20000.000000  2.000000e+04    20000.000000  20000.000000\n",
       "mean   4.940472e+07     30.029600  1.629075e+08        6.216150    614.775450\n",
       "std    2.896590e+07     22.588294  2.443505e+08        6.389262   2217.290922\n",
       "min    1.273000e+03      0.000000  8.758000e+03        0.000000      0.000000\n",
       "25%    2.405560e+07     11.000000  3.215079e+07        0.000000      0.000000\n",
       "50%    4.946180e+07     30.000000  6.425107e+07        4.000000      0.000000\n",
       "75%    7.429182e+07     50.000000  9.664634e+07       10.000000      0.000000\n",
       "max    9.999570e+07     69.000000  9.998612e+08       30.000000  17994.000000"
      ]
     },
     "execution_count": 5,
     "metadata": {},
     "output_type": "execute_result"
    }
   ],
   "source": [
    "df.describe()"
   ]
  },
  {
   "cell_type": "markdown",
   "id": "a5d2dea3-8123-4fe7-aaf8-dde7ff85780f",
   "metadata": {},
   "source": [
    "## Гипотеза: Низкое качество при длинных или слишком коротких запросах\n",
    "Если длина query_text слишком короткая или очень длинная пользователи реже совершают meaningful действия (like, subscribe, view) после поиска."
   ]
  },
  {
   "cell_type": "code",
   "execution_count": 7,
   "id": "a0f05a01-aacd-47f0-8fbc-57a01f337c4b",
   "metadata": {},
   "outputs": [
    {
     "data": {
      "image/png": "[encoded data removed]",
      "text/plain": [
       "<Figure size 1000x500 with 1 Axes>"
      ]
     },
     "metadata": {},
     "output_type": "display_data"
    }
   ],
   "source": [
    "# Добавим флаг успешности\n",
    "df['is_success'] = df['event'].isin(['view', 'like', 'subscribe'])\n",
    "\n",
    "# Разделим данные\n",
    "success_lengths = df[df['is_success']]['query_text'].str.len().dropna()\n",
    "other_lengths = df[~df['is_success']]['query_text'].str.len().dropna()\n",
    "\n",
    "# График\n",
    "plt.figure(figsize=(10, 5))\n",
    "sns.kdeplot(success_lengths, label='Успешные', fill=True)\n",
    "sns.kdeplot(other_lengths, label='Остальные', fill=True, alpha=0.5)\n",
    "plt.title('Сравнение распределений длин запросов')\n",
    "plt.xlabel('Длина запроса (символы)')\n",
    "plt.legend()\n",
    "plt.show()"
   ]
  },
  {
   "cell_type": "markdown",
   "id": "2c3681ed-1090-49b3-953e-3510acb71f55",
   "metadata": {},
   "source": [
    "**Думаю, данную гипотезу можно отвергнуть, распределения почти не отличаются**"
   ]
  },
  {
   "cell_type": "code",
   "execution_count": null,
   "id": "21720e1e-b80c-4fff-8ca4-4d1d00217f5b",
   "metadata": {},
   "outputs": [],
   "source": []
  },
  {
   "cell_type": "markdown",
   "id": "e77fa8dc-2da2-4328-b714-2656344a7180",
   "metadata": {},
   "source": [
    "## Гипотеза: Проблемы с определением типа документа\n",
    "Если после поиска (event = search) документ в результатах имеет неопределённый тип (doc_type = NaN), пользователи реже совершают целевые действия (tap, like, view, subscribe)\""
   ]
  },
  {
   "cell_type": "code",
   "execution_count": 10,
   "id": "6e23fe36-6e35-4a67-8852-888bd4efda35",
   "metadata": {},
   "outputs": [],
   "source": [
    "# df['doc_type'].value_counts()"
   ]
  },
  {
   "cell_type": "code",
   "execution_count": 11,
   "id": "5515a7e2-5811-401d-a2aa-d29b47f0d4bc",
   "metadata": {},
   "outputs": [],
   "source": [
    "df['is_doc_ambiguous'] = df['doc_type'].isna().astype(int)"
   ]
  },
  {
   "cell_type": "code",
   "execution_count": 12,
   "id": "1a1c5607-f930-49dc-a606-a9533d8d203d",
   "metadata": {},
   "outputs": [],
   "source": [
    "# Группируем по query_id и проверяем успешность\n",
    "search_sessions = df[df['event'] == 'search'].groupby('query_id').agg(\n",
    "    has_success_event=('event', lambda x: any(e in ['tap', 'like', 'view', 'subscribe'] for e in x)),\n",
    "    is_doc_ambiguous=('is_doc_ambiguous', 'max')  # 1 если хотя бы один doc_type в сессии NaN\n",
    ").reset_index()"
   ]
  },
  {
   "cell_type": "code",
   "execution_count": 13,
   "id": "eb080ff0-1c55-4da4-8a1f-384afc17e63c",
   "metadata": {},
   "outputs": [
    {
     "name": "stdout",
     "output_type": "stream",
     "text": [
      "                  success_rate  count  failure_rate\n",
      "is_doc_ambiguous                                   \n",
      "1                          0.0   4677           1.0\n"
     ]
    }
   ],
   "source": [
    "failure_rates = search_sessions.groupby('is_doc_ambiguous')['has_success_event'].agg(\n",
    "    success_rate='mean',\n",
    "    count='count'\n",
    ")\n",
    "failure_rates['failure_rate'] = 1 - failure_rates['success_rate']\n",
    "print(failure_rates)"
   ]
  },
  {
   "cell_type": "markdown",
   "id": "f0c3e110-c92c-4e18-b14a-dfec7b3eae4b",
   "metadata": {},
   "source": [
    "**Во всех 4677 случаях, когда тип документа (doc_type) был неопределён (is_doc_ambiguous = 1), пользователи никогда не совершали целевых действий (tap, like, view, subscribe) после поиска.**"
   ]
  },
  {
   "cell_type": "code",
   "execution_count": 15,
   "id": "8fcc19a3-6714-484c-8f20-3c7065b95188",
   "metadata": {},
   "outputs": [
    {
     "name": "stdout",
     "output_type": "stream",
     "text": [
      "query_text\n",
      "альтернативные концовки известных фильмов         25\n",
      "самые низкооцененные фильмы на Rotten Tomatoes    23\n",
      "фильмы про искусственный интеллект                23\n",
      "фильмы, снятые в Париже                           23\n",
      "русские фильмы про войну                          22\n",
      "Name: count, dtype: int64\n"
     ]
    }
   ],
   "source": [
    "top_failed_queries = df[df['doc_type'].isna()]['query_text'].value_counts().head(5)\n",
    "print(top_failed_queries)"
   ]
  },
  {
   "cell_type": "markdown",
   "id": "7790ebc1-5f8b-4891-8e43-5dee631c437d",
   "metadata": {},
   "source": [
    "**При doc_type=NaN можно предлагать гибридную выдачу (например, видео + плейлисты + клипы).**"
   ]
  },
  {
   "cell_type": "code",
   "execution_count": null,
   "id": "9a4c1b00-af26-42f5-a761-bca7924039e9",
   "metadata": {},
   "outputs": [],
   "source": []
  },
  {
   "cell_type": "markdown",
   "id": "9887a664-da83-4440-9f09-79e7e984a8c3",
   "metadata": {},
   "source": [
    "## Гипотеза: Высокая доля кликов на элементы внизу выдачи\n",
    "Если клики (tap) чаще происходят на позициях > 4, а верх выдачи (позиции 1-4) игнорируется, значит, верх нерелевантен. \\\n",
    "Дополнительно: если клики внизу выдачи реже приводят к лайкам/подпискам/шэрам, это усиливает проблему."
   ]
  },
  {
   "cell_type": "markdown",
   "id": "bd8bdbd9-20a7-4740-b4b7-f3ab2ea96bb5",
   "metadata": {},
   "source": [
    "Нужно учесть, что есть события поиска, когда click_position = 0 - их убираем из анализа"
   ]
  },
  {
   "cell_type": "code",
   "execution_count": 19,
   "id": "d9a3f775-a9c1-4220-a0cc-1adddcddfc2f",
   "metadata": {},
   "outputs": [
    {
     "name": "stdout",
     "output_type": "stream",
     "text": [
      "Корректное распределение кликов:\n",
      " position_group\n",
      "bottom    0.689515\n",
      "top       0.310485\n",
      "Name: proportion, dtype: float64\n"
     ]
    }
   ],
   "source": [
    "# 1. Фильтруем только реальные клики (исключаем search и другие события без позиции)\n",
    "real_clicks = df[(df['event'] == 'tap') & (df['click_position'] > 0)].copy()\n",
    "\n",
    "# 2. Разделяем на группы\n",
    "real_clicks['position_group'] = np.where(real_clicks['click_position'] <= 4, 'top', 'bottom')\n",
    "\n",
    "# 3. Распределение кликов по группам\n",
    "clicks_distribution = real_clicks['position_group'].value_counts(normalize=True)\n",
    "print(\"Корректное распределение кликов:\\n\", clicks_distribution)"
   ]
  },
  {
   "cell_type": "markdown",
   "id": "8931a994-aec8-4a9d-977d-0e87bfbc6004",
   "metadata": {},
   "source": [
    "**Гипотеза подтверждается - верх выдачи нерелевантен, если судить по тапам \\\n",
    "Попробуем посмотреть не только на тапы, но и на другие события**"
   ]
  },
  {
   "cell_type": "code",
   "execution_count": 21,
   "id": "2721f2c3-45bb-4486-91e7-11960b86848d",
   "metadata": {},
   "outputs": [
    {
     "name": "stdout",
     "output_type": "stream",
     "text": [
      "Корректное распределение кликов:\n",
      " position_group\n",
      "bottom    0.675905\n",
      "top       0.324095\n",
      "Name: proportion, dtype: float64\n"
     ]
    }
   ],
   "source": [
    "# 1. Фильтруем только реальные клики (исключаем search и другие события без позиции)\n",
    "real_clicks = df[(df['click_position'] > 0)].copy()\n",
    "\n",
    "# 2. Разделяем на группы\n",
    "real_clicks['position_group'] = np.where(real_clicks['click_position'] <= 4, 'top', 'bottom')\n",
    "\n",
    "# 3. Распределение кликов по группам\n",
    "clicks_distribution = real_clicks['position_group'].value_counts(normalize=True)\n",
    "print(\"Корректное распределение кликов:\\n\", clicks_distribution)"
   ]
  },
  {
   "cell_type": "markdown",
   "id": "74ee6f04-bcbc-455b-bab7-a94789547436",
   "metadata": {},
   "source": [
    "**Гипотеза подтверждается - верх выдачи нерелевантен**"
   ]
  },
  {
   "cell_type": "code",
   "execution_count": null,
   "id": "33a97d7e-d535-498e-8e93-88e5c427f20a",
   "metadata": {},
   "outputs": [],
   "source": []
  },
  {
   "cell_type": "markdown",
   "id": "51ff0435-3a63-474b-aa8b-a0072f847450",
   "metadata": {},
   "source": [
    "## Гипотеза: Проблемы на определённых платформах\n",
    "На некоторых platform может быть статистически значима ниже вовлечённость"
   ]
  },
  {
   "cell_type": "code",
   "execution_count": 123,
   "id": "486e9b70-03e8-4576-858b-ed62976ad8f2",
   "metadata": {},
   "outputs": [
    {
     "name": "stdout",
     "output_type": "stream",
     "text": [
      "Вовлечённость по платформам (CTR):\n",
      " platform\n",
      "android       0.749176\n",
      "android_tv    0.749812\n",
      "smart_tv      0.750411\n",
      "web           0.754216\n",
      "iphone        0.757189\n",
      "Name: is_engaged, dtype: float64\n"
     ]
    }
   ],
   "source": [
    "engaged_events = ['tap', 'view', 'like', 'subscribe', 'share']\n",
    "df['is_engaged'] = df['event'].isin(engaged_events)\n",
    "ctr_by_platform = df.groupby('platform')['is_engaged'].mean().sort_values()\n",
    "print(\"Вовлечённость по платформам (CTR):\\n\", ctr_by_platform)"
   ]
  },
  {
   "cell_type": "code",
   "execution_count": 133,
   "id": "3ed2a260-2f10-48dd-a9c5-2e055cd9d6ee",
   "metadata": {},
   "outputs": [
    {
     "name": "stdout",
     "output_type": "stream",
     "text": [
      "Контингентная таблица (платформа × вовлечённость):\n"
     ]
    },
    {
     "data": {
      "text/html": [
       "<div>\n",
       "<style scoped>\n",
       "    .dataframe tbody tr th:only-of-type {\n",
       "        vertical-align: middle;\n",
       "    }\n",
       "\n",
       "    .dataframe tbody tr th {\n",
       "        vertical-align: top;\n",
       "    }\n",
       "\n",
       "    .dataframe thead th {\n",
       "        text-align: right;\n",
       "    }\n",
       "</style>\n",
       "<table border=\"1\" class=\"dataframe\">\n",
       "  <thead>\n",
       "    <tr style=\"text-align: right;\">\n",
       "      <th>is_engaged</th>\n",
       "      <th>False</th>\n",
       "      <th>True</th>\n",
       "    </tr>\n",
       "    <tr>\n",
       "      <th>platform</th>\n",
       "      <th></th>\n",
       "      <th></th>\n",
       "    </tr>\n",
       "  </thead>\n",
       "  <tbody>\n",
       "    <tr>\n",
       "      <th>android</th>\n",
       "      <td>1065</td>\n",
       "      <td>3181</td>\n",
       "    </tr>\n",
       "    <tr>\n",
       "      <th>android_tv</th>\n",
       "      <td>997</td>\n",
       "      <td>2988</td>\n",
       "    </tr>\n",
       "    <tr>\n",
       "      <th>iphone</th>\n",
       "      <td>1047</td>\n",
       "      <td>3265</td>\n",
       "    </tr>\n",
       "    <tr>\n",
       "      <th>smart_tv</th>\n",
       "      <td>1062</td>\n",
       "      <td>3193</td>\n",
       "    </tr>\n",
       "    <tr>\n",
       "      <th>web</th>\n",
       "      <td>787</td>\n",
       "      <td>2415</td>\n",
       "    </tr>\n",
       "  </tbody>\n",
       "</table>\n",
       "</div>"
      ],
      "text/plain": [
       "is_engaged  False  True \n",
       "platform                \n",
       "android      1065   3181\n",
       "android_tv    997   2988\n",
       "iphone       1047   3265\n",
       "smart_tv     1062   3193\n",
       "web           787   2415"
      ]
     },
     "execution_count": 133,
     "metadata": {},
     "output_type": "execute_result"
    }
   ],
   "source": [
    "contingency_table = pd.crosstab(df['platform'], df['is_engaged'])\n",
    "print(\"Контингентная таблица (платформа × вовлечённость):\")\n",
    "contingency_table"
   ]
  },
  {
   "cell_type": "code",
   "execution_count": 139,
   "id": "938015c5-31fe-459b-a8cc-789f8ad7aa41",
   "metadata": {},
   "outputs": [
    {
     "name": "stdout",
     "output_type": "stream",
     "text": [
      "\n",
      "Хи-квадрат статистика = 1.0477\n",
      "p-value = 0.90249\n",
      "Нет статистически значимых различий (не отклоняем H0)\n"
     ]
    }
   ],
   "source": [
    "# Хи-квадрат тест\n",
    "chi2, p, dof, expected = stats.chi2_contingency(contingency_table)\n",
    "\n",
    "print(f\"\\nХи-квадрат статистика = {chi2:.4f}\")\n",
    "print(f\"p-value = {p:.5f}\")\n",
    "\n",
    "if p < 0.05:\n",
    "    print(\"Различия между платформами статистически значимы (отклоняем H0)\")\n",
    "else:\n",
    "    print(\"Нет статистически значимых различий (не отклоняем H0)\")"
   ]
  },
  {
   "cell_type": "markdown",
   "id": "d9acbe65-201b-403a-8271-843c6d7a38a5",
   "metadata": {},
   "source": [
    "**CTR по платформам не отличается, изначальная гипотеза отвергается**"
   ]
  },
  {
   "cell_type": "code",
   "execution_count": 145,
   "id": "e61bbe5a-c4d6-43b9-9a2e-e1211d7a53e1",
   "metadata": {},
   "outputs": [
    {
     "name": "stdout",
     "output_type": "stream",
     "text": [
      "\n",
      "Z-тест: z = 0.5425, p = 0.58750\n",
      "Различие не значимо\n"
     ]
    }
   ],
   "source": [
    "# Сравним TV и non-TV\n",
    "from statsmodels.stats.proportion import proportions_ztest\n",
    "\n",
    "df['platform_group'] = np.where(\n",
    "    df['platform'].isin(['android_tv', 'smart_tv']),\n",
    "    'tv',\n",
    "    'non_tv'\n",
    ")\n",
    "\n",
    "agg = df.groupby('platform_group')['is_engaged'].agg(['sum', 'count'])\n",
    "successes = agg['sum'].tolist()\n",
    "trials = agg['count'].tolist()\n",
    "\n",
    "z_stat, p_value = proportions_ztest(successes, trials, alternative='two-sided')\n",
    "\n",
    "print(f\"\\nZ-тест: z = {z_stat:.4f}, p = {p_value:.5f}\")\n",
    "if p_value < 0.05:\n",
    "    print(\"Различие между TV и non-TV значимо\")\n",
    "else:\n",
    "    print(\"Различие не значимо\")"
   ]
  },
  {
   "cell_type": "markdown",
   "id": "36c9e274-7952-411b-9a61-aed0d58704d4",
   "metadata": {},
   "source": [
    "**TV и non-TV тоже не отличаются**"
   ]
  },
  {
   "cell_type": "markdown",
   "id": "0016f060-978a-462d-bb93-f97f431c464b",
   "metadata": {},
   "source": [
    "## Гипотеза: Низкое удержание при просмотре может свидетельствовать о нерелевантном результате поиска.\n",
    "\n",
    "Если view_time после tap < X секунд, это сигнал нерелевантного результата."
   ]
  },
  {
   "cell_type": "markdown",
   "id": "1b03627d-cbc0-4c52-83b1-d9af5140b9ff",
   "metadata": {},
   "source": [
    "Сначала меня интересует, есть ли \"обрезанные сессии\" - те, которые начались не с поиска, а сразу с какого-то события."
   ]
  },
  {
   "cell_type": "code",
   "execution_count": 35,
   "id": "4b6f86a3-0d3c-405c-8a1e-1e14627e8ce8",
   "metadata": {},
   "outputs": [
    {
     "data": {
      "text/plain": [
       "2917"
      ]
     },
     "execution_count": 35,
     "metadata": {},
     "output_type": "execute_result"
    }
   ],
   "source": [
    "len(df[(df['event'] != 'search') & (df['view_time'] > 0)]) "
   ]
  },
  {
   "cell_type": "code",
   "execution_count": 36,
   "id": "1c530303-39bc-47dc-812a-f9aa4e2126f3",
   "metadata": {},
   "outputs": [
    {
     "name": "stdout",
     "output_type": "stream",
     "text": [
      "Таких query_id: 13753\n"
     ]
    },
    {
     "data": {
      "text/html": [
       "<div>\n",
       "<style scoped>\n",
       "    .dataframe tbody tr th:only-of-type {\n",
       "        vertical-align: middle;\n",
       "    }\n",
       "\n",
       "    .dataframe tbody tr th {\n",
       "        vertical-align: top;\n",
       "    }\n",
       "\n",
       "    .dataframe thead th {\n",
       "        text-align: right;\n",
       "    }\n",
       "</style>\n",
       "<table border=\"1\" class=\"dataframe\">\n",
       "  <thead>\n",
       "    <tr style=\"text-align: right;\">\n",
       "      <th></th>\n",
       "      <th>user_id</th>\n",
       "      <th>sex</th>\n",
       "      <th>age</th>\n",
       "      <th>platform</th>\n",
       "      <th>query_id</th>\n",
       "      <th>query_text</th>\n",
       "      <th>query_type</th>\n",
       "      <th>event</th>\n",
       "      <th>click_position</th>\n",
       "      <th>doc_type</th>\n",
       "      <th>view_time</th>\n",
       "      <th>is_success</th>\n",
       "      <th>is_doc_ambiguous</th>\n",
       "    </tr>\n",
       "  </thead>\n",
       "  <tbody>\n",
       "    <tr>\n",
       "      <th>0</th>\n",
       "      <td>96422511</td>\n",
       "      <td>female</td>\n",
       "      <td>68</td>\n",
       "      <td>android</td>\n",
       "      <td>89656828</td>\n",
       "      <td>передачи о новых технологиях</td>\n",
       "      <td>show</td>\n",
       "      <td>share</td>\n",
       "      <td>6</td>\n",
       "      <td>playlist</td>\n",
       "      <td>0</td>\n",
       "      <td>False</td>\n",
       "      <td>0</td>\n",
       "    </tr>\n",
       "    <tr>\n",
       "      <th>4</th>\n",
       "      <td>6206023</td>\n",
       "      <td>female</td>\n",
       "      <td>24</td>\n",
       "      <td>android</td>\n",
       "      <td>20838049</td>\n",
       "      <td>вики шоу аманда</td>\n",
       "      <td>show</td>\n",
       "      <td>subscribe</td>\n",
       "      <td>7</td>\n",
       "      <td>author</td>\n",
       "      <td>0</td>\n",
       "      <td>True</td>\n",
       "      <td>0</td>\n",
       "    </tr>\n",
       "    <tr>\n",
       "      <th>5</th>\n",
       "      <td>8004249</td>\n",
       "      <td>anonym</td>\n",
       "      <td>0</td>\n",
       "      <td>android</td>\n",
       "      <td>19760211</td>\n",
       "      <td>как купить билеты на Грибов</td>\n",
       "      <td>music</td>\n",
       "      <td>tap</td>\n",
       "      <td>1</td>\n",
       "      <td>author</td>\n",
       "      <td>0</td>\n",
       "      <td>False</td>\n",
       "      <td>0</td>\n",
       "    </tr>\n",
       "    <tr>\n",
       "      <th>6</th>\n",
       "      <td>11617125</td>\n",
       "      <td>female</td>\n",
       "      <td>66</td>\n",
       "      <td>android_tv</td>\n",
       "      <td>59650610</td>\n",
       "      <td>5+1 шоу парень бедный</td>\n",
       "      <td>show</td>\n",
       "      <td>subscribe</td>\n",
       "      <td>8</td>\n",
       "      <td>video</td>\n",
       "      <td>0</td>\n",
       "      <td>True</td>\n",
       "      <td>0</td>\n",
       "    </tr>\n",
       "    <tr>\n",
       "      <th>7</th>\n",
       "      <td>79473329</td>\n",
       "      <td>anonym</td>\n",
       "      <td>0</td>\n",
       "      <td>smart_tv</td>\n",
       "      <td>569617620</td>\n",
       "      <td>биография Мэрилин Монро</td>\n",
       "      <td>films</td>\n",
       "      <td>tap</td>\n",
       "      <td>5</td>\n",
       "      <td>clip</td>\n",
       "      <td>0</td>\n",
       "      <td>False</td>\n",
       "      <td>0</td>\n",
       "    </tr>\n",
       "  </tbody>\n",
       "</table>\n",
       "</div>"
      ],
      "text/plain": [
       "    user_id     sex  age    platform   query_id                    query_text  \\\n",
       "0  96422511  female   68     android   89656828  передачи о новых технологиях   \n",
       "4   6206023  female   24     android   20838049               вики шоу аманда   \n",
       "5   8004249  anonym    0     android   19760211   как купить билеты на Грибов   \n",
       "6  11617125  female   66  android_tv   59650610        5+1 шоу парень бедный    \n",
       "7  79473329  anonym    0    smart_tv  569617620       биография Мэрилин Монро   \n",
       "\n",
       "  query_type      event  click_position  doc_type  view_time  is_success  \\\n",
       "0       show      share               6  playlist          0       False   \n",
       "4       show  subscribe               7    author          0        True   \n",
       "5      music        tap               1    author          0       False   \n",
       "6       show  subscribe               8     video          0        True   \n",
       "7      films        tap               5      clip          0       False   \n",
       "\n",
       "   is_doc_ambiguous  \n",
       "0                 0  \n",
       "4                 0  \n",
       "5                 0  \n",
       "6                 0  \n",
       "7                 0  "
      ]
     },
     "execution_count": 36,
     "metadata": {},
     "output_type": "execute_result"
    }
   ],
   "source": [
    "#было хотя бы одно НЕ search-событие\n",
    "non_search_qids = set(df[df['event'] != 'search']['query_id'])\n",
    "\n",
    "#было хотя бы одно событие search\n",
    "search_qids = set(df[df['event'] == 'search']['query_id'])\n",
    "\n",
    "#есть в non_search_qids, но нет в search_qids\n",
    "query_ids_without_search = non_search_qids - search_qids\n",
    "\n",
    "print(f\"Таких query_id: {len(query_ids_without_search)}\")\n",
    "\n",
    "#пример таких записей\n",
    "df[df['query_id'].isin(query_ids_without_search)].head()"
   ]
  },
  {
   "cell_type": "markdown",
   "id": "e2aca5b7-fbc8-48bc-ba94-ae1bc9f90fff",
   "metadata": {},
   "source": [
    "Получается весьма интересное наблюдение, таких query_id целых больше 13 000 \\\n",
    "Чтобы понимать нормально это или нет нужно иметь более полные данные (например, пригодилась бы временная метка события), либо экспертизу коллег. \\\n",
    "Скорее всего это обрезанные сессии либо юзер сразу тапает на интересное видео с главного экрана, даже не вбивая search. \\\n",
    "В данном исследовании за неимением полной информации представим, что это нормально."
   ]
  },
  {
   "cell_type": "markdown",
   "id": "6e5ed827-c891-4e40-9089-c529c378d707",
   "metadata": {},
   "source": [
    "Еще одна интересная мысль, есть ли такие кейсы где query_id одинаковый, но user_id разные?"
   ]
  },
  {
   "cell_type": "code",
   "execution_count": 39,
   "id": "f133a359-6398-45e5-b57f-db8c2a1ef5fa",
   "metadata": {},
   "outputs": [
    {
     "name": "stdout",
     "output_type": "stream",
     "text": [
      "Количество query_id, встречающихся у более чем одного пользователя: 576\n"
     ]
    },
    {
     "data": {
      "text/html": [
       "<div>\n",
       "<style scoped>\n",
       "    .dataframe tbody tr th:only-of-type {\n",
       "        vertical-align: middle;\n",
       "    }\n",
       "\n",
       "    .dataframe tbody tr th {\n",
       "        vertical-align: top;\n",
       "    }\n",
       "\n",
       "    .dataframe thead th {\n",
       "        text-align: right;\n",
       "    }\n",
       "</style>\n",
       "<table border=\"1\" class=\"dataframe\">\n",
       "  <thead>\n",
       "    <tr style=\"text-align: right;\">\n",
       "      <th></th>\n",
       "      <th>user_id</th>\n",
       "      <th>query_text</th>\n",
       "      <th>event</th>\n",
       "    </tr>\n",
       "  </thead>\n",
       "  <tbody>\n",
       "    <tr>\n",
       "      <th>3189</th>\n",
       "      <td>17069210</td>\n",
       "      <td>дизель шоу про украинский язык</td>\n",
       "      <td>search</td>\n",
       "    </tr>\n",
       "    <tr>\n",
       "      <th>19485</th>\n",
       "      <td>13667194</td>\n",
       "      <td>где выступит Rammstein в 2024</td>\n",
       "      <td>like</td>\n",
       "    </tr>\n",
       "  </tbody>\n",
       "</table>\n",
       "</div>"
      ],
      "text/plain": [
       "        user_id                      query_text   event\n",
       "3189   17069210  дизель шоу про украинский язык  search\n",
       "19485  13667194   где выступит Rammstein в 2024    like"
      ]
     },
     "execution_count": 39,
     "metadata": {},
     "output_type": "execute_result"
    }
   ],
   "source": [
    "# Сгруппируем по query_id и посчитаем количество уникальных user_id на каждый из них\n",
    "qid_user_counts = df.groupby('query_id')['user_id'].nunique()\n",
    "\n",
    "# Оставим только те query_id, где больше 1 уникального user_id\n",
    "shared_query_ids = qid_user_counts[qid_user_counts > 1]\n",
    "\n",
    "print(f\"Количество query_id, встречающихся у более чем одного пользователя: {len(shared_query_ids)}\")\n",
    "\n",
    "example_qid = shared_query_ids.index[0]\n",
    "df[df['query_id'] == example_qid][['user_id', 'query_text', 'event']].drop_duplicates()"
   ]
  },
  {
   "cell_type": "code",
   "execution_count": 40,
   "id": "3781d113-9095-414c-9a80-204777d74f47",
   "metadata": {},
   "outputs": [
    {
     "data": {
      "text/plain": [
       "435049"
      ]
     },
     "execution_count": 40,
     "metadata": {},
     "output_type": "execute_result"
    }
   ],
   "source": [
    "example_qid"
   ]
  },
  {
   "cell_type": "markdown",
   "id": "bfd39ed9-5606-4052-a59f-26315cca9c1c",
   "metadata": {},
   "source": [
    "Вот это уже странно. Юзеры разные, а query_id один и тот же. Может быть какая-нибудь семейная подписка? Ошибка в системе?"
   ]
  },
  {
   "cell_type": "code",
   "execution_count": 42,
   "id": "6d564855-1aca-4166-bd30-c98baf46abd1",
   "metadata": {},
   "outputs": [
    {
     "data": {
      "text/plain": [
       "Text(0.5, 1.0, 'Распределение event')"
      ]
     },
     "execution_count": 42,
     "metadata": {},
     "output_type": "execute_result"
    },
    {
     "data": {
      "image/png": "[encoded data removed]",
      "text/plain": [
       "<Figure size 600x300 with 1 Axes>"
      ]
     },
     "metadata": {},
     "output_type": "display_data"
    }
   ],
   "source": [
    "plt.figure(figsize=(6, 3))\n",
    "sns.barplot(df['event'].value_counts())\n",
    "plt.title('Распределение event')"
   ]
  },
  {
   "cell_type": "code",
   "execution_count": 43,
   "id": "1958a1e2-f271-41d2-893b-bf04c94a34d3",
   "metadata": {},
   "outputs": [
    {
     "data": {
      "text/plain": [
       "event\n",
       "view    2917\n",
       "Name: count, dtype: int64"
      ]
     },
     "execution_count": 43,
     "metadata": {},
     "output_type": "execute_result"
    }
   ],
   "source": [
    "# А так выглядит распределение event для view_time > 0\n",
    "df[df['view_time'] > 0]['event'].value_counts()"
   ]
  },
  {
   "cell_type": "code",
   "execution_count": 44,
   "id": "cd0ebada-d65e-4b17-9065-1b0ca484e8ea",
   "metadata": {},
   "outputs": [
    {
     "data": {
      "text/plain": [
       "<Axes: xlabel='view_time', ylabel='Count'>"
      ]
     },
     "execution_count": 44,
     "metadata": {},
     "output_type": "execute_result"
    },
    {
     "data": {
      "image/png": "[encoded data removed]",
      "text/plain": [
       "<Figure size 600x300 with 1 Axes>"
      ]
     },
     "metadata": {},
     "output_type": "display_data"
    }
   ],
   "source": [
    "plt.figure(figsize=(6, 3))\n",
    "sns.histplot(df[df['view_time'] > 0]['view_time'], bins=50)"
   ]
  },
  {
   "cell_type": "code",
   "execution_count": 45,
   "id": "6572e2fe-5ce4-4d2d-a274-8b0971d14fb8",
   "metadata": {},
   "outputs": [
    {
     "data": {
      "text/html": [
       "<div>\n",
       "<style scoped>\n",
       "    .dataframe tbody tr th:only-of-type {\n",
       "        vertical-align: middle;\n",
       "    }\n",
       "\n",
       "    .dataframe tbody tr th {\n",
       "        vertical-align: top;\n",
       "    }\n",
       "\n",
       "    .dataframe thead th {\n",
       "        text-align: right;\n",
       "    }\n",
       "</style>\n",
       "<table border=\"1\" class=\"dataframe\">\n",
       "  <thead>\n",
       "    <tr style=\"text-align: right;\">\n",
       "      <th></th>\n",
       "      <th>user_id</th>\n",
       "      <th>sex</th>\n",
       "      <th>age</th>\n",
       "      <th>platform</th>\n",
       "      <th>query_id</th>\n",
       "      <th>query_text</th>\n",
       "      <th>query_type</th>\n",
       "      <th>event</th>\n",
       "      <th>click_position</th>\n",
       "      <th>doc_type</th>\n",
       "      <th>view_time</th>\n",
       "      <th>is_success</th>\n",
       "      <th>is_doc_ambiguous</th>\n",
       "    </tr>\n",
       "  </thead>\n",
       "  <tbody>\n",
       "  </tbody>\n",
       "</table>\n",
       "</div>"
      ],
      "text/plain": [
       "Empty DataFrame\n",
       "Columns: [user_id, sex, age, platform, query_id, query_text, query_type, event, click_position, doc_type, view_time, is_success, is_doc_ambiguous]\n",
       "Index: []"
      ]
     },
     "execution_count": 45,
     "metadata": {},
     "output_type": "execute_result"
    }
   ],
   "source": [
    "# Очень мало вообще таких событий\n",
    "df[(df['view_time'] > 0) & (df['view_time'] < 4)]"
   ]
  },
  {
   "cell_type": "code",
   "execution_count": 46,
   "id": "6547f31f-5d79-4243-b0d7-22c1c3912b4a",
   "metadata": {},
   "outputs": [
    {
     "data": {
      "text/plain": [
       "<Axes: xlabel='view_time', ylabel='Count'>"
      ]
     },
     "execution_count": 46,
     "metadata": {},
     "output_type": "execute_result"
    },
    {
     "data": {
      "image/png": "[encoded data removed]",
      "text/plain": [
       "<Figure size 640x480 with 1 Axes>"
      ]
     },
     "metadata": {},
     "output_type": "display_data"
    }
   ],
   "source": [
    "sns.histplot(df[(df['view_time'] > 0) & (df['doc_type'] == 'clip')]['view_time'], bins=50)"
   ]
  },
  {
   "cell_type": "markdown",
   "id": "ecff79fa-2002-4ff9-97b1-d986fe88c2b5",
   "metadata": {},
   "source": [
    "Я убрал из анализа распределения просмотры клипов с временем = 0, тк если человек даже на секунду не задержался на клипе, как я могу судить об его удержании на нем?  \n",
    "Как понимать такое распределение времени просмотра для клипов? Максимальная длина клипа во «ВКонтакте» — от 3 секунд до 3 минут. (Возможно человек условно оставил экран телефона включенным, сам отошел, а клип все это время играл?)"
   ]
  },
  {
   "cell_type": "markdown",
   "id": "6b39cecb-5ff0-4831-8937-5a88d851b8a6",
   "metadata": {},
   "source": [
    "**Не могу ни не отвергнуть, ни опровергнуть гипотезу \"Низкое удержание при просмотре может свидетельствовать о нерелевантном результате поиска.\" - требуется более четкое понимание данных**"
   ]
  },
  {
   "cell_type": "code",
   "execution_count": 49,
   "id": "cc9de34b-5852-4f60-8a80-43b9e3585568",
   "metadata": {},
   "outputs": [],
   "source": [
    "# попробуем переформулировать гипотезу"
   ]
  },
  {
   "cell_type": "markdown",
   "id": "df3d7389-6ea2-4908-be2b-e175f4109bba",
   "metadata": {},
   "source": [
    "## Гипотеза: Высокий bounce rate после клика\n",
    "Пользователь делает tap, но нет view → сигнал \"ложнопозитивной\" привлекательности результата."
   ]
  },
  {
   "cell_type": "code",
   "execution_count": 51,
   "id": "6b6e19a3-efa0-44a7-b917-1cce58ea1a36",
   "metadata": {},
   "outputs": [],
   "source": [
    "tap_df = df[df['event'] == 'tap']"
   ]
  },
  {
   "cell_type": "code",
   "execution_count": 52,
   "id": "7b083a08-0961-45be-b52e-1807c52d7e01",
   "metadata": {},
   "outputs": [],
   "source": [
    "view_df = df[df['event'] == 'view']"
   ]
  },
  {
   "cell_type": "code",
   "execution_count": 53,
   "id": "3cb912dd-c558-4030-9d18-60bff18d9407",
   "metadata": {},
   "outputs": [],
   "source": [
    "merged = tap_df.merge(\n",
    "    view_df[['user_id', 'query_id', 'view_time']],\n",
    "    on=['user_id', 'query_id'],\n",
    "    how='left'\n",
    ")"
   ]
  },
  {
   "cell_type": "code",
   "execution_count": 54,
   "id": "34d59d7b-9074-48e2-902e-3d96ea4f97bc",
   "metadata": {},
   "outputs": [
    {
     "name": "stdout",
     "output_type": "stream",
     "text": [
      "Всего tap: 6564\n",
      "Плохих tap (без view или <3 сек): 6481\n",
      "Доля таких: 98.7%\n"
     ]
    }
   ],
   "source": [
    "bad_taps = merged[(merged['view_time_y'].isna())]\n",
    "\n",
    "bad_tap_share = len(bad_taps) / len(tap_df)\n",
    "\n",
    "print(f\"Всего tap: {len(tap_df)}\")\n",
    "print(f\"Плохих tap (без view или <3 сек): {len(bad_taps)}\")\n",
    "print(f\"Доля таких: {bad_tap_share:.1%}\")"
   ]
  },
  {
   "cell_type": "markdown",
   "id": "86849b69-f48e-498d-bc1e-4632be95f8b9",
   "metadata": {},
   "source": [
    "Ну опять же странно, сделать тап, но нет даже просмотра. \\\n",
    "Конкретно на данном датасете нет смысла изучать поведенческие паттерны пользователя, так как желательно иметь для этого временную метку, что б понимать юзер делал запросы в примерно один период времени или в разные - так выводы будут корректнее."
   ]
  },
  {
   "cell_type": "code",
   "execution_count": null,
   "id": "6643cb54-371a-4ae6-a709-f011fd1b4625",
   "metadata": {},
   "outputs": [],
   "source": []
  },
  {
   "cell_type": "markdown",
   "id": "9f41d693-16fd-476c-8aee-1aaeaf3ee15b",
   "metadata": {},
   "source": [
    "## Гипотеза: CTR по категориям query_type отличается\n",
    "Если CTR по категориям query_type значимо отличается, то по какой-то из категорий вовлеченность пользователя хуже."
   ]
  },
  {
   "cell_type": "code",
   "execution_count": 114,
   "id": "4ec59e73-f684-4c1a-9a25-b5b4778f31da",
   "metadata": {},
   "outputs": [
    {
     "data": {
      "text/plain": [
       "query_type\n",
       "show     5000\n",
       "news     5000\n",
       "music    5000\n",
       "films    5000\n",
       "Name: count, dtype: int64"
      ]
     },
     "execution_count": 114,
     "metadata": {},
     "output_type": "execute_result"
    }
   ],
   "source": [
    "df['query_type'].value_counts()"
   ]
  },
  {
   "cell_type": "code",
   "execution_count": 152,
   "id": "7945de0a-9d55-49d4-b99e-99df62c72186",
   "metadata": {},
   "outputs": [
    {
     "name": "stdout",
     "output_type": "stream",
     "text": [
      "Контингентная таблица (query_type × вовлеченность):\n",
      "is_engaged  False  True \n",
      "query_type              \n",
      "films        1258   3742\n",
      "music        1227   3773\n",
      "news         1232   3768\n",
      "show         1241   3759\n",
      "\n",
      "Хи-квадрат статистика = 0.5975\n",
      "p-value = 0.89701\n",
      "Нет статистически значимых различий (не отклоняем H0)\n"
     ]
    }
   ],
   "source": [
    "engaged_events = ['tap', 'view', 'like', 'subscribe', 'share']\n",
    "df['is_engaged'] = df['event'].isin(engaged_events)\n",
    "\n",
    "contingency = pd.crosstab(df['query_type'], df['is_engaged'])\n",
    "print(\"Контингентная таблица (query_type × вовлеченность):\")\n",
    "print(contingency)\n",
    "\n",
    "chi2, p, dof, expected = chi2_contingency(contingency)\n",
    "print(f\"\\nХи-квадрат статистика = {chi2:.4f}\")\n",
    "print(f\"p-value = {p:.5f}\")\n",
    "\n",
    "if p < 0.05:\n",
    "    print(\"Различия между query_type статистически значимы (отклоняем H0)\")\n",
    "else:\n",
    "    print(\"Нет статистически значимых различий (не отклоняем H0)\")"
   ]
  },
  {
   "cell_type": "code",
   "execution_count": 156,
   "id": "31e5ce6e-3959-4e96-86a9-45c1f1660a87",
   "metadata": {},
   "outputs": [
    {
     "data": {
      "image/png": "[encoded data removed]",
      "text/plain": [
       "<Figure size 600x300 with 1 Axes>"
      ]
     },
     "metadata": {},
     "output_type": "display_data"
    },
    {
     "name": "stdout",
     "output_type": "stream",
     "text": [
      "\n",
      "CTR по категориям:\n",
      "query_type\n",
      "films    0.7484\n",
      "show     0.7518\n",
      "news     0.7536\n",
      "music    0.7546\n",
      "Name: is_engaged, dtype: float64\n"
     ]
    }
   ],
   "source": [
    "ctr_by_query_type = df.groupby('query_type')['is_engaged'].mean().sort_values()\n",
    "\n",
    "plt.figure(figsize=(6, 3))\n",
    "sns.barplot(x=ctr_by_query_type.index, y=ctr_by_query_type.values)\n",
    "plt.title(\"CTR по категориям query_type\")\n",
    "plt.ylabel(\"Доля вовлечённых событий\")\n",
    "plt.show()\n",
    "\n",
    "print(\"\\nCTR по категориям:\")\n",
    "print(ctr_by_query_type)"
   ]
  },
  {
   "cell_type": "markdown",
   "id": "ced10b6a-8945-4126-996b-4a291372e5f6",
   "metadata": {},
   "source": [
    "**Гипотеза не подтвердилась - по категориям query_type значимо не отличается**"
   ]
  },
  {
   "cell_type": "markdown",
   "id": "e4dd0341-5256-4c8a-9f9d-d3678b479347",
   "metadata": {},
   "source": [
    "## Summary"
   ]
  },
  {
   "cell_type": "markdown",
   "id": "18b32604-2239-4349-abdd-076c3c8bb1f4",
   "metadata": {},
   "source": [
    "С высокой долей уверенности можно говорить о следующем:\n",
    "1) В кейсах, где doc_type не определен, пользователи не совершают целевых действий (можно предлагать гибридную выдачу (например, видео + клипы).\n",
    "2) Верх выдачи результата запроса чаще всего нерелевантен (скорее всего нужно улучшать рекомендательные системы).\n",
    "\n",
    "При этом найдены следущие моменты, на которые стоит обратить внимание:\n",
    "1) Большинство query не начинаются с search, вместо этого сразу наблюдается целевое действие (либо юзер сразу тапает на элемент с главного экрана, либо датасет подрезанный)\n",
    "2) Есть такие кейсы где query_id одинаковый, но user_id разные\n",
    "3) Странное распределения времени просмотров для клипов. (Возможно человек условно оставил экран телефона включенным, сам отошел, а клип все это время играл?)"
   ]
  },
  {
   "cell_type": "code",
   "execution_count": null,
   "id": "735f3ff9-b6d9-49c8-8180-0a73d7880eba",
   "metadata": {},
   "outputs": [],
   "source": []
  },
  {
   "cell_type": "code",
   "execution_count": null,
   "id": "51c02694-ad6b-465e-8d6e-71e3a21ac73d",
   "metadata": {},
   "outputs": [],
   "source": []
  }
 ],
 "metadata": {
  "kernelspec": {
   "display_name": "Python 3 (ipykernel)",
   "language": "python",
   "name": "python3"
  },
  "language_info": {
   "codemirror_mode": {
    "name": "ipython",
    "version": 3
   },
   "file_extension": ".py",
   "mimetype": "text/x-python",
   "name": "python",
   "nbconvert_exporter": "python",
   "pygments_lexer": "ipython3",
   "version": "3.12.4"
  }
 },
 "nbformat": 4,
 "nbformat_minor": 5
}
