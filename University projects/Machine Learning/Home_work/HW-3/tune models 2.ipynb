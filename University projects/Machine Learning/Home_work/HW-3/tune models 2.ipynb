{
 "cells": [
  {
   "cell_type": "code",
   "execution_count": 1,
   "id": "a17a9759-53c9-4151-986a-9caec16a086b",
   "metadata": {},
   "outputs": [],
   "source": [
    "import numpy as np\n",
    "import pandas as pd\n",
    "import matplotlib.pyplot as plt\n",
    "import seaborn as sns\n",
    "from IPython.display import display\n",
    "\n",
    "pd.set_option('display.max_columns', None)  # Отображать все колонки\n",
    "\n",
    "from sklearn.metrics import make_scorer, confusion_matrix\n",
    "from sklearn.metrics import fbeta_score\n",
    "from matplotlib.colors import ListedColormap\n",
    "from sklearn.ensemble import RandomForestClassifier\n",
    "from sklearn import tree\n",
    "from sklearn.model_selection import train_test_split\n",
    "from sklearn.model_selection import RandomizedSearchCV\n",
    "from sklearn.ensemble import RandomForestClassifier\n",
    "from scipy.stats import randint\n",
    "from sklearn.feature_selection import SequentialFeatureSelector\n",
    "from datetime import datetime\n",
    "from sklearn.ensemble import ExtraTreesClassifier\n",
    "from sklearn.preprocessing import PolynomialFeatures\n",
    "from sklearn.pipeline import Pipeline\n",
    "from sklearn.compose import ColumnTransformer\n",
    "from sklearn.feature_selection import RFECV\n",
    "from sklearn.model_selection import StratifiedKFold\n",
    "from sklearn.ensemble import GradientBoostingClassifier\n",
    "from sklearn.model_selection import FixedThresholdClassifier\n",
    "\n",
    "# pip install featuretools\n",
    "\n",
    "from sklearn.metrics import accuracy_score, precision_score, recall_score, make_scorer, f1_score, classification_report, confusion_matrix, roc_curve, precision_recall_curve, RocCurveDisplay, PrecisionRecallDisplay, ConfusionMatrixDisplay\n",
    "from sklearn.metrics import confusion_matrix\n"
   ]
  },
  {
   "cell_type": "code",
   "execution_count": 2,
   "id": "4e674573-802e-4e31-aa50-af5761dc590a",
   "metadata": {},
   "outputs": [],
   "source": [
    "path_train = 'train.csv' # содержит только имя файла, без имен папок !!!\n",
    "path_y = 'train_Y.csv'"
   ]
  },
  {
   "cell_type": "code",
   "execution_count": 3,
   "id": "d23b6565-4c88-4ade-9db1-1e73604807ab",
   "metadata": {},
   "outputs": [],
   "source": [
    "X_df = pd.read_csv(path_train)\n",
    "y_df = pd.read_csv(path_y)"
   ]
  },
  {
   "cell_type": "code",
   "execution_count": 4,
   "id": "76c3a963-b244-4182-bfac-b319caa814cf",
   "metadata": {},
   "outputs": [
    {
     "data": {
      "text/html": [
       "<div>\n",
       "<style scoped>\n",
       "    .dataframe tbody tr th:only-of-type {\n",
       "        vertical-align: middle;\n",
       "    }\n",
       "\n",
       "    .dataframe tbody tr th {\n",
       "        vertical-align: top;\n",
       "    }\n",
       "\n",
       "    .dataframe thead th {\n",
       "        text-align: right;\n",
       "    }\n",
       "</style>\n",
       "<table border=\"1\" class=\"dataframe\">\n",
       "  <thead>\n",
       "    <tr style=\"text-align: right;\">\n",
       "      <th></th>\n",
       "      <th>HighBP</th>\n",
       "      <th>HighChol</th>\n",
       "      <th>CholCheck</th>\n",
       "      <th>BMI</th>\n",
       "      <th>Smoker</th>\n",
       "      <th>Stroke</th>\n",
       "      <th>HeartDiseaseorAttack</th>\n",
       "      <th>PhysActivity</th>\n",
       "      <th>Fruits</th>\n",
       "      <th>Veggies</th>\n",
       "      <th>HvyAlcoholConsump</th>\n",
       "      <th>AnyHealthcare</th>\n",
       "      <th>NoDocbcCost</th>\n",
       "      <th>GenHlth</th>\n",
       "      <th>MentHlth</th>\n",
       "      <th>PhysHlth</th>\n",
       "      <th>DiffWalk</th>\n",
       "      <th>Sex</th>\n",
       "      <th>Age</th>\n",
       "      <th>Education</th>\n",
       "      <th>Income</th>\n",
       "      <th>Diabetes_binary</th>\n",
       "    </tr>\n",
       "  </thead>\n",
       "  <tbody>\n",
       "    <tr>\n",
       "      <th>0</th>\n",
       "      <td>0.0</td>\n",
       "      <td>0.0</td>\n",
       "      <td>1.0</td>\n",
       "      <td>23.0</td>\n",
       "      <td>1.0</td>\n",
       "      <td>0.0</td>\n",
       "      <td>1.0</td>\n",
       "      <td>1.0</td>\n",
       "      <td>1.0</td>\n",
       "      <td>0.0</td>\n",
       "      <td>0.0</td>\n",
       "      <td>1.0</td>\n",
       "      <td>0.0</td>\n",
       "      <td>4.0</td>\n",
       "      <td>5.0</td>\n",
       "      <td>2.0</td>\n",
       "      <td>0.0</td>\n",
       "      <td>0.0</td>\n",
       "      <td>6.0</td>\n",
       "      <td>6.0</td>\n",
       "      <td>3.0</td>\n",
       "      <td>1.0</td>\n",
       "    </tr>\n",
       "    <tr>\n",
       "      <th>1</th>\n",
       "      <td>1.0</td>\n",
       "      <td>1.0</td>\n",
       "      <td>1.0</td>\n",
       "      <td>35.0</td>\n",
       "      <td>1.0</td>\n",
       "      <td>0.0</td>\n",
       "      <td>0.0</td>\n",
       "      <td>0.0</td>\n",
       "      <td>0.0</td>\n",
       "      <td>0.0</td>\n",
       "      <td>0.0</td>\n",
       "      <td>1.0</td>\n",
       "      <td>0.0</td>\n",
       "      <td>4.0</td>\n",
       "      <td>15.0</td>\n",
       "      <td>15.0</td>\n",
       "      <td>0.0</td>\n",
       "      <td>0.0</td>\n",
       "      <td>10.0</td>\n",
       "      <td>4.0</td>\n",
       "      <td>5.0</td>\n",
       "      <td>1.0</td>\n",
       "    </tr>\n",
       "    <tr>\n",
       "      <th>2</th>\n",
       "      <td>1.0</td>\n",
       "      <td>0.0</td>\n",
       "      <td>1.0</td>\n",
       "      <td>30.0</td>\n",
       "      <td>1.0</td>\n",
       "      <td>1.0</td>\n",
       "      <td>0.0</td>\n",
       "      <td>0.0</td>\n",
       "      <td>1.0</td>\n",
       "      <td>1.0</td>\n",
       "      <td>0.0</td>\n",
       "      <td>0.0</td>\n",
       "      <td>0.0</td>\n",
       "      <td>3.0</td>\n",
       "      <td>30.0</td>\n",
       "      <td>30.0</td>\n",
       "      <td>0.0</td>\n",
       "      <td>0.0</td>\n",
       "      <td>4.0</td>\n",
       "      <td>5.0</td>\n",
       "      <td>1.0</td>\n",
       "      <td>1.0</td>\n",
       "    </tr>\n",
       "  </tbody>\n",
       "</table>\n",
       "</div>"
      ],
      "text/plain": [
       "   HighBP  HighChol  CholCheck   BMI  Smoker  Stroke  HeartDiseaseorAttack  \\\n",
       "0     0.0       0.0        1.0  23.0     1.0     0.0                   1.0   \n",
       "1     1.0       1.0        1.0  35.0     1.0     0.0                   0.0   \n",
       "2     1.0       0.0        1.0  30.0     1.0     1.0                   0.0   \n",
       "\n",
       "   PhysActivity  Fruits  Veggies  HvyAlcoholConsump  AnyHealthcare  \\\n",
       "0           1.0     1.0      0.0                0.0            1.0   \n",
       "1           0.0     0.0      0.0                0.0            1.0   \n",
       "2           0.0     1.0      1.0                0.0            0.0   \n",
       "\n",
       "   NoDocbcCost  GenHlth  MentHlth  PhysHlth  DiffWalk  Sex   Age  Education  \\\n",
       "0          0.0      4.0       5.0       2.0       0.0  0.0   6.0        6.0   \n",
       "1          0.0      4.0      15.0      15.0       0.0  0.0  10.0        4.0   \n",
       "2          0.0      3.0      30.0      30.0       0.0  0.0   4.0        5.0   \n",
       "\n",
       "   Income  Diabetes_binary  \n",
       "0     3.0              1.0  \n",
       "1     5.0              1.0  \n",
       "2     1.0              1.0  "
      ]
     },
     "metadata": {},
     "output_type": "display_data"
    },
    {
     "data": {
      "text/plain": [
       "(47363, 22)"
      ]
     },
     "execution_count": 4,
     "metadata": {},
     "output_type": "execute_result"
    }
   ],
   "source": [
    "df = X_df.join(y_df, how='outer')\n",
    "display(df.head(3))\n",
    "df.shape"
   ]
  },
  {
   "cell_type": "code",
   "execution_count": 5,
   "id": "d2e77ea6-2f52-4f6c-a50f-1a5effb6b9f3",
   "metadata": {},
   "outputs": [
    {
     "data": {
      "text/plain": [
       "785"
      ]
     },
     "execution_count": 5,
     "metadata": {},
     "output_type": "execute_result"
    }
   ],
   "source": [
    "df.duplicated().sum() # Колво дубликатов"
   ]
  },
  {
   "cell_type": "code",
   "execution_count": 6,
   "id": "209ec1ed-9043-4242-b758-9133560b070e",
   "metadata": {},
   "outputs": [],
   "source": [
    "df = df.drop_duplicates()"
   ]
  },
  {
   "cell_type": "code",
   "execution_count": 7,
   "id": "9d81cb72-8184-49da-8ca4-df2190f02864",
   "metadata": {},
   "outputs": [],
   "source": [
    "X = df.drop('Diabetes_binary', axis=1)\n",
    "y = df['Diabetes_binary']\n",
    "\n",
    "X_train, X_test, y_train, y_test = train_test_split(X, y, test_size=0.3)"
   ]
  },
  {
   "cell_type": "code",
   "execution_count": 8,
   "id": "2aa6be16-7774-477a-8199-5d7c0fe0b1e8",
   "metadata": {},
   "outputs": [],
   "source": [
    "class_weights = {0: 1, 1: 2.9}\n",
    "sample_weight = np.array([class_weights[y] for y in y_train])"
   ]
  },
  {
   "cell_type": "code",
   "execution_count": 9,
   "id": "6f55e818-cf2b-44e2-8f7e-7a980ccbc1ef",
   "metadata": {},
   "outputs": [
    {
     "name": "stdout",
     "output_type": "stream",
     "text": [
      "F-beta на обучающем наборе (beta=sqrt(2)): 0.830\n",
      "F-beta на тестовом наборе (beta=sqrt(2)): 0.817\n"
     ]
    }
   ],
   "source": [
    "rf = GradientBoostingClassifier(random_state=42, n_estimators=300, max_depth=4)\n",
    "rf.fit(X_train, y_train, sample_weight=sample_weight)\n",
    "\n",
    "y_train_pred = rf.predict(X_train)\n",
    "f_beta_train = fbeta_score(y_train, y_train_pred, beta=np.sqrt(2))\n",
    "print(f\"F-beta на обучающем наборе (beta=sqrt(2)): {f_beta_train:.3f}\")\n",
    "\n",
    "# Предсказания для тестового набора\n",
    "y_test_pred = rf.predict(X_test)\n",
    "f_beta_test = fbeta_score(y_test, y_test_pred, beta=np.sqrt(2))\n",
    "print(f\"F-beta на тестовом наборе (beta=sqrt(2)): {f_beta_test:.3f}\")"
   ]
  },
  {
   "cell_type": "code",
   "execution_count": 10,
   "id": "58d1acd2-ac27-41b3-862c-6b9e70676a1a",
   "metadata": {},
   "outputs": [
    {
     "data": {
      "image/png": "[encoded data removed]",
      "text/plain": [
       "<Figure size 640x480 with 2 Axes>"
      ]
     },
     "metadata": {},
     "output_type": "display_data"
    }
   ],
   "source": [
    "cm = confusion_matrix(y_test, y_test_pred)\n",
    "sns.heatmap(cm, annot=True, fmt='d', cmap='Blues')\n",
    "plt.xlabel('Предсказанный класс')\n",
    "plt.ylabel('Истинный класс')\n",
    "plt.show()"
   ]
  },
  {
   "cell_type": "code",
   "execution_count": 11,
   "id": "da08051a-f577-47fc-8660-6217153ab2f2",
   "metadata": {},
   "outputs": [
    {
     "name": "stdout",
     "output_type": "stream",
     "text": [
      "F-beta на обучающем наборе (beta=sqrt(2)): 0.830\n",
      "F-beta на тестовом наборе (beta=sqrt(2)): 0.815\n"
     ]
    }
   ],
   "source": [
    "rf = RandomForestClassifier(n_estimators=1000, random_state=42, n_jobs = -1, criterion= 'gini', max_features='sqrt', max_depth=10, min_samples_split=9)\n",
    "rf.fit(X_train, y_train, sample_weight=sample_weight)\n",
    "\n",
    "y_train_pred = rf.predict(X_train)\n",
    "f_beta_train = fbeta_score(y_train, y_train_pred, beta=np.sqrt(2))\n",
    "print(f\"F-beta на обучающем наборе (beta=sqrt(2)): {f_beta_train:.3f}\")\n",
    "\n",
    "# Предсказания для тестового набора\n",
    "y_test_pred = rf.predict(X_test)\n",
    "f_beta_test = fbeta_score(y_test, y_test_pred, beta=np.sqrt(2))\n",
    "print(f\"F-beta на тестовом наборе (beta=sqrt(2)): {f_beta_test:.3f}\")"
   ]
  },
  {
   "cell_type": "code",
   "execution_count": null,
   "id": "a33d704f-b3a0-4470-b5fc-0f505dcc386f",
   "metadata": {},
   "outputs": [],
   "source": []
  }
 ],
 "metadata": {
  "kernelspec": {
   "display_name": "Python 3 (ipykernel)",
   "language": "python",
   "name": "python3"
  },
  "language_info": {
   "codemirror_mode": {
    "name": "ipython",
    "version": 3
   },
   "file_extension": ".py",
   "mimetype": "text/x-python",
   "name": "python",
   "nbconvert_exporter": "python",
   "pygments_lexer": "ipython3",
   "version": "3.12.4"
  }
 },
 "nbformat": 4,
 "nbformat_minor": 5
}
