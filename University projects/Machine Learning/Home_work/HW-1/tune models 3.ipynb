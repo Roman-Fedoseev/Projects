{
 "cells": [
  {
   "cell_type": "code",
   "execution_count": 1,
   "id": "d8a4293d-4123-4840-a175-5d81f4a3dc26",
   "metadata": {},
   "outputs": [],
   "source": [
    "import numpy as np\n",
    "import pandas as pd\n",
    "import matplotlib.pyplot as plt\n",
    "import seaborn as sns\n",
    "from IPython.display import display\n",
    "from sklearn.pipeline import Pipeline, make_pipeline\n",
    "from sklearn.preprocessing import MinMaxScaler, StandardScaler, RobustScaler, Normalizer\n",
    "from sklearn.model_selection import train_test_split, cross_val_score, GridSearchCV, KFold, StratifiedKFold, StratifiedShuffleSplit\n",
    "from sklearn.neighbors import KNeighborsClassifier \n",
    "from sklearn.linear_model import LogisticRegression\n",
    "from sklearn.metrics import accuracy_score, precision_score, recall_score, make_scorer, f1_score, classification_report, confusion_matrix\n",
    "from sklearn.naive_bayes import GaussianNB \n",
    "from imblearn.over_sampling import SMOTE\n",
    "from sklearn.cluster import KMeans\n",
    "from imblearn.under_sampling import RandomUnderSampler\n",
    "from imblearn.over_sampling import ADASYN\n",
    "from collections import Counter\n",
    "from sklearn import svm\n",
    "from imblearn.combine import SMOTEENN\n",
    "from sklearn.metrics import roc_curve, precision_recall_curve\n",
    "from sklearn.metrics import RocCurveDisplay\n",
    "from sklearn.metrics import PrecisionRecallDisplay\n",
    "from sklearn.metrics import ConfusionMatrixDisplay\n",
    "from sklearn import svm\n",
    "from sklearn.svm import SVC\n",
    "from sklearn.cluster import KMeans\n",
    "from imblearn.under_sampling import EditedNearestNeighbours\n",
    "from imblearn.under_sampling import TomekLinks\n",
    "from sklearn.model_selection import GridSearchCV, RepeatedStratifiedKFold, TunedThresholdClassifierCV, FixedThresholdClassifier\n",
    "from sklearn.model_selection import validation_curve\n"
   ]
  },
  {
   "cell_type": "code",
   "execution_count": 2,
   "id": "bf966e17-10d0-4ba5-ae02-88bddc61883d",
   "metadata": {},
   "outputs": [],
   "source": [
    "pd.set_option('display.max_columns', None)  # Отображать все колонки\n"
   ]
  },
  {
   "cell_type": "code",
   "execution_count": 3,
   "id": "e1c52950-ed3a-46a1-843c-81a4c44dc7bb",
   "metadata": {},
   "outputs": [],
   "source": [
    "path_train = 'train.csv' # содержит только имя файла, без имен папок !!!\n",
    "df = pd.read_csv(path_train)"
   ]
  },
  {
   "cell_type": "code",
   "execution_count": 4,
   "id": "a6934821-eb41-4538-890e-abef253ab72c",
   "metadata": {},
   "outputs": [],
   "source": [
    "df = df.dropna()\n",
    "df = df.drop_duplicates()"
   ]
  },
  {
   "cell_type": "code",
   "execution_count": 5,
   "id": "0ee3b597-af1f-4479-8cd7-b49eac837de2",
   "metadata": {},
   "outputs": [],
   "source": [
    "df['qual'] = np.where(df['quality'] >= 7, 1, 0)\n",
    "df = df.drop('quality', axis=1)\n",
    "df.rename(columns={'qual': 'quality'}, inplace=True)"
   ]
  },
  {
   "cell_type": "code",
   "execution_count": 6,
   "id": "2e3dce75-61c5-45d2-919b-fe78458dcb1d",
   "metadata": {},
   "outputs": [],
   "source": [
    "X = df.drop('quality', axis=1)\n",
    "y = df['quality']"
   ]
  },
  {
   "cell_type": "code",
   "execution_count": 7,
   "id": "58e7d7ce-cd08-4632-80a9-88f2a4fbea15",
   "metadata": {},
   "outputs": [],
   "source": [
    "X_train, X_test, y_train, y_test = train_test_split(X, y, test_size=0.3, stratify=y)"
   ]
  },
  {
   "cell_type": "code",
   "execution_count": 8,
   "id": "681eef0b-e461-4e0d-903f-3e5ffe0a14b4",
   "metadata": {},
   "outputs": [],
   "source": [
    "# pipe = Pipeline([\n",
    "#     ('preprocessing', MinMaxScaler()), \n",
    "#     ('clf', LogisticRegression())\n",
    "# ])\n",
    "\n",
    "# cv = StratifiedShuffleSplit(test_size=0.3, train_size=0.7, n_splits=4, random_state=42)\n",
    "# # score = make_scorer(precision_score, pos_label=1)\n",
    "\n",
    "# scaling = [MinMaxScaler(), StandardScaler(), RobustScaler()]\n",
    "\n",
    "# param_grid = [\n",
    "#     {'preprocessing': scaling,\n",
    "#      'clf__penalty': ['l2', 'l1'], \n",
    "#      'clf__solver': ['saga', 'liblinear'],\n",
    "#      'clf__class_weight': ['balanced'],\n",
    "#      'clf__max_iter': [6000],\n",
    "#      'clf__random_state': [42]},\n",
    "\n",
    "#     {'preprocessing': scaling,\n",
    "#      'clf__penalty': ['l2', None],  \n",
    "#      'clf__solver': ['lbfgs', 'newton-cg', 'newton-cholesky', 'sag'],\n",
    "#      'clf__class_weight': ['balanced'],\n",
    "#      'clf__max_iter': [6000],\n",
    "#      'clf__random_state': [42]}\n",
    "# ]\n",
    "\n",
    "# grid = GridSearchCV(pipe, param_grid, cv=cv, return_train_score=True, scoring='roc_auc')#score)\n",
    "# grid.fit(X_train, y_train)\n",
    "\n",
    "# print(\"Средняя правильность для наилучшей модели кроссвалидации на \\\n",
    "#                 валидационных тестовых наборах: {:.6f}\\n\".format(grid.best_score_)) \n",
    "# print(\"Правильность для наилучшей модели на тестовом наборе: {:.6f}\\n\".format(grid.score(X_test, y_test)))\n",
    "# gridresults = pd.DataFrame(grid.cv_results_)  # вывод лучших результатов\n",
    "# display(gridresults.sort_values([\"rank_test_score\"]).T)\n"
   ]
  },
  {
   "cell_type": "code",
   "execution_count": 9,
   "id": "15d9e0e7-0c80-4467-970a-867771c58585",
   "metadata": {},
   "outputs": [],
   "source": [
    "# print(\"Лучшие параметры:\", grid.best_params_)"
   ]
  },
  {
   "cell_type": "code",
   "execution_count": 10,
   "id": "5bde2038-705d-4794-9eca-38097503c628",
   "metadata": {},
   "outputs": [],
   "source": [
    "# gnb = make_pipeline(MinMaxScaler(), LogisticRegression(penalty='l1', solver='liblinear', class_weight='balanced', max_iter=6000, random_state=42))\n",
    "# gnb.fit(X_train, y_train)\n",
    "# y_pred = gnb.predict(X_test)\n",
    "# print(classification_report(y_test, y_pred))\n",
    "\n",
    "# gnb = make_pipeline(MinMaxScaler(), LogisticRegression(penalty='l2', solver='liblinear', class_weight='balanced', max_iter=6000, random_state=42))\n",
    "# gnb.fit(X_train, y_train)\n",
    "# y_pred = gnb.predict(X_test)\n",
    "# print(classification_report(y_test, y_pred))"
   ]
  },
  {
   "cell_type": "code",
   "execution_count": 11,
   "id": "7484f4d3-aa42-48e8-a93f-a0295a9bf18a",
   "metadata": {},
   "outputs": [],
   "source": [
    "# def find_nearest(array,value):\n",
    "#     idx = (np.abs(array-value)).argmin()\n",
    "#     return idx\n",
    "\n",
    "# fpr, tpr, thresholds = roc_curve(y_test, gnb.predict_proba(X_test)[:,1], pos_label = None)\n",
    "# #######################################################\n",
    "# pos = 9# зададим порог (2) (21, 61)\n",
    "# point = find_nearest(thresholds,0.5) # найдем позицию порога вероятности 0.5 !!!!!!!!!!!!!!!!!!!!!!!!!!!!!!!!!! звездочка\n",
    "# #######################################################\n",
    "# fig, [ax1,ax2] = plt.subplots(1, 2, figsize=(11, 5))\n",
    "\n",
    "# RocCurveDisplay.from_estimator(gnb, X_test, y_test, name = 'gnb', ax=ax1)\n",
    "# ax1.set_title(\"ROC curve\")\n",
    "# ax1.plot([0,1],[0,1], color=\"r\", ls=\":\")\n",
    "# ax1.plot(fpr[point],tpr[point], '*', markersize=10, color=\"r\")\n",
    "# ax1.plot(fpr[pos],tpr[pos], 'o', markersize=10,  mfc='none', color=\"r\");\n",
    "# circle0 = plt.Circle((0, 1), 0.25, color='gray',fill=False)\n",
    "# circle1 = plt.Circle((0, 1), 0.5, color='gray',fill=False)\n",
    "# circle2 = plt.Circle((0, 1), 0.75, color='gray',fill=False)\n",
    "# circle3 = plt.Circle((0, 1), 1, color='gray',fill=False)\n",
    "# ax1.add_patch(circle0)\n",
    "# ax1.add_patch(circle1)\n",
    "# ax1.add_patch(circle2)\n",
    "# ax1.add_patch(circle3)\n",
    "# ax1.set_xlim((0, 1))\n",
    "# ax1.set_ylim((0, 1))\n",
    "\n",
    "# precision, recall, thresholds_pr = precision_recall_curve(y_test, gnb.predict_proba(X_test)[:,1], pos_label = None)\n",
    "# PrecisionRecallDisplay.from_estimator(gnb, X_test, y_test, name = 'gnb', ax=ax2)\n",
    "# point_pr = find_nearest(thresholds_pr,0.5)  # найдем позицию порога вероятности 0.5\n",
    "# pos_pr = find_nearest(thresholds_pr,thresholds[pos]) # найдем позицию порога для thresholds в позиции pos\n",
    "\n",
    "# ax2.plot(recall[point_pr],precision[point_pr], '*', markersize=10, color=\"r\")\n",
    "# ax2.plot(recall[pos_pr],precision[pos_pr], 'o', markersize=10,  mfc='none', color=\"r\");\n",
    "# circle0 = plt.Circle((1, 1), 0.25, color='gray',fill=False)\n",
    "# circle1 = plt.Circle((1, 1), 0.5, color='gray',fill=False)\n",
    "# circle2 = plt.Circle((1, 1), 0.75, color='gray',fill=False)\n",
    "# circle3 = plt.Circle((1, 1), 1, color='gray',fill=False)\n",
    "# ax2.add_patch(circle0)\n",
    "# ax2.add_patch(circle1)\n",
    "# ax2.add_patch(circle2)\n",
    "# ax2.add_patch(circle3)\n",
    "# ax2.set_xlim((0, 1))\n",
    "# ax2.set_ylim((0, 1))\n",
    "\n",
    "# print( 'позиция порога 0.5 - ', point)\n",
    "# print( 'в позиции', pos, 'для ROC')\n",
    "# print( f'fpr:     {fpr[pos]:.3f}',       f' tpr:        {tpr[pos]:.3f}',          f' thresholds:,{thresholds[pos]:.3f}')\n",
    "# print( f'recall:  {recall[pos_pr]:.3f}', f' precision:, {precision[pos_pr]:.3f}', f' thresholds:,{thresholds[pos]:.3f}')\n"
   ]
  },
  {
   "cell_type": "code",
   "execution_count": null,
   "id": "7673408c-06ff-46d6-914c-37e56d340481",
   "metadata": {},
   "outputs": [],
   "source": []
  },
  {
   "cell_type": "code",
   "execution_count": null,
   "id": "4b74f829-6a19-45e3-8b68-82844f56a99c",
   "metadata": {},
   "outputs": [],
   "source": []
  },
  {
   "cell_type": "code",
   "execution_count": null,
   "id": "b9c216e3-41a0-428d-b2c1-43f00e81d276",
   "metadata": {},
   "outputs": [],
   "source": []
  },
  {
   "cell_type": "code",
   "execution_count": null,
   "id": "770a1839-b802-4e57-a64d-cfd203ae4058",
   "metadata": {},
   "outputs": [],
   "source": []
  },
  {
   "cell_type": "code",
   "execution_count": null,
   "id": "6b197302-a431-46cb-acaf-a01743f0f853",
   "metadata": {},
   "outputs": [],
   "source": []
  },
  {
   "cell_type": "markdown",
   "id": "3ebedc70-b258-4aae-87e0-5fdc6ffff381",
   "metadata": {},
   "source": [
    "## Repeated Stratified K-Fold"
   ]
  },
  {
   "cell_type": "code",
   "execution_count": 13,
   "id": "cb5f5ef3-9b70-4438-be00-44bb4606c82a",
   "metadata": {},
   "outputs": [
    {
     "name": "stderr",
     "output_type": "stream",
     "text": [
      "C:\\ProgramData\\anaconda3\\Lib\\site-packages\\sklearn\\linear_model\\_sag.py:349: ConvergenceWarning: The max_iter was reached which means the coef_ did not converge\n",
      "  warnings.warn(\n",
      "C:\\ProgramData\\anaconda3\\Lib\\site-packages\\sklearn\\linear_model\\_sag.py:349: ConvergenceWarning: The max_iter was reached which means the coef_ did not converge\n",
      "  warnings.warn(\n",
      "C:\\ProgramData\\anaconda3\\Lib\\site-packages\\sklearn\\linear_model\\_sag.py:349: ConvergenceWarning: The max_iter was reached which means the coef_ did not converge\n",
      "  warnings.warn(\n",
      "C:\\ProgramData\\anaconda3\\Lib\\site-packages\\sklearn\\linear_model\\_sag.py:349: ConvergenceWarning: The max_iter was reached which means the coef_ did not converge\n",
      "  warnings.warn(\n",
      "C:\\ProgramData\\anaconda3\\Lib\\site-packages\\sklearn\\linear_model\\_sag.py:349: ConvergenceWarning: The max_iter was reached which means the coef_ did not converge\n",
      "  warnings.warn(\n",
      "C:\\ProgramData\\anaconda3\\Lib\\site-packages\\sklearn\\linear_model\\_sag.py:349: ConvergenceWarning: The max_iter was reached which means the coef_ did not converge\n",
      "  warnings.warn(\n",
      "C:\\ProgramData\\anaconda3\\Lib\\site-packages\\sklearn\\linear_model\\_sag.py:349: ConvergenceWarning: The max_iter was reached which means the coef_ did not converge\n",
      "  warnings.warn(\n",
      "C:\\ProgramData\\anaconda3\\Lib\\site-packages\\sklearn\\linear_model\\_sag.py:349: ConvergenceWarning: The max_iter was reached which means the coef_ did not converge\n",
      "  warnings.warn(\n",
      "C:\\ProgramData\\anaconda3\\Lib\\site-packages\\sklearn\\linear_model\\_sag.py:349: ConvergenceWarning: The max_iter was reached which means the coef_ did not converge\n",
      "  warnings.warn(\n",
      "C:\\ProgramData\\anaconda3\\Lib\\site-packages\\sklearn\\linear_model\\_sag.py:349: ConvergenceWarning: The max_iter was reached which means the coef_ did not converge\n",
      "  warnings.warn(\n",
      "C:\\ProgramData\\anaconda3\\Lib\\site-packages\\sklearn\\linear_model\\_sag.py:349: ConvergenceWarning: The max_iter was reached which means the coef_ did not converge\n",
      "  warnings.warn(\n",
      "C:\\ProgramData\\anaconda3\\Lib\\site-packages\\sklearn\\linear_model\\_sag.py:349: ConvergenceWarning: The max_iter was reached which means the coef_ did not converge\n",
      "  warnings.warn(\n",
      "C:\\ProgramData\\anaconda3\\Lib\\site-packages\\sklearn\\linear_model\\_sag.py:349: ConvergenceWarning: The max_iter was reached which means the coef_ did not converge\n",
      "  warnings.warn(\n",
      "C:\\ProgramData\\anaconda3\\Lib\\site-packages\\sklearn\\linear_model\\_sag.py:349: ConvergenceWarning: The max_iter was reached which means the coef_ did not converge\n",
      "  warnings.warn(\n"
     ]
    },
    {
     "name": "stdout",
     "output_type": "stream",
     "text": [
      "Средняя правильность для наилучшей модели кросс-валидации на валидационных тестовых наборах: 0.876056\n",
      "\n",
      "Правильность для наилучшей модели на тестовом наборе: 0.900499\n",
      "\n",
      "                      mean       std\n",
      "mean_train_score  0.890658  0.003316\n",
      "mean_test_score   0.874633  0.000657\n",
      "std_train_score   0.006659  0.000190\n",
      "std_test_score    0.020940  0.001003\n"
     ]
    }
   ],
   "source": [
    "pipe = Pipeline([\n",
    "    ('preprocessing', MinMaxScaler()),  # Начальное значение, будет заменено в GridSearch\n",
    "    ('clf', LogisticRegression())\n",
    "])\n",
    "\n",
    "scaling = [MinMaxScaler(), StandardScaler(), RobustScaler()]\n",
    "\n",
    "param_grid = [\n",
    "    {'preprocessing': scaling,\n",
    "     'clf__penalty': ['l2', 'l1'], \n",
    "     'clf__solver': ['saga', 'liblinear'],\n",
    "     'clf__class_weight': ['balanced'],\n",
    "     'clf__max_iter': [8000],\n",
    "     'clf__random_state': [42]},\n",
    "\n",
    "    {'preprocessing': scaling,\n",
    "     'clf__penalty': ['l2', None],  \n",
    "     'clf__solver': ['lbfgs', 'newton-cg', 'newton-cholesky', 'sag'],\n",
    "     'clf__class_weight': ['balanced'],\n",
    "     'clf__max_iter': [8000],\n",
    "     'clf__random_state': [42]}\n",
    "]\n",
    "\n",
    "# Определение объекта кросс-валидации\n",
    "cv = RepeatedStratifiedKFold(n_splits=4, n_repeats=6, random_state=42)\n",
    "\n",
    "# Настройка GridSearchCV с использованием вложенной кросс-валидации\n",
    "grid = GridSearchCV(pipe, param_grid, cv=cv, scoring='roc_auc', return_train_score=True)\n",
    "\n",
    "# Обучение модели\n",
    "grid.fit(X_train, y_train)\n",
    "\n",
    "# Вывод результатов\n",
    "print(\"Средняя правильность для наилучшей модели кросс-валидации на валидационных тестовых наборах: {:.6f}\\n\".format(grid.best_score_))\n",
    "print(\"Правильность для наилучшей модели на тестовом наборе: {:.6f}\\n\".format(grid.score(X_test, y_test)))\n",
    "\n",
    "# Вывод лучших результатов\n",
    "gridresults = pd.DataFrame(grid.cv_results_)\n",
    "\n",
    "cv_scores = [\n",
    "    'mean_train_score',\n",
    "    'mean_test_score',\n",
    "    'std_train_score',\n",
    "    'std_test_score'\n",
    "]\n",
    "\n",
    "# Применяем агрегацию и транспонируем результат\n",
    "aggregated_results = gridresults[cv_scores].agg([\"mean\", \"std\"]).T\n",
    "\n",
    "# Выводим агрегированные результаты\n",
    "print(aggregated_results)"
   ]
  },
  {
   "cell_type": "code",
   "execution_count": null,
   "id": "4a387fa6-90f3-4afc-b0cf-326b488ceb36",
   "metadata": {},
   "outputs": [],
   "source": []
  },
  {
   "cell_type": "code",
   "execution_count": 14,
   "id": "fe303835-b66d-4b26-9b3a-f4791eaafafa",
   "metadata": {},
   "outputs": [
    {
     "name": "stdout",
     "output_type": "stream",
     "text": [
      "Лучшие параметры: {'clf__class_weight': 'balanced', 'clf__max_iter': 8000, 'clf__penalty': 'l1', 'clf__random_state': 42, 'clf__solver': 'saga', 'preprocessing': RobustScaler()}\n"
     ]
    }
   ],
   "source": [
    "print(\"Лучшие параметры:\", grid.best_params_)"
   ]
  },
  {
   "cell_type": "code",
   "execution_count": 15,
   "id": "81ae3e41-1730-41d3-8273-72d3d64117f7",
   "metadata": {},
   "outputs": [
    {
     "name": "stdout",
     "output_type": "stream",
     "text": [
      "              precision    recall  f1-score   support\n",
      "\n",
      "           0       0.99      0.75      0.85       264\n",
      "           1       0.37      0.93      0.52        41\n",
      "\n",
      "    accuracy                           0.77       305\n",
      "   macro avg       0.68      0.84      0.69       305\n",
      "weighted avg       0.90      0.77      0.81       305\n",
      "\n"
     ]
    }
   ],
   "source": [
    "gnb = make_pipeline(RobustScaler(), LogisticRegression(penalty='l2', solver='liblinear', class_weight='balanced', max_iter=8000))\n",
    "gnb.fit(X_train, y_train)\n",
    "y_pred = gnb.predict(X_test)\n",
    "print(classification_report(y_test, y_pred))"
   ]
  },
  {
   "cell_type": "code",
   "execution_count": 16,
   "id": "40340c23-99ad-4e75-8e9e-b65c33e4bc53",
   "metadata": {},
   "outputs": [
    {
     "name": "stdout",
     "output_type": "stream",
     "text": [
      "позиция порога 0.5 -  46\n",
      "в позиции 5 для ROC\n",
      "fpr:     0.008  tpr:        0.220  thresholds:,0.919\n",
      "recall:  0.220  precision:, 0.818  thresholds:,0.919\n"
     ]
    },
    {
     "data": {
      "image/png": "[encoded data removed]",
      "text/plain": [
       "<Figure size 1100x500 with 2 Axes>"
      ]
     },
     "metadata": {},
     "output_type": "display_data"
    }
   ],
   "source": [
    "def find_nearest(array,value):\n",
    "    idx = (np.abs(array-value)).argmin()\n",
    "    return idx\n",
    "\n",
    "fpr, tpr, thresholds = roc_curve(y_test, gnb.predict_proba(X_test)[:,1], pos_label = None)\n",
    "#######################################################\n",
    "pos = 5# зададим порог (2) (21, 61)\n",
    "point = find_nearest(thresholds,0.5) # найдем позицию порога вероятности 0.5 !!!!!!!!!!!!!!!!!!!!!!!!!!!!!!!!!! звездочка\n",
    "#######################################################\n",
    "fig, [ax1,ax2] = plt.subplots(1, 2, figsize=(11, 5))\n",
    "\n",
    "RocCurveDisplay.from_estimator(gnb, X_test, y_test, name = 'gnb', ax=ax1)\n",
    "ax1.set_title(\"ROC curve\")\n",
    "ax1.plot([0,1],[0,1], color=\"r\", ls=\":\")\n",
    "ax1.plot(fpr[point],tpr[point], '*', markersize=10, color=\"r\")\n",
    "ax1.plot(fpr[pos],tpr[pos], 'o', markersize=10,  mfc='none', color=\"r\");\n",
    "circle0 = plt.Circle((0, 1), 0.25, color='gray',fill=False)\n",
    "circle1 = plt.Circle((0, 1), 0.5, color='gray',fill=False)\n",
    "circle2 = plt.Circle((0, 1), 0.75, color='gray',fill=False)\n",
    "circle3 = plt.Circle((0, 1), 1, color='gray',fill=False)\n",
    "ax1.add_patch(circle0)\n",
    "ax1.add_patch(circle1)\n",
    "ax1.add_patch(circle2)\n",
    "ax1.add_patch(circle3)\n",
    "ax1.set_xlim((0, 1))\n",
    "ax1.set_ylim((0, 1))\n",
    "\n",
    "precision, recall, thresholds_pr = precision_recall_curve(y_test, gnb.predict_proba(X_test)[:,1], pos_label = None)\n",
    "PrecisionRecallDisplay.from_estimator(gnb, X_test, y_test, name = 'gnb', ax=ax2)\n",
    "point_pr = find_nearest(thresholds_pr,0.5)  # найдем позицию порога вероятности 0.5\n",
    "pos_pr = find_nearest(thresholds_pr,thresholds[pos]) # найдем позицию порога для thresholds в позиции pos\n",
    "\n",
    "ax2.plot(recall[point_pr],precision[point_pr], '*', markersize=10, color=\"r\")\n",
    "ax2.plot(recall[pos_pr],precision[pos_pr], 'o', markersize=10,  mfc='none', color=\"r\");\n",
    "circle0 = plt.Circle((1, 1), 0.25, color='gray',fill=False)\n",
    "circle1 = plt.Circle((1, 1), 0.5, color='gray',fill=False)\n",
    "circle2 = plt.Circle((1, 1), 0.75, color='gray',fill=False)\n",
    "circle3 = plt.Circle((1, 1), 1, color='gray',fill=False)\n",
    "ax2.add_patch(circle0)\n",
    "ax2.add_patch(circle1)\n",
    "ax2.add_patch(circle2)\n",
    "ax2.add_patch(circle3)\n",
    "ax2.set_xlim((0, 1))\n",
    "ax2.set_ylim((0, 1))\n",
    "\n",
    "print( 'позиция порога 0.5 - ', point)\n",
    "print( 'в позиции', pos, 'для ROC')\n",
    "print( f'fpr:     {fpr[pos]:.3f}',       f' tpr:        {tpr[pos]:.3f}',          f' thresholds:,{thresholds[pos]:.3f}')\n",
    "print( f'recall:  {recall[pos_pr]:.3f}', f' precision:, {precision[pos_pr]:.3f}', f' thresholds:,{thresholds[pos]:.3f}')\n"
   ]
  },
  {
   "cell_type": "code",
   "execution_count": null,
   "id": "27e11a1f-c9b1-4ad9-b893-452e2ea2e19a",
   "metadata": {},
   "outputs": [],
   "source": []
  },
  {
   "cell_type": "code",
   "execution_count": null,
   "id": "8751f927-e294-4565-a0c3-1b88dfb5188f",
   "metadata": {},
   "outputs": [],
   "source": []
  },
  {
   "cell_type": "code",
   "execution_count": null,
   "id": "d482f29e-47aa-4653-9489-85bd99efed9b",
   "metadata": {},
   "outputs": [],
   "source": []
  },
  {
   "cell_type": "code",
   "execution_count": null,
   "id": "1d784cef-2176-4c01-86be-f4eaf87cfea0",
   "metadata": {},
   "outputs": [],
   "source": []
  },
  {
   "cell_type": "code",
   "execution_count": 17,
   "id": "6be7c16e-a863-425b-a714-afb3bad154f5",
   "metadata": {},
   "outputs": [
    {
     "name": "stdout",
     "output_type": "stream",
     "text": [
      "              precision    recall  f1-score   support\n",
      "\n",
      "           0       0.98      0.76      0.86       264\n",
      "           1       0.37      0.90      0.52        41\n",
      "\n",
      "    accuracy                           0.78       305\n",
      "   macro avg       0.68      0.83      0.69       305\n",
      "weighted avg       0.90      0.78      0.81       305\n",
      "\n"
     ]
    }
   ],
   "source": [
    "gnb = make_pipeline(MinMaxScaler(), LogisticRegression(penalty='l1', solver='saga', class_weight='balanced', max_iter=8000))\n",
    "gnb.fit(X_train, y_train)\n",
    "y_pred = gnb.predict(X_test)\n",
    "print(classification_report(y_test, y_pred))"
   ]
  },
  {
   "cell_type": "code",
   "execution_count": 18,
   "id": "542b3a92-e893-4501-a932-d5380571e9a7",
   "metadata": {},
   "outputs": [
    {
     "name": "stdout",
     "output_type": "stream",
     "text": [
      "              precision    recall  f1-score   support\n",
      "\n",
      "           0       0.89      1.00      0.94       264\n",
      "           1       0.88      0.17      0.29        41\n",
      "\n",
      "    accuracy                           0.89       305\n",
      "   macro avg       0.88      0.58      0.61       305\n",
      "weighted avg       0.88      0.89      0.85       305\n",
      "\n"
     ]
    }
   ],
   "source": [
    "from sklearn.pipeline import make_pipeline\n",
    "from sklearn.preprocessing import MinMaxScaler\n",
    "from sklearn.linear_model import LogisticRegression\n",
    "from sklearn.metrics import classification_report\n",
    "\n",
    "threshold = 0.9\n",
    "\n",
    "gnb = make_pipeline(MinMaxScaler(), \n",
    "                    LogisticRegression(penalty='l1', solver='saga', \n",
    "                                       class_weight='balanced', max_iter=8000))\n",
    "gnb.fit(X_train, y_train)\n",
    "\n",
    "y_probs = gnb.predict_proba(X_test)[:, 1]  # Вероятности для положительного класса\n",
    "\n",
    "y_pred = (y_probs >= threshold).astype(int)\n",
    "\n",
    "print(classification_report(y_test, y_pred))\n"
   ]
  },
  {
   "cell_type": "code",
   "execution_count": 19,
   "id": "b7cabfb6-0ca7-40db-876f-e4996fa34e02",
   "metadata": {},
   "outputs": [
    {
     "name": "stdout",
     "output_type": "stream",
     "text": [
      "Средний precision для класса 1: 0.5919\n"
     ]
    }
   ],
   "source": [
    "precision_scores = []\n",
    "threshold = 0.9\n",
    "\n",
    "for i in range(100):\n",
    "    X_train, X_test, y_train, y_test = train_test_split(X, y, test_size=0.3, stratify=y, random_state=i)\n",
    "\n",
    "    gnb = make_pipeline(MinMaxScaler(), LogisticRegression(penalty='l1', solver='saga', class_weight='balanced', max_iter=8000))\n",
    "    gnb.fit(X_train, y_train)\n",
    "    \n",
    "    y_probs = gnb.predict_proba(X_test)[:, 1]  # Вероятности для положительного класса\n",
    "    y_pred = (y_probs >= threshold).astype(int)\n",
    "    \n",
    "    precision = precision_score(y_test, y_pred, pos_label=1)\n",
    "    precision_scores.append(precision)\n",
    "\n",
    "\n",
    "average_precision = sum(precision_scores) / len(precision_scores)\n",
    "\n",
    "print(f\"Средний precision для класса 1: {average_precision:.4f}\")\n"
   ]
  },
  {
   "cell_type": "code",
   "execution_count": 20,
   "id": "d07a9b5e-cb1c-40bb-9b4b-2420f7947561",
   "metadata": {},
   "outputs": [],
   "source": [
    "# Лучшие параметры: {'clf__class_weight': 'balanced', 'clf__max_iter': 6000, 'clf__penalty': 'l2', 'clf__random_state': 42, 'clf__solver': 'liblinear', 'preprocessing': RobustScaler()}"
   ]
  },
  {
   "cell_type": "code",
   "execution_count": 21,
   "id": "90fe63b5-6e65-4485-b036-12c56e0dfb0b",
   "metadata": {},
   "outputs": [
    {
     "name": "stdout",
     "output_type": "stream",
     "text": [
      "Средний precision для класса 1: 0.6299\n"
     ]
    }
   ],
   "source": [
    "precision_scores = []\n",
    "threshold = 0.914\n",
    "\n",
    "for i in range(100):\n",
    "    X_train, X_test, y_train, y_test = train_test_split(X, y, test_size=0.3, stratify=y, random_state=i)\n",
    "\n",
    "    gnb = make_pipeline(RobustScaler(), LogisticRegression(penalty='l2', solver='liblinear', class_weight='balanced', max_iter=8000))\n",
    "    gnb.fit(X_train, y_train)\n",
    "    \n",
    "    y_probs = gnb.predict_proba(X_test)[:, 1]  # Вероятности для положительного класса\n",
    "    y_pred = (y_probs >= threshold).astype(int)\n",
    "    \n",
    "    precision = precision_score(y_test, y_pred, pos_label=1)\n",
    "    precision_scores.append(precision)\n",
    "\n",
    "\n",
    "average_precision = sum(precision_scores) / len(precision_scores)\n",
    "\n",
    "print(f\"Средний precision для класса 1: {average_precision:.4f}\")"
   ]
  },
  {
   "cell_type": "markdown",
   "id": "58852af3-5b8d-414b-9bfa-38015866793a",
   "metadata": {},
   "source": [
    "**конечный выбор упал на эту модель тк в среднем дает лучшую метрику, предыдущая модель менее устойчива**"
   ]
  },
  {
   "cell_type": "code",
   "execution_count": null,
   "id": "4a9c398a-9a94-447b-98aa-5f702ed31d2c",
   "metadata": {},
   "outputs": [],
   "source": []
  }
 ],
 "metadata": {
  "kernelspec": {
   "display_name": "Python 3 (ipykernel)",
   "language": "python",
   "name": "python3"
  },
  "language_info": {
   "codemirror_mode": {
    "name": "ipython",
    "version": 3
   },
   "file_extension": ".py",
   "mimetype": "text/x-python",
   "name": "python",
   "nbconvert_exporter": "python",
   "pygments_lexer": "ipython3",
   "version": "3.12.4"
  }
 },
 "nbformat": 4,
 "nbformat_minor": 5
}
