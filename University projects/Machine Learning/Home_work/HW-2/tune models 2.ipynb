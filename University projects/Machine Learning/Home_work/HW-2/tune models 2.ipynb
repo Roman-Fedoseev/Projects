{
 "cells": [
  {
   "cell_type": "code",
   "execution_count": 1,
   "metadata": {},
   "outputs": [],
   "source": [
    "# Внимание!!! Важно, что бы файлы с данными и исполняемый файл находились в одной папке, \n",
    "# тогда пути к тестовым и тренировочным наборам будут содержать только имена файлов.\n",
    "# \n",
    "# В пути к тренировочным и тестовым данным запрежается использовать абсалютную адресацию, \n",
    "# то есть адресацию, в которой присутствуют имена папок. Путь должен содержать только имя файла.\n",
    "#\n",
    "# Напоминание: под моделью машинного обучения понимаются все действия с исходными данными, \n",
    "# которые необходимо произвести, что бы сопоставить признаки целевому значению."
   ]
  },
  {
   "cell_type": "markdown",
   "metadata": {},
   "source": [
    "## Библиотеки"
   ]
  },
  {
   "cell_type": "code",
   "execution_count": 2,
   "metadata": {},
   "outputs": [],
   "source": [
    "# Данный блок в области 1 НЕ выполняется преподавателем\n",
    "# \n",
    "# данный блок предназначен только для подключения необходимых библиотек\n",
    "# запрещается подключать библиотеки в других блоках\n",
    "#\n",
    "# установка дополнительных библиотек размещается прямо здесь (обязательно закоментированы)\n",
    "#\n",
    "# pip install"
   ]
  },
  {
   "cell_type": "code",
   "execution_count": 3,
   "metadata": {},
   "outputs": [],
   "source": [
    "import numpy as np\n",
    "import pandas as pd\n",
    "import matplotlib.pyplot as plt\n",
    "import seaborn as sns\n",
    "from IPython.display import display\n",
    "from sklearn.pipeline import Pipeline, make_pipeline\n",
    "from sklearn.preprocessing import MinMaxScaler, StandardScaler, RobustScaler, Normalizer, PolynomialFeatures, OneHotEncoder\n",
    "from sklearn.model_selection import (train_test_split, cross_val_score, GridSearchCV, KFold, StratifiedKFold,\n",
    "                                     StratifiedShuffleSplit, RepeatedStratifiedKFold, validation_curve, cross_validate)\n",
    "from sklearn.neighbors import KNeighborsClassifier\n",
    "from sklearn.linear_model import LogisticRegression\n",
    "from sklearn.naive_bayes import GaussianNB\n",
    "from sklearn.svm import SVC\n",
    "from sklearn.metrics import (accuracy_score, precision_score, recall_score, make_scorer, f1_score, classification_report,\n",
    "                             confusion_matrix, roc_curve, precision_recall_curve, RocCurveDisplay, PrecisionRecallDisplay,\n",
    "                             ConfusionMatrixDisplay, balanced_accuracy_score, average_precision_score,\n",
    "                             mean_absolute_percentage_error)\n",
    "\n",
    "from sklearn.experimental import enable_iterative_imputer\n",
    "from sklearn.impute import SimpleImputer, IterativeImputer, KNNImputer\n",
    "from sklearn.compose import ColumnTransformer, make_column_transformer\n",
    "from collections import Counter\n",
    "from sklearn.cluster import KMeans\n",
    "from sklearn.pipeline import Pipeline\n",
    "from sklearn.metrics import make_scorer, average_precision_score\n",
    "from sklearn.impute import SimpleImputer, IterativeImputer\n",
    "import matplotlib.colors as mcolors\n",
    "from sklearn.metrics import mean_squared_error\n",
    "from sklearn.linear_model import Ridge, LinearRegression, Lasso\n",
    "from sklearn.impute import IterativeImputer\n",
    "from sklearn.pipeline import Pipeline\n",
    "from sklearn.preprocessing import PolynomialFeatures, StandardScaler, OneHotEncoder\n",
    "from sklearn.compose import ColumnTransformer\n",
    "import numpy as np\n",
    "import pandas as pd\n",
    "import matplotlib.pyplot as plt\n",
    "import seaborn as sns\n",
    "\n",
    "from sklearn.preprocessing import OrdinalEncoder,LabelEncoder, OneHotEncoder\n",
    "from sklearn.preprocessing import MinMaxScaler, StandardScaler, RobustScaler\n",
    "from sklearn.preprocessing import PolynomialFeatures, QuantileTransformer, PowerTransformer\n",
    "from sklearn.model_selection import train_test_split \n",
    "\n",
    "from sklearn.preprocessing import PolynomialFeatures\n",
    "\n",
    "from sklearn.compose import ColumnTransformer, make_column_transformer, TransformedTargetRegressor\\\n",
    "\n",
    "from sklearn.pipeline import Pipeline\n",
    "from sklearn.model_selection import GridSearchCV\n",
    "\n",
    "from sklearn.linear_model import Ridge, Lasso, ElasticNet, BayesianRidge\n",
    "from sklearn.neighbors import KNeighborsRegressor\n",
    "from sklearn.svm import SVR\n",
    "from sklearn.experimental import enable_iterative_imputer\n",
    "from sklearn.impute import SimpleImputer, IterativeImputer, KNNImputer\n",
    "\n",
    "from sklearn.metrics import mean_absolute_percentage_error\n",
    "from sklearn import svm\n",
    "from sklearn.metrics import make_scorer\n",
    "from sklearn.metrics import mean_squared_error\n",
    "\n",
    "pd.set_option('display.max_columns', None)  # Отображать все колонки\n",
    "\n",
    "from sklearn.compose import ColumnTransformer, make_column_transformer, TransformedTargetRegressor\n",
    "from sklearn.metrics import mean_squared_error, r2_score\n",
    "from sklearn.gaussian_process import GaussianProcessRegressor\n",
    "from sklearn.model_selection import RandomizedSearchCV\n",
    "from scipy.stats import uniform  # Для генерации случайных чисел в диапазоне\n",
    "from sklearn.feature_selection import SelectKBest, f_regression\n",
    "from sklearn.pipeline import Pipeline\n",
    "from sklearn.impute import SimpleImputer, IterativeImputer\n",
    "from sklearn.preprocessing import PolynomialFeatures, RobustScaler, OneHotEncoder\n",
    "from sklearn.compose import ColumnTransformer\n",
    "from sklearn.feature_selection import SelectKBest, f_regression\n",
    "from sklearn.svm import SVR\n",
    "from sklearn.compose import TransformedTargetRegressor\n",
    "from sklearn.feature_selection import RFE\n",
    "from sklearn.linear_model import LinearRegression"
   ]
  },
  {
   "cell_type": "markdown",
   "metadata": {},
   "source": [
    "## EDA"
   ]
  },
  {
   "cell_type": "code",
   "execution_count": 4,
   "metadata": {},
   "outputs": [],
   "source": [
    "# Цель - наилучшим способом предсказать цену брильянта.\n",
    "# price: цена в usd\n",
    "# carat: вeс в каратах\n",
    "# cut: качество огранки (Fair, Good, Very Good, Premium, Ideal)\n",
    "# color: цветность брильянта (степень \"желтезны\"), от J (плохая) до D (наилучшая) https://en.wikipedia.org/wiki/Diamond_color\n",
    "# clarity: чистота брильянта (I1 (плохая), SI2, SI1, VS2, VS1, VVS2, VVS1, IF (наилучшая)) https://en.wikipedia.org/wiki/Diamond_clarity\n",
    "# x: длинна в мм\n",
    "# y: ширина в мм\n",
    "# z: глубина в мм\n",
    "# depth: общий процент глубины = z / mean(x, y) = 2 * z / (x + y)\n",
    "# table: ширина вершины ромба относительно самого широкого места"
   ]
  },
  {
   "cell_type": "code",
   "execution_count": 5,
   "metadata": {},
   "outputs": [],
   "source": [
    "path_train = 'train.csv' # содержит только имя файла, без имен папок !!!"
   ]
  },
  {
   "cell_type": "code",
   "execution_count": 6,
   "metadata": {},
   "outputs": [],
   "source": [
    "df = pd.read_csv(path_train)"
   ]
  },
  {
   "cell_type": "code",
   "execution_count": 7,
   "metadata": {},
   "outputs": [],
   "source": [
    "df.duplicated().sum() # Колво дубликатов\n",
    "df = df.drop_duplicates()"
   ]
  },
  {
   "cell_type": "code",
   "execution_count": 8,
   "metadata": {},
   "outputs": [
    {
     "data": {
      "text/html": [
       "<div>\n",
       "<style scoped>\n",
       "    .dataframe tbody tr th:only-of-type {\n",
       "        vertical-align: middle;\n",
       "    }\n",
       "\n",
       "    .dataframe tbody tr th {\n",
       "        vertical-align: top;\n",
       "    }\n",
       "\n",
       "    .dataframe thead th {\n",
       "        text-align: right;\n",
       "    }\n",
       "</style>\n",
       "<table border=\"1\" class=\"dataframe\">\n",
       "  <thead>\n",
       "    <tr style=\"text-align: right;\">\n",
       "      <th></th>\n",
       "      <th>carat</th>\n",
       "      <th>cut</th>\n",
       "      <th>color</th>\n",
       "      <th>clarity</th>\n",
       "      <th>depth</th>\n",
       "      <th>table</th>\n",
       "      <th>price</th>\n",
       "      <th>x</th>\n",
       "      <th>y</th>\n",
       "      <th>z</th>\n",
       "    </tr>\n",
       "  </thead>\n",
       "  <tbody>\n",
       "    <tr>\n",
       "      <th>0</th>\n",
       "      <td>0.55</td>\n",
       "      <td>Ideal</td>\n",
       "      <td>I</td>\n",
       "      <td>SI1</td>\n",
       "      <td>61.7</td>\n",
       "      <td>55.0</td>\n",
       "      <td>1134</td>\n",
       "      <td>5.29</td>\n",
       "      <td>5.31</td>\n",
       "      <td>3.27</td>\n",
       "    </tr>\n",
       "    <tr>\n",
       "      <th>1</th>\n",
       "      <td>0.94</td>\n",
       "      <td>Premium</td>\n",
       "      <td>E</td>\n",
       "      <td>SI1</td>\n",
       "      <td>62.4</td>\n",
       "      <td>56.0</td>\n",
       "      <td>4580</td>\n",
       "      <td>6.27</td>\n",
       "      <td>6.24</td>\n",
       "      <td>3.90</td>\n",
       "    </tr>\n",
       "    <tr>\n",
       "      <th>2</th>\n",
       "      <td>0.33</td>\n",
       "      <td>Premium</td>\n",
       "      <td>E</td>\n",
       "      <td>SI2</td>\n",
       "      <td>60.0</td>\n",
       "      <td>59.0</td>\n",
       "      <td>594</td>\n",
       "      <td>4.49</td>\n",
       "      <td>4.47</td>\n",
       "      <td>2.69</td>\n",
       "    </tr>\n",
       "  </tbody>\n",
       "</table>\n",
       "</div>"
      ],
      "text/plain": [
       "   carat      cut color clarity  depth  table  price     x     y     z\n",
       "0   0.55    Ideal     I     SI1   61.7   55.0   1134  5.29  5.31  3.27\n",
       "1   0.94  Premium     E     SI1   62.4   56.0   4580  6.27  6.24  3.90\n",
       "2   0.33  Premium     E     SI2   60.0   59.0    594  4.49  4.47  2.69"
      ]
     },
     "execution_count": 8,
     "metadata": {},
     "output_type": "execute_result"
    }
   ],
   "source": [
    "df.head(3)"
   ]
  },
  {
   "cell_type": "code",
   "execution_count": 9,
   "metadata": {},
   "outputs": [
    {
     "name": "stdout",
     "output_type": "stream",
     "text": [
      "<class 'pandas.core.frame.DataFrame'>\n",
      "Index: 40377 entries, 0 to 40454\n",
      "Data columns (total 10 columns):\n",
      " #   Column   Non-Null Count  Dtype  \n",
      "---  ------   --------------  -----  \n",
      " 0   carat    40377 non-null  float64\n",
      " 1   cut      40377 non-null  object \n",
      " 2   color    40377 non-null  object \n",
      " 3   clarity  40377 non-null  object \n",
      " 4   depth    40377 non-null  float64\n",
      " 5   table    40377 non-null  float64\n",
      " 6   price    40377 non-null  int64  \n",
      " 7   x        40377 non-null  float64\n",
      " 8   y        40377 non-null  float64\n",
      " 9   z        40377 non-null  float64\n",
      "dtypes: float64(6), int64(1), object(3)\n",
      "memory usage: 3.4+ MB\n"
     ]
    }
   ],
   "source": [
    "df.info()"
   ]
  },
  {
   "cell_type": "code",
   "execution_count": 10,
   "metadata": {},
   "outputs": [
    {
     "data": {
      "text/html": [
       "<div>\n",
       "<style scoped>\n",
       "    .dataframe tbody tr th:only-of-type {\n",
       "        vertical-align: middle;\n",
       "    }\n",
       "\n",
       "    .dataframe tbody tr th {\n",
       "        vertical-align: top;\n",
       "    }\n",
       "\n",
       "    .dataframe thead th {\n",
       "        text-align: right;\n",
       "    }\n",
       "</style>\n",
       "<table border=\"1\" class=\"dataframe\">\n",
       "  <thead>\n",
       "    <tr style=\"text-align: right;\">\n",
       "      <th></th>\n",
       "      <th>carat</th>\n",
       "      <th>depth</th>\n",
       "      <th>table</th>\n",
       "      <th>price</th>\n",
       "      <th>x</th>\n",
       "      <th>y</th>\n",
       "      <th>z</th>\n",
       "    </tr>\n",
       "  </thead>\n",
       "  <tbody>\n",
       "    <tr>\n",
       "      <th>count</th>\n",
       "      <td>40377.00000</td>\n",
       "      <td>40377.000000</td>\n",
       "      <td>40377.000000</td>\n",
       "      <td>40377.000000</td>\n",
       "      <td>40377.000000</td>\n",
       "      <td>40377.000000</td>\n",
       "      <td>40377.000000</td>\n",
       "    </tr>\n",
       "    <tr>\n",
       "      <th>mean</th>\n",
       "      <td>0.79713</td>\n",
       "      <td>61.745600</td>\n",
       "      <td>57.452126</td>\n",
       "      <td>3938.759690</td>\n",
       "      <td>5.728777</td>\n",
       "      <td>5.732886</td>\n",
       "      <td>3.537583</td>\n",
       "    </tr>\n",
       "    <tr>\n",
       "      <th>std</th>\n",
       "      <td>0.47404</td>\n",
       "      <td>1.420043</td>\n",
       "      <td>2.231121</td>\n",
       "      <td>3998.041468</td>\n",
       "      <td>1.122689</td>\n",
       "      <td>1.152500</td>\n",
       "      <td>0.709028</td>\n",
       "    </tr>\n",
       "    <tr>\n",
       "      <th>min</th>\n",
       "      <td>0.20000</td>\n",
       "      <td>43.000000</td>\n",
       "      <td>43.000000</td>\n",
       "      <td>326.000000</td>\n",
       "      <td>0.000000</td>\n",
       "      <td>0.000000</td>\n",
       "      <td>0.000000</td>\n",
       "    </tr>\n",
       "    <tr>\n",
       "      <th>25%</th>\n",
       "      <td>0.40000</td>\n",
       "      <td>61.000000</td>\n",
       "      <td>56.000000</td>\n",
       "      <td>946.000000</td>\n",
       "      <td>4.710000</td>\n",
       "      <td>4.720000</td>\n",
       "      <td>2.910000</td>\n",
       "    </tr>\n",
       "    <tr>\n",
       "      <th>50%</th>\n",
       "      <td>0.70000</td>\n",
       "      <td>61.800000</td>\n",
       "      <td>57.000000</td>\n",
       "      <td>2401.000000</td>\n",
       "      <td>5.690000</td>\n",
       "      <td>5.710000</td>\n",
       "      <td>3.530000</td>\n",
       "    </tr>\n",
       "    <tr>\n",
       "      <th>75%</th>\n",
       "      <td>1.04000</td>\n",
       "      <td>62.500000</td>\n",
       "      <td>59.000000</td>\n",
       "      <td>5326.000000</td>\n",
       "      <td>6.540000</td>\n",
       "      <td>6.530000</td>\n",
       "      <td>4.030000</td>\n",
       "    </tr>\n",
       "    <tr>\n",
       "      <th>max</th>\n",
       "      <td>5.01000</td>\n",
       "      <td>78.200000</td>\n",
       "      <td>95.000000</td>\n",
       "      <td>18818.000000</td>\n",
       "      <td>10.740000</td>\n",
       "      <td>58.900000</td>\n",
       "      <td>31.800000</td>\n",
       "    </tr>\n",
       "  </tbody>\n",
       "</table>\n",
       "</div>"
      ],
      "text/plain": [
       "             carat         depth         table         price             x  \\\n",
       "count  40377.00000  40377.000000  40377.000000  40377.000000  40377.000000   \n",
       "mean       0.79713     61.745600     57.452126   3938.759690      5.728777   \n",
       "std        0.47404      1.420043      2.231121   3998.041468      1.122689   \n",
       "min        0.20000     43.000000     43.000000    326.000000      0.000000   \n",
       "25%        0.40000     61.000000     56.000000    946.000000      4.710000   \n",
       "50%        0.70000     61.800000     57.000000   2401.000000      5.690000   \n",
       "75%        1.04000     62.500000     59.000000   5326.000000      6.540000   \n",
       "max        5.01000     78.200000     95.000000  18818.000000     10.740000   \n",
       "\n",
       "                  y             z  \n",
       "count  40377.000000  40377.000000  \n",
       "mean       5.732886      3.537583  \n",
       "std        1.152500      0.709028  \n",
       "min        0.000000      0.000000  \n",
       "25%        4.720000      2.910000  \n",
       "50%        5.710000      3.530000  \n",
       "75%        6.530000      4.030000  \n",
       "max       58.900000     31.800000  "
      ]
     },
     "execution_count": 10,
     "metadata": {},
     "output_type": "execute_result"
    }
   ],
   "source": [
    "df.describe()\n",
    "# Цена 326 долларов всего?\n",
    "# x y z нули? \n",
    "# max y мб большой"
   ]
  },
  {
   "cell_type": "code",
   "execution_count": 11,
   "metadata": {},
   "outputs": [
    {
     "name": "stdout",
     "output_type": "stream",
     "text": [
      "Числовые колонки: ['carat', 'depth', 'table', 'price', 'x', 'y', 'z']\n",
      "Категориальные колонки: ['cut', 'color', 'clarity']\n"
     ]
    }
   ],
   "source": [
    "def classify_columns(df):\n",
    "    numeric_columns = []\n",
    "    categorical_columns = []\n",
    "\n",
    "    for column in df.columns:\n",
    "        if pd.api.types.is_numeric_dtype(df[column]):\n",
    "            numeric_columns.append(column)\n",
    "        else:\n",
    "            categorical_columns.append(column)\n",
    "\n",
    "    return numeric_columns, categorical_columns\n",
    "\n",
    "numeric_columns, categorical_columns = classify_columns(df)\n",
    "\n",
    "print(\"Числовые колонки:\", numeric_columns)\n",
    "print(\"Категориальные колонки:\", categorical_columns)"
   ]
  },
  {
   "cell_type": "code",
   "execution_count": null,
   "metadata": {},
   "outputs": [],
   "source": []
  },
  {
   "cell_type": "code",
   "execution_count": 12,
   "metadata": {},
   "outputs": [
    {
     "name": "stderr",
     "output_type": "stream",
     "text": [
      "C:\\ProgramData\\anaconda3\\Lib\\site-packages\\seaborn\\matrix.py:260: FutureWarning: Format strings passed to MaskedConstant are ignored, but in future may error or produce different behavior\n",
      "  annotation = (\"{:\" + self.fmt + \"}\").format(val)\n"
     ]
    },
    {
     "data": {
      "image/png": "[encoded data removed]",
      "text/plain": [
       "<Figure size 1500x500 with 2 Axes>"
      ]
     },
     "metadata": {},
     "output_type": "display_data"
    }
   ],
   "source": [
    "corr = df.drop(['cut', 'color', 'clarity'], axis=1).corr()\n",
    "mask = np.triu(np.ones_like(corr, dtype=bool))\n",
    "fig, ax = plt.subplots(figsize=(15, 5))\n",
    "sns.heatmap(corr,\n",
    "    mask=mask,\n",
    "    cmap=sns.diverging_palette(250, 250, as_cmap=True),\n",
    "    annot = True,\n",
    "    vmin=-1.0, vmax=1.0, # всегда ставить от -1 до 1 ставим два одинаковых цвета на оба конца\n",
    "    square=True,\n",
    "    ax=ax);"
   ]
  },
  {
   "cell_type": "code",
   "execution_count": 13,
   "metadata": {},
   "outputs": [
    {
     "name": "stdout",
     "output_type": "stream",
     "text": [
      "Размерность датафрейма:\n",
      "(40377, 10)\n",
      "\n",
      "Сводка по отсутствующим значениям и уникальным значениям:\n",
      "         Missing Values Count  Missing Values Percentage  Unique Values Count\n",
      "carat                       0                        0.0                  269\n",
      "cut                         0                        0.0                    5\n",
      "color                       0                        0.0                    7\n",
      "clarity                     0                        0.0                    8\n",
      "depth                       0                        0.0                  172\n",
      "table                       0                        0.0                  119\n",
      "price                       0                        0.0                10397\n",
      "x                           0                        0.0                  546\n",
      "y                           0                        0.0                  540\n",
      "z                           0                        0.0                  369\n"
     ]
    }
   ],
   "source": [
    "print(\"Размерность датафрейма:\")\n",
    "print(df.shape)\n",
    "print()\n",
    "missing_values_count = df.isna().sum()  # Общее количество пропущенных значений\n",
    "missing_values_percentage = (df.isna().mean() * 100).round(2)  # Процент пропущенных значений\n",
    "unique_values_count = df.nunique()  # Количество уникальных значений в каждом столбце\n",
    "\n",
    "missing_summary = pd.DataFrame({\n",
    "    'Missing Values Count': missing_values_count,\n",
    "    'Missing Values Percentage': missing_values_percentage,\n",
    "    'Unique Values Count': unique_values_count\n",
    "})\n",
    "\n",
    "print(\"Сводка по отсутствующим значениям и уникальным значениям:\")\n",
    "print(missing_summary)"
   ]
  },
  {
   "cell_type": "code",
   "execution_count": 14,
   "metadata": {},
   "outputs": [
    {
     "data": {
      "text/html": [
       "<div>\n",
       "<style scoped>\n",
       "    .dataframe tbody tr th:only-of-type {\n",
       "        vertical-align: middle;\n",
       "    }\n",
       "\n",
       "    .dataframe tbody tr th {\n",
       "        vertical-align: top;\n",
       "    }\n",
       "\n",
       "    .dataframe thead th {\n",
       "        text-align: right;\n",
       "    }\n",
       "</style>\n",
       "<table border=\"1\" class=\"dataframe\">\n",
       "  <thead>\n",
       "    <tr style=\"text-align: right;\">\n",
       "      <th></th>\n",
       "      <th>carat</th>\n",
       "      <th>cut</th>\n",
       "      <th>color</th>\n",
       "      <th>clarity</th>\n",
       "      <th>depth</th>\n",
       "      <th>table</th>\n",
       "      <th>price</th>\n",
       "      <th>x</th>\n",
       "      <th>y</th>\n",
       "      <th>z</th>\n",
       "    </tr>\n",
       "  </thead>\n",
       "  <tbody>\n",
       "  </tbody>\n",
       "</table>\n",
       "</div>"
      ],
      "text/plain": [
       "Empty DataFrame\n",
       "Columns: [carat, cut, color, clarity, depth, table, price, x, y, z]\n",
       "Index: []"
      ]
     },
     "execution_count": 14,
     "metadata": {},
     "output_type": "execute_result"
    }
   ],
   "source": [
    "df[df.isnull().any(axis=1)]"
   ]
  },
  {
   "cell_type": "code",
   "execution_count": 15,
   "metadata": {},
   "outputs": [
    {
     "name": "stdout",
     "output_type": "stream",
     "text": [
      "Список колонок:\n",
      "['carat', 'cut', 'color', 'clarity', 'depth', 'table', 'price', 'x', 'y', 'z']\n",
      "\n",
      "Общее количество колонок: 10\n"
     ]
    }
   ],
   "source": [
    "# Выводим список колонок и их количество в красивом формате\n",
    "print(f\"Список колонок:\\n{list(df.columns)}\")\n",
    "print(f\"\\nОбщее количество колонок: {len(df.columns)}\")\n"
   ]
  },
  {
   "cell_type": "markdown",
   "metadata": {},
   "source": [
    "**ЗАМЕНИТЬ НА NULL - ПРАВИЛА ОБРАБОТКИ ТЕСТОВОГО И ТРЕН ДАТАСЕТА НЕ ДОЛЖНЫ ОТЛИЧАТЬСЯ \\\n",
    "Нужно будет явно заменить на null в тестовом датасете**"
   ]
  },
  {
   "cell_type": "code",
   "execution_count": 16,
   "metadata": {},
   "outputs": [
    {
     "data": {
      "text/plain": [
       "13"
      ]
     },
     "execution_count": 16,
     "metadata": {},
     "output_type": "execute_result"
    }
   ],
   "source": [
    "# df.loc[(((df['x'] <= 0) | (df['y'] <= 0)) | (df['z'] <= 0))]\n",
    "len(df[(df.x == 0) | (df.y == 0) | (df.z == 0)])"
   ]
  },
  {
   "cell_type": "code",
   "execution_count": 17,
   "metadata": {},
   "outputs": [
    {
     "data": {
      "text/plain": [
       "13"
      ]
     },
     "execution_count": 17,
     "metadata": {},
     "output_type": "execute_result"
    }
   ],
   "source": [
    "len(df.loc[(((df['x'] <= 0) | (df['y'] <= 0)) | (df['z'] <= 0))])"
   ]
  },
  {
   "cell_type": "code",
   "execution_count": 18,
   "metadata": {},
   "outputs": [
    {
     "data": {
      "text/plain": [
       "(40377, 10)"
      ]
     },
     "execution_count": 18,
     "metadata": {},
     "output_type": "execute_result"
    }
   ],
   "source": [
    "df.shape"
   ]
  },
  {
   "cell_type": "code",
   "execution_count": 19,
   "metadata": {},
   "outputs": [],
   "source": [
    "df.loc[df['x'] <= 0, 'x'] = np.nan\n",
    "df.loc[df['y'] <= 0, 'y'] = np.nan\n",
    "df.loc[df['z'] <= 0, 'z'] = np.nan"
   ]
  },
  {
   "cell_type": "code",
   "execution_count": 20,
   "metadata": {},
   "outputs": [
    {
     "data": {
      "text/plain": [
       "(40377, 10)"
      ]
     },
     "execution_count": 20,
     "metadata": {},
     "output_type": "execute_result"
    }
   ],
   "source": [
    "df.shape"
   ]
  },
  {
   "cell_type": "code",
   "execution_count": 21,
   "metadata": {},
   "outputs": [
    {
     "data": {
      "text/html": [
       "<div>\n",
       "<style scoped>\n",
       "    .dataframe tbody tr th:only-of-type {\n",
       "        vertical-align: middle;\n",
       "    }\n",
       "\n",
       "    .dataframe tbody tr th {\n",
       "        vertical-align: top;\n",
       "    }\n",
       "\n",
       "    .dataframe thead th {\n",
       "        text-align: right;\n",
       "    }\n",
       "</style>\n",
       "<table border=\"1\" class=\"dataframe\">\n",
       "  <thead>\n",
       "    <tr style=\"text-align: right;\">\n",
       "      <th></th>\n",
       "      <th>carat</th>\n",
       "      <th>cut</th>\n",
       "      <th>color</th>\n",
       "      <th>clarity</th>\n",
       "      <th>depth</th>\n",
       "      <th>table</th>\n",
       "      <th>price</th>\n",
       "      <th>x</th>\n",
       "      <th>y</th>\n",
       "      <th>z</th>\n",
       "    </tr>\n",
       "  </thead>\n",
       "  <tbody>\n",
       "    <tr>\n",
       "      <th>4817</th>\n",
       "      <td>1.07</td>\n",
       "      <td>Ideal</td>\n",
       "      <td>F</td>\n",
       "      <td>SI2</td>\n",
       "      <td>61.6</td>\n",
       "      <td>56.0</td>\n",
       "      <td>4954</td>\n",
       "      <td>NaN</td>\n",
       "      <td>6.62</td>\n",
       "      <td>NaN</td>\n",
       "    </tr>\n",
       "    <tr>\n",
       "      <th>7928</th>\n",
       "      <td>1.01</td>\n",
       "      <td>Premium</td>\n",
       "      <td>F</td>\n",
       "      <td>SI2</td>\n",
       "      <td>59.2</td>\n",
       "      <td>58.0</td>\n",
       "      <td>3837</td>\n",
       "      <td>6.50</td>\n",
       "      <td>6.47</td>\n",
       "      <td>NaN</td>\n",
       "    </tr>\n",
       "    <tr>\n",
       "      <th>10418</th>\n",
       "      <td>2.02</td>\n",
       "      <td>Premium</td>\n",
       "      <td>H</td>\n",
       "      <td>VS2</td>\n",
       "      <td>62.7</td>\n",
       "      <td>53.0</td>\n",
       "      <td>18207</td>\n",
       "      <td>8.02</td>\n",
       "      <td>7.95</td>\n",
       "      <td>NaN</td>\n",
       "    </tr>\n",
       "    <tr>\n",
       "      <th>11203</th>\n",
       "      <td>2.25</td>\n",
       "      <td>Premium</td>\n",
       "      <td>I</td>\n",
       "      <td>SI1</td>\n",
       "      <td>61.3</td>\n",
       "      <td>58.0</td>\n",
       "      <td>15397</td>\n",
       "      <td>8.52</td>\n",
       "      <td>8.42</td>\n",
       "      <td>NaN</td>\n",
       "    </tr>\n",
       "    <tr>\n",
       "      <th>13661</th>\n",
       "      <td>1.14</td>\n",
       "      <td>Fair</td>\n",
       "      <td>G</td>\n",
       "      <td>VS1</td>\n",
       "      <td>57.5</td>\n",
       "      <td>67.0</td>\n",
       "      <td>6381</td>\n",
       "      <td>NaN</td>\n",
       "      <td>NaN</td>\n",
       "      <td>NaN</td>\n",
       "    </tr>\n",
       "    <tr>\n",
       "      <th>15977</th>\n",
       "      <td>0.71</td>\n",
       "      <td>Good</td>\n",
       "      <td>F</td>\n",
       "      <td>SI2</td>\n",
       "      <td>64.1</td>\n",
       "      <td>60.0</td>\n",
       "      <td>2130</td>\n",
       "      <td>NaN</td>\n",
       "      <td>NaN</td>\n",
       "      <td>NaN</td>\n",
       "    </tr>\n",
       "    <tr>\n",
       "      <th>18359</th>\n",
       "      <td>1.15</td>\n",
       "      <td>Ideal</td>\n",
       "      <td>G</td>\n",
       "      <td>VS2</td>\n",
       "      <td>59.2</td>\n",
       "      <td>56.0</td>\n",
       "      <td>5564</td>\n",
       "      <td>6.88</td>\n",
       "      <td>6.83</td>\n",
       "      <td>NaN</td>\n",
       "    </tr>\n",
       "    <tr>\n",
       "      <th>23017</th>\n",
       "      <td>1.20</td>\n",
       "      <td>Premium</td>\n",
       "      <td>D</td>\n",
       "      <td>VVS1</td>\n",
       "      <td>62.1</td>\n",
       "      <td>59.0</td>\n",
       "      <td>15686</td>\n",
       "      <td>NaN</td>\n",
       "      <td>NaN</td>\n",
       "      <td>NaN</td>\n",
       "    </tr>\n",
       "    <tr>\n",
       "      <th>25662</th>\n",
       "      <td>1.56</td>\n",
       "      <td>Ideal</td>\n",
       "      <td>G</td>\n",
       "      <td>VS2</td>\n",
       "      <td>62.2</td>\n",
       "      <td>54.0</td>\n",
       "      <td>12800</td>\n",
       "      <td>NaN</td>\n",
       "      <td>NaN</td>\n",
       "      <td>NaN</td>\n",
       "    </tr>\n",
       "    <tr>\n",
       "      <th>32084</th>\n",
       "      <td>2.25</td>\n",
       "      <td>Premium</td>\n",
       "      <td>H</td>\n",
       "      <td>SI2</td>\n",
       "      <td>62.8</td>\n",
       "      <td>59.0</td>\n",
       "      <td>18034</td>\n",
       "      <td>NaN</td>\n",
       "      <td>NaN</td>\n",
       "      <td>NaN</td>\n",
       "    </tr>\n",
       "    <tr>\n",
       "      <th>33954</th>\n",
       "      <td>1.00</td>\n",
       "      <td>Premium</td>\n",
       "      <td>G</td>\n",
       "      <td>SI2</td>\n",
       "      <td>59.1</td>\n",
       "      <td>59.0</td>\n",
       "      <td>3142</td>\n",
       "      <td>6.55</td>\n",
       "      <td>6.48</td>\n",
       "      <td>NaN</td>\n",
       "    </tr>\n",
       "    <tr>\n",
       "      <th>35064</th>\n",
       "      <td>1.00</td>\n",
       "      <td>Very Good</td>\n",
       "      <td>H</td>\n",
       "      <td>VS2</td>\n",
       "      <td>63.3</td>\n",
       "      <td>53.0</td>\n",
       "      <td>5139</td>\n",
       "      <td>NaN</td>\n",
       "      <td>NaN</td>\n",
       "      <td>NaN</td>\n",
       "    </tr>\n",
       "    <tr>\n",
       "      <th>36549</th>\n",
       "      <td>1.12</td>\n",
       "      <td>Premium</td>\n",
       "      <td>G</td>\n",
       "      <td>I1</td>\n",
       "      <td>60.4</td>\n",
       "      <td>59.0</td>\n",
       "      <td>2383</td>\n",
       "      <td>6.71</td>\n",
       "      <td>6.67</td>\n",
       "      <td>NaN</td>\n",
       "    </tr>\n",
       "  </tbody>\n",
       "</table>\n",
       "</div>"
      ],
      "text/plain": [
       "       carat        cut color clarity  depth  table  price     x     y   z\n",
       "4817    1.07      Ideal     F     SI2   61.6   56.0   4954   NaN  6.62 NaN\n",
       "7928    1.01    Premium     F     SI2   59.2   58.0   3837  6.50  6.47 NaN\n",
       "10418   2.02    Premium     H     VS2   62.7   53.0  18207  8.02  7.95 NaN\n",
       "11203   2.25    Premium     I     SI1   61.3   58.0  15397  8.52  8.42 NaN\n",
       "13661   1.14       Fair     G     VS1   57.5   67.0   6381   NaN   NaN NaN\n",
       "15977   0.71       Good     F     SI2   64.1   60.0   2130   NaN   NaN NaN\n",
       "18359   1.15      Ideal     G     VS2   59.2   56.0   5564  6.88  6.83 NaN\n",
       "23017   1.20    Premium     D    VVS1   62.1   59.0  15686   NaN   NaN NaN\n",
       "25662   1.56      Ideal     G     VS2   62.2   54.0  12800   NaN   NaN NaN\n",
       "32084   2.25    Premium     H     SI2   62.8   59.0  18034   NaN   NaN NaN\n",
       "33954   1.00    Premium     G     SI2   59.1   59.0   3142  6.55  6.48 NaN\n",
       "35064   1.00  Very Good     H     VS2   63.3   53.0   5139   NaN   NaN NaN\n",
       "36549   1.12    Premium     G      I1   60.4   59.0   2383  6.71  6.67 NaN"
      ]
     },
     "execution_count": 21,
     "metadata": {},
     "output_type": "execute_result"
    }
   ],
   "source": [
    "df[df.isnull().any(axis=1)]"
   ]
  },
  {
   "cell_type": "markdown",
   "metadata": {},
   "source": [
    "**Видим что есть строки где все три значения np.nan \\\n",
    "Потом в будущем может заменим три измерения объемом, частично избавимся от мультиколлинеарности**"
   ]
  },
  {
   "cell_type": "code",
   "execution_count": 22,
   "metadata": {},
   "outputs": [
    {
     "data": {
      "text/html": [
       "<div>\n",
       "<style scoped>\n",
       "    .dataframe tbody tr th:only-of-type {\n",
       "        vertical-align: middle;\n",
       "    }\n",
       "\n",
       "    .dataframe tbody tr th {\n",
       "        vertical-align: top;\n",
       "    }\n",
       "\n",
       "    .dataframe thead th {\n",
       "        text-align: right;\n",
       "    }\n",
       "</style>\n",
       "<table border=\"1\" class=\"dataframe\">\n",
       "  <thead>\n",
       "    <tr style=\"text-align: right;\">\n",
       "      <th></th>\n",
       "      <th>carat</th>\n",
       "      <th>depth</th>\n",
       "      <th>table</th>\n",
       "      <th>price</th>\n",
       "      <th>x</th>\n",
       "      <th>y</th>\n",
       "      <th>z</th>\n",
       "    </tr>\n",
       "  </thead>\n",
       "  <tbody>\n",
       "    <tr>\n",
       "      <th>count</th>\n",
       "      <td>40377.00000</td>\n",
       "      <td>40377.000000</td>\n",
       "      <td>40377.000000</td>\n",
       "      <td>40377.000000</td>\n",
       "      <td>40370.000000</td>\n",
       "      <td>40371.000000</td>\n",
       "      <td>40364.000000</td>\n",
       "    </tr>\n",
       "    <tr>\n",
       "      <th>mean</th>\n",
       "      <td>0.79713</td>\n",
       "      <td>61.745600</td>\n",
       "      <td>57.452126</td>\n",
       "      <td>3938.759690</td>\n",
       "      <td>5.729770</td>\n",
       "      <td>5.733738</td>\n",
       "      <td>3.538722</td>\n",
       "    </tr>\n",
       "    <tr>\n",
       "      <th>std</th>\n",
       "      <td>0.47404</td>\n",
       "      <td>1.420043</td>\n",
       "      <td>2.231121</td>\n",
       "      <td>3998.041468</td>\n",
       "      <td>1.120248</td>\n",
       "      <td>1.150464</td>\n",
       "      <td>0.706293</td>\n",
       "    </tr>\n",
       "    <tr>\n",
       "      <th>min</th>\n",
       "      <td>0.20000</td>\n",
       "      <td>43.000000</td>\n",
       "      <td>43.000000</td>\n",
       "      <td>326.000000</td>\n",
       "      <td>3.730000</td>\n",
       "      <td>3.710000</td>\n",
       "      <td>1.070000</td>\n",
       "    </tr>\n",
       "    <tr>\n",
       "      <th>25%</th>\n",
       "      <td>0.40000</td>\n",
       "      <td>61.000000</td>\n",
       "      <td>56.000000</td>\n",
       "      <td>946.000000</td>\n",
       "      <td>4.710000</td>\n",
       "      <td>4.720000</td>\n",
       "      <td>2.910000</td>\n",
       "    </tr>\n",
       "    <tr>\n",
       "      <th>50%</th>\n",
       "      <td>0.70000</td>\n",
       "      <td>61.800000</td>\n",
       "      <td>57.000000</td>\n",
       "      <td>2401.000000</td>\n",
       "      <td>5.690000</td>\n",
       "      <td>5.710000</td>\n",
       "      <td>3.530000</td>\n",
       "    </tr>\n",
       "    <tr>\n",
       "      <th>75%</th>\n",
       "      <td>1.04000</td>\n",
       "      <td>62.500000</td>\n",
       "      <td>59.000000</td>\n",
       "      <td>5326.000000</td>\n",
       "      <td>6.540000</td>\n",
       "      <td>6.530000</td>\n",
       "      <td>4.030000</td>\n",
       "    </tr>\n",
       "    <tr>\n",
       "      <th>max</th>\n",
       "      <td>5.01000</td>\n",
       "      <td>78.200000</td>\n",
       "      <td>95.000000</td>\n",
       "      <td>18818.000000</td>\n",
       "      <td>10.740000</td>\n",
       "      <td>58.900000</td>\n",
       "      <td>31.800000</td>\n",
       "    </tr>\n",
       "  </tbody>\n",
       "</table>\n",
       "</div>"
      ],
      "text/plain": [
       "             carat         depth         table         price             x  \\\n",
       "count  40377.00000  40377.000000  40377.000000  40377.000000  40370.000000   \n",
       "mean       0.79713     61.745600     57.452126   3938.759690      5.729770   \n",
       "std        0.47404      1.420043      2.231121   3998.041468      1.120248   \n",
       "min        0.20000     43.000000     43.000000    326.000000      3.730000   \n",
       "25%        0.40000     61.000000     56.000000    946.000000      4.710000   \n",
       "50%        0.70000     61.800000     57.000000   2401.000000      5.690000   \n",
       "75%        1.04000     62.500000     59.000000   5326.000000      6.540000   \n",
       "max        5.01000     78.200000     95.000000  18818.000000     10.740000   \n",
       "\n",
       "                  y             z  \n",
       "count  40371.000000  40364.000000  \n",
       "mean       5.733738      3.538722  \n",
       "std        1.150464      0.706293  \n",
       "min        3.710000      1.070000  \n",
       "25%        4.720000      2.910000  \n",
       "50%        5.710000      3.530000  \n",
       "75%        6.530000      4.030000  \n",
       "max       58.900000     31.800000  "
      ]
     },
     "execution_count": 22,
     "metadata": {},
     "output_type": "execute_result"
    }
   ],
   "source": [
    "df.describe()"
   ]
  },
  {
   "cell_type": "code",
   "execution_count": 23,
   "metadata": {},
   "outputs": [],
   "source": [
    "# Прежде чем это сделать надо убрать ошибки в x y z\n",
    "\n",
    "# df['xyz'] = df['x']*df['y']*df['z']\n",
    "# df.drop(columns=['x','y','z'], axis=1, inplace=True)"
   ]
  },
  {
   "cell_type": "code",
   "execution_count": 24,
   "metadata": {},
   "outputs": [],
   "source": [
    "# df[df['carat'] == 5.01000]"
   ]
  },
  {
   "cell_type": "code",
   "execution_count": 25,
   "metadata": {},
   "outputs": [],
   "source": [
    "# sns.pairplot(df)"
   ]
  },
  {
   "cell_type": "markdown",
   "metadata": {},
   "source": [
    "**Видим мультимодальные и не нормальные распределения - буду менять у X в будущем, мб логарифмировать \\\n",
    "Видим некоторые выбросы\n",
    "нелинейный рост цены относительно размеров бриллианта - объясняется тем что какой нибудь 1 карат в серьге выглядит намного круче чем полкарата, поэтому и цена отличается больше чем в 2 раза**"
   ]
  },
  {
   "cell_type": "markdown",
   "metadata": {},
   "source": [
    "***Попытаться рассмотреть все распределения с выбросами подробнее, разработать алгоритмические правила обработки нетривиальных случаев***"
   ]
  },
  {
   "cell_type": "code",
   "execution_count": 26,
   "metadata": {},
   "outputs": [
    {
     "data": {
      "image/png": "[encoded data removed]",
      "text/plain": [
       "<Figure size 600x400 with 1 Axes>"
      ]
     },
     "metadata": {},
     "output_type": "display_data"
    }
   ],
   "source": [
    "plt.figure(figsize=(6, 4))\n",
    "sns.scatterplot(x='y', y='z', data=df)\n",
    "plt.show()"
   ]
  },
  {
   "cell_type": "code",
   "execution_count": 27,
   "metadata": {},
   "outputs": [
    {
     "data": {
      "text/html": [
       "<div>\n",
       "<style scoped>\n",
       "    .dataframe tbody tr th:only-of-type {\n",
       "        vertical-align: middle;\n",
       "    }\n",
       "\n",
       "    .dataframe tbody tr th {\n",
       "        vertical-align: top;\n",
       "    }\n",
       "\n",
       "    .dataframe thead th {\n",
       "        text-align: right;\n",
       "    }\n",
       "</style>\n",
       "<table border=\"1\" class=\"dataframe\">\n",
       "  <thead>\n",
       "    <tr style=\"text-align: right;\">\n",
       "      <th></th>\n",
       "      <th>carat</th>\n",
       "      <th>cut</th>\n",
       "      <th>color</th>\n",
       "      <th>clarity</th>\n",
       "      <th>depth</th>\n",
       "      <th>table</th>\n",
       "      <th>price</th>\n",
       "      <th>x</th>\n",
       "      <th>y</th>\n",
       "      <th>z</th>\n",
       "    </tr>\n",
       "  </thead>\n",
       "  <tbody>\n",
       "    <tr>\n",
       "      <th>2455</th>\n",
       "      <td>0.51</td>\n",
       "      <td>Ideal</td>\n",
       "      <td>E</td>\n",
       "      <td>VS1</td>\n",
       "      <td>61.8</td>\n",
       "      <td>55.0</td>\n",
       "      <td>2075</td>\n",
       "      <td>5.15</td>\n",
       "      <td>31.8</td>\n",
       "      <td>5.12</td>\n",
       "    </tr>\n",
       "    <tr>\n",
       "      <th>16230</th>\n",
       "      <td>2.00</td>\n",
       "      <td>Premium</td>\n",
       "      <td>H</td>\n",
       "      <td>SI2</td>\n",
       "      <td>58.9</td>\n",
       "      <td>57.0</td>\n",
       "      <td>12210</td>\n",
       "      <td>8.09</td>\n",
       "      <td>58.9</td>\n",
       "      <td>8.06</td>\n",
       "    </tr>\n",
       "  </tbody>\n",
       "</table>\n",
       "</div>"
      ],
      "text/plain": [
       "       carat      cut color clarity  depth  table  price     x     y     z\n",
       "2455    0.51    Ideal     E     VS1   61.8   55.0   2075  5.15  31.8  5.12\n",
       "16230   2.00  Premium     H     SI2   58.9   57.0  12210  8.09  58.9  8.06"
      ]
     },
     "execution_count": 27,
     "metadata": {},
     "output_type": "execute_result"
    }
   ],
   "source": [
    "df[(df['y'] > 25)] "
   ]
  },
  {
   "cell_type": "code",
   "execution_count": null,
   "metadata": {},
   "outputs": [],
   "source": []
  },
  {
   "cell_type": "code",
   "execution_count": 28,
   "metadata": {},
   "outputs": [
    {
     "data": {
      "image/png": "[encoded data removed]",
      "text/plain": [
       "<Figure size 600x400 with 1 Axes>"
      ]
     },
     "metadata": {},
     "output_type": "display_data"
    }
   ],
   "source": [
    "plt.figure(figsize=(6, 4))\n",
    "sns.scatterplot(x='z', y='x', data=df)\n",
    "plt.show()"
   ]
  },
  {
   "cell_type": "code",
   "execution_count": 29,
   "metadata": {},
   "outputs": [
    {
     "data": {
      "text/html": [
       "<div>\n",
       "<style scoped>\n",
       "    .dataframe tbody tr th:only-of-type {\n",
       "        vertical-align: middle;\n",
       "    }\n",
       "\n",
       "    .dataframe tbody tr th {\n",
       "        vertical-align: top;\n",
       "    }\n",
       "\n",
       "    .dataframe thead th {\n",
       "        text-align: right;\n",
       "    }\n",
       "</style>\n",
       "<table border=\"1\" class=\"dataframe\">\n",
       "  <thead>\n",
       "    <tr style=\"text-align: right;\">\n",
       "      <th></th>\n",
       "      <th>carat</th>\n",
       "      <th>cut</th>\n",
       "      <th>color</th>\n",
       "      <th>clarity</th>\n",
       "      <th>depth</th>\n",
       "      <th>table</th>\n",
       "      <th>price</th>\n",
       "      <th>x</th>\n",
       "      <th>y</th>\n",
       "      <th>z</th>\n",
       "    </tr>\n",
       "  </thead>\n",
       "  <tbody>\n",
       "    <tr>\n",
       "      <th>1895</th>\n",
       "      <td>0.51</td>\n",
       "      <td>Very Good</td>\n",
       "      <td>E</td>\n",
       "      <td>VS1</td>\n",
       "      <td>61.8</td>\n",
       "      <td>54.7</td>\n",
       "      <td>1970</td>\n",
       "      <td>5.12</td>\n",
       "      <td>5.15</td>\n",
       "      <td>31.8</td>\n",
       "    </tr>\n",
       "  </tbody>\n",
       "</table>\n",
       "</div>"
      ],
      "text/plain": [
       "      carat        cut color clarity  depth  table  price     x     y     z\n",
       "1895   0.51  Very Good     E     VS1   61.8   54.7   1970  5.12  5.15  31.8"
      ]
     },
     "execution_count": 29,
     "metadata": {},
     "output_type": "execute_result"
    }
   ],
   "source": [
    "df[(df['z'] > 30)] "
   ]
  },
  {
   "cell_type": "code",
   "execution_count": 30,
   "metadata": {},
   "outputs": [],
   "source": [
    "# df[(df['z'] >= 0.75 * (df['x'] + df['y']) / 2)]"
   ]
  },
  {
   "cell_type": "code",
   "execution_count": 31,
   "metadata": {},
   "outputs": [
    {
     "data": {
      "image/png": "[encoded data removed]",
      "text/plain": [
       "<Figure size 600x400 with 1 Axes>"
      ]
     },
     "metadata": {},
     "output_type": "display_data"
    }
   ],
   "source": [
    "plt.figure(figsize=(6, 4))\n",
    "sns.scatterplot(x='depth', y='y', data=df)\n",
    "plt.show()"
   ]
  },
  {
   "cell_type": "code",
   "execution_count": 32,
   "metadata": {},
   "outputs": [],
   "source": [
    "# df[(df['y'] > 25)] \n",
    "# те же строки\n",
    "# df[(df['y'] < 9) & (df['depth'] < 45)] \n",
    "# df[(df['y'] < 9) & (df['depth'] > 75)] "
   ]
  },
  {
   "cell_type": "code",
   "execution_count": 33,
   "metadata": {},
   "outputs": [
    {
     "data": {
      "text/html": [
       "<div>\n",
       "<style scoped>\n",
       "    .dataframe tbody tr th:only-of-type {\n",
       "        vertical-align: middle;\n",
       "    }\n",
       "\n",
       "    .dataframe tbody tr th {\n",
       "        vertical-align: top;\n",
       "    }\n",
       "\n",
       "    .dataframe thead th {\n",
       "        text-align: right;\n",
       "    }\n",
       "</style>\n",
       "<table border=\"1\" class=\"dataframe\">\n",
       "  <thead>\n",
       "    <tr style=\"text-align: right;\">\n",
       "      <th></th>\n",
       "      <th>carat</th>\n",
       "      <th>cut</th>\n",
       "      <th>color</th>\n",
       "      <th>clarity</th>\n",
       "      <th>depth</th>\n",
       "      <th>table</th>\n",
       "      <th>price</th>\n",
       "      <th>x</th>\n",
       "      <th>y</th>\n",
       "      <th>z</th>\n",
       "    </tr>\n",
       "  </thead>\n",
       "  <tbody>\n",
       "    <tr>\n",
       "      <th>16</th>\n",
       "      <td>0.52</td>\n",
       "      <td>Very Good</td>\n",
       "      <td>F</td>\n",
       "      <td>VVS2</td>\n",
       "      <td>61.5</td>\n",
       "      <td>57.0</td>\n",
       "      <td>2079</td>\n",
       "      <td>5.18</td>\n",
       "      <td>5.22</td>\n",
       "      <td>3.19</td>\n",
       "    </tr>\n",
       "    <tr>\n",
       "      <th>50</th>\n",
       "      <td>1.12</td>\n",
       "      <td>Very Good</td>\n",
       "      <td>G</td>\n",
       "      <td>SI2</td>\n",
       "      <td>63.4</td>\n",
       "      <td>57.0</td>\n",
       "      <td>3700</td>\n",
       "      <td>6.51</td>\n",
       "      <td>6.47</td>\n",
       "      <td>4.12</td>\n",
       "    </tr>\n",
       "    <tr>\n",
       "      <th>58</th>\n",
       "      <td>0.51</td>\n",
       "      <td>Ideal</td>\n",
       "      <td>E</td>\n",
       "      <td>VVS1</td>\n",
       "      <td>61.1</td>\n",
       "      <td>54.7</td>\n",
       "      <td>2691</td>\n",
       "      <td>5.16</td>\n",
       "      <td>5.20</td>\n",
       "      <td>3.17</td>\n",
       "    </tr>\n",
       "    <tr>\n",
       "      <th>95</th>\n",
       "      <td>1.00</td>\n",
       "      <td>Premium</td>\n",
       "      <td>F</td>\n",
       "      <td>VS1</td>\n",
       "      <td>61.3</td>\n",
       "      <td>59.0</td>\n",
       "      <td>6692</td>\n",
       "      <td>6.45</td>\n",
       "      <td>6.42</td>\n",
       "      <td>3.95</td>\n",
       "    </tr>\n",
       "    <tr>\n",
       "      <th>145</th>\n",
       "      <td>0.74</td>\n",
       "      <td>Ideal</td>\n",
       "      <td>I</td>\n",
       "      <td>SI1</td>\n",
       "      <td>61.3</td>\n",
       "      <td>56.0</td>\n",
       "      <td>2769</td>\n",
       "      <td>5.82</td>\n",
       "      <td>5.86</td>\n",
       "      <td>3.57</td>\n",
       "    </tr>\n",
       "    <tr>\n",
       "      <th>...</th>\n",
       "      <td>...</td>\n",
       "      <td>...</td>\n",
       "      <td>...</td>\n",
       "      <td>...</td>\n",
       "      <td>...</td>\n",
       "      <td>...</td>\n",
       "      <td>...</td>\n",
       "      <td>...</td>\n",
       "      <td>...</td>\n",
       "      <td>...</td>\n",
       "    </tr>\n",
       "    <tr>\n",
       "      <th>40339</th>\n",
       "      <td>0.70</td>\n",
       "      <td>Premium</td>\n",
       "      <td>F</td>\n",
       "      <td>SI2</td>\n",
       "      <td>62.9</td>\n",
       "      <td>57.0</td>\n",
       "      <td>2184</td>\n",
       "      <td>5.64</td>\n",
       "      <td>5.61</td>\n",
       "      <td>3.53</td>\n",
       "    </tr>\n",
       "    <tr>\n",
       "      <th>40353</th>\n",
       "      <td>1.11</td>\n",
       "      <td>Good</td>\n",
       "      <td>D</td>\n",
       "      <td>VS2</td>\n",
       "      <td>63.2</td>\n",
       "      <td>57.0</td>\n",
       "      <td>7863</td>\n",
       "      <td>6.61</td>\n",
       "      <td>6.64</td>\n",
       "      <td>4.18</td>\n",
       "    </tr>\n",
       "    <tr>\n",
       "      <th>40381</th>\n",
       "      <td>0.61</td>\n",
       "      <td>Ideal</td>\n",
       "      <td>J</td>\n",
       "      <td>VS2</td>\n",
       "      <td>59.7</td>\n",
       "      <td>59.0</td>\n",
       "      <td>1233</td>\n",
       "      <td>5.54</td>\n",
       "      <td>5.47</td>\n",
       "      <td>3.29</td>\n",
       "    </tr>\n",
       "    <tr>\n",
       "      <th>40425</th>\n",
       "      <td>2.01</td>\n",
       "      <td>Good</td>\n",
       "      <td>I</td>\n",
       "      <td>SI2</td>\n",
       "      <td>63.8</td>\n",
       "      <td>57.0</td>\n",
       "      <td>8780</td>\n",
       "      <td>8.00</td>\n",
       "      <td>7.95</td>\n",
       "      <td>5.10</td>\n",
       "    </tr>\n",
       "    <tr>\n",
       "      <th>40436</th>\n",
       "      <td>0.31</td>\n",
       "      <td>Ideal</td>\n",
       "      <td>G</td>\n",
       "      <td>IF</td>\n",
       "      <td>61.7</td>\n",
       "      <td>55.0</td>\n",
       "      <td>871</td>\n",
       "      <td>4.37</td>\n",
       "      <td>4.39</td>\n",
       "      <td>2.70</td>\n",
       "    </tr>\n",
       "  </tbody>\n",
       "</table>\n",
       "<p>2836 rows × 10 columns</p>\n",
       "</div>"
      ],
      "text/plain": [
       "       carat        cut color clarity  depth  table  price     x     y     z\n",
       "16      0.52  Very Good     F    VVS2   61.5   57.0   2079  5.18  5.22  3.19\n",
       "50      1.12  Very Good     G     SI2   63.4   57.0   3700  6.51  6.47  4.12\n",
       "58      0.51      Ideal     E    VVS1   61.1   54.7   2691  5.16  5.20  3.17\n",
       "95      1.00    Premium     F     VS1   61.3   59.0   6692  6.45  6.42  3.95\n",
       "145     0.74      Ideal     I     SI1   61.3   56.0   2769  5.82  5.86  3.57\n",
       "...      ...        ...   ...     ...    ...    ...    ...   ...   ...   ...\n",
       "40339   0.70    Premium     F     SI2   62.9   57.0   2184  5.64  5.61  3.53\n",
       "40353   1.11       Good     D     VS2   63.2   57.0   7863  6.61  6.64  4.18\n",
       "40381   0.61      Ideal     J     VS2   59.7   59.0   1233  5.54  5.47  3.29\n",
       "40425   2.01       Good     I     SI2   63.8   57.0   8780  8.00  7.95  5.10\n",
       "40436   0.31      Ideal     G      IF   61.7   55.0    871  4.37  4.39  2.70\n",
       "\n",
       "[2836 rows x 10 columns]"
      ]
     },
     "execution_count": 33,
     "metadata": {},
     "output_type": "execute_result"
    }
   ],
   "source": [
    "# Косяк расчета depth для 3к строк? \n",
    "depth_percentage = round(2 * df['z'] / (df['x'] + df['y']) * 100, 1)\n",
    "df[depth_percentage != df['depth']]\n",
    "\n",
    "# Учесть проблему чисел с правающей точкой\n",
    "# Учесть что у нас некоторые размеры абсурдны\n",
    "# Использовать логику расчета глубины для восстановления значений x y z !!!"
   ]
  },
  {
   "cell_type": "code",
   "execution_count": 34,
   "metadata": {},
   "outputs": [],
   "source": [
    "df['calculated_depth'] = round(2 * df['z'] / (df['x'] + df['y']) * 100, 1)\n",
    "df_mismatch = df[df['calculated_depth'] != df['depth']].copy()\n",
    "df_mismatch['delta'] = df_mismatch['calculated_depth'] - df_mismatch['depth']\n",
    "df.drop('calculated_depth', axis=1, inplace=True)\n"
   ]
  },
  {
   "cell_type": "code",
   "execution_count": 35,
   "metadata": {},
   "outputs": [],
   "source": [
    "# df_mismatch[abs(df_mismatch['delta']) > 1]"
   ]
  },
  {
   "cell_type": "code",
   "execution_count": 36,
   "metadata": {},
   "outputs": [],
   "source": [
    "# round(df_mismatch['delta'], 1).nunique()"
   ]
  },
  {
   "cell_type": "code",
   "execution_count": 37,
   "metadata": {},
   "outputs": [],
   "source": [
    "# df_mismatch[round(df_mismatch['delta']).abs() > 1]"
   ]
  },
  {
   "cell_type": "markdown",
   "metadata": {},
   "source": [
    "**Сначала исправим обсурдные значения, затем исправим расчет глубины**"
   ]
  },
  {
   "cell_type": "code",
   "execution_count": 38,
   "metadata": {},
   "outputs": [],
   "source": [
    "df.loc[df['x'] > 20, 'x'] /= 10\n",
    "df.loc[df['y'] > 20, 'y'] /= 10\n",
    "df.loc[df['z'] > 20, 'z'] /= 10"
   ]
  },
  {
   "cell_type": "code",
   "execution_count": 39,
   "metadata": {},
   "outputs": [],
   "source": [
    "# sns.pairplot(df)"
   ]
  },
  {
   "cell_type": "code",
   "execution_count": 40,
   "metadata": {},
   "outputs": [],
   "source": [
    "# df.loc[df[['x', 'y', 'z']].notna().all(axis=1), 'depth'] = round(2 * df['z'] / (df['x'] + df['y']) * 100, 1)"
   ]
  },
  {
   "cell_type": "code",
   "execution_count": 41,
   "metadata": {},
   "outputs": [],
   "source": [
    "# df[df.isna().any(axis=1)]"
   ]
  },
  {
   "cell_type": "code",
   "execution_count": 42,
   "metadata": {},
   "outputs": [],
   "source": [
    "# sns.pairplot(df)"
   ]
  },
  {
   "cell_type": "code",
   "execution_count": null,
   "metadata": {},
   "outputs": [],
   "source": []
  },
  {
   "cell_type": "markdown",
   "metadata": {},
   "source": [
    "## Кастомная Метрика"
   ]
  },
  {
   "cell_type": "code",
   "execution_count": 43,
   "metadata": {},
   "outputs": [
    {
     "data": {
      "text/plain": [
       "make_scorer(irq_mse)"
      ]
     },
     "execution_count": 43,
     "metadata": {},
     "output_type": "execute_result"
    }
   ],
   "source": [
    "def irq_mse(y_true, y_pred):\n",
    "    delta = y_pred - y_true\n",
    "    quant_75 = np.quantile(delta, 0.75)\n",
    "    quant_25 = np.quantile(delta, 0.25)\n",
    "    irq = quant_75 - quant_25\n",
    "    mask = (delta < quant_25 - 1.5*irq) | (delta > quant_75 + 1.5*irq)\n",
    "    \n",
    "    if mask.sum() == 0:\n",
    "        irq_mse = 0\n",
    "    else:\n",
    "        delta_new = delta[mask]**2\n",
    "        irq_mse = -1/len(delta_new) * np.sum(delta_new)\n",
    "    return irq_mse\n",
    "\n",
    "score_irq_mse = make_scorer(irq_mse)\n",
    "score_irq_mse"
   ]
  },
  {
   "cell_type": "markdown",
   "metadata": {
    "jp-MarkdownHeadingCollapsed": true
   },
   "source": [
    "## Биннинг"
   ]
  },
  {
   "cell_type": "code",
   "execution_count": 44,
   "metadata": {},
   "outputs": [],
   "source": [
    "# from sklearn.preprocessing import KBinsDiscretizer\n",
    "\n",
    "# binning = KBinsDiscretizer(n_bins=7, encode='ordinal', strategy='quantile')\n",
    "# df['carat_binned'] = binning.fit_transform(df[['carat']])\n",
    "# df['depth_binned'] = binning.fit_transform(df[['depth']])\n",
    "# df['table_binned'] = binning.fit_transform(df[['table']])\n"
   ]
  },
  {
   "cell_type": "code",
   "execution_count": 45,
   "metadata": {},
   "outputs": [],
   "source": [
    "# df = df.drop(['carat', 'depth', 'table'], axis=1).copy()"
   ]
  },
  {
   "cell_type": "code",
   "execution_count": null,
   "metadata": {},
   "outputs": [],
   "source": []
  },
  {
   "cell_type": "code",
   "execution_count": null,
   "metadata": {},
   "outputs": [],
   "source": []
  },
  {
   "cell_type": "markdown",
   "metadata": {},
   "source": [
    "## Сплит + трансформеры"
   ]
  },
  {
   "cell_type": "code",
   "execution_count": 46,
   "metadata": {},
   "outputs": [
    {
     "name": "stdout",
     "output_type": "stream",
     "text": [
      "Числовые колонки: ['carat', 'depth', 'table', 'price', 'x', 'y', 'z']\n",
      "Категориальные колонки: ['cut', 'color', 'clarity']\n"
     ]
    }
   ],
   "source": [
    "def classify_columns(df):\n",
    "    numeric_columns = []\n",
    "    categorical_columns = []\n",
    "\n",
    "    for column in df.columns:\n",
    "        if pd.api.types.is_numeric_dtype(df[column]):\n",
    "            numeric_columns.append(column)\n",
    "        else:\n",
    "            categorical_columns.append(column)\n",
    "\n",
    "    return numeric_columns, categorical_columns\n",
    "\n",
    "numeric_columns, categorical_columns = classify_columns(df)\n",
    "\n",
    "print(\"Числовые колонки:\", numeric_columns)\n",
    "print(\"Категориальные колонки:\", categorical_columns)"
   ]
  },
  {
   "cell_type": "code",
   "execution_count": 47,
   "metadata": {},
   "outputs": [],
   "source": [
    "X = df.drop('price', axis=1)\n",
    "y = df['price']"
   ]
  },
  {
   "cell_type": "code",
   "execution_count": 48,
   "metadata": {},
   "outputs": [],
   "source": [
    "X_train, X_test, y_train, y_test = train_test_split(X, y, test_size=0.3)"
   ]
  },
  {
   "cell_type": "code",
   "execution_count": 49,
   "metadata": {},
   "outputs": [],
   "source": [
    "cat_features = ['cut', 'color', 'clarity']\n",
    "# axis_features = ['depth', 'table']\n",
    "axis_features = ['x', 'y', 'z']\n",
    "num_features = ['carat', 'depth', 'table']\n",
    "# num_features = ['carat', 'volume']"
   ]
  },
  {
   "cell_type": "code",
   "execution_count": 50,
   "metadata": {},
   "outputs": [],
   "source": [
    "# axis_transformer = Pipeline(steps=[\n",
    "#     ('missing_num', IterativeImputer(missing_values=np.nan, max_iter=20)),\n",
    "#     ('polynom', PolynomialFeatures(2, include_bias=False)),  # Поставить True, если модель не имеет свободного члена\n",
    "#     ('scaler', RobustScaler())  # Это место будет заменяться скейлерами через GridSearchCV\n",
    "# ])\n",
    "\n",
    "# # Пайплайн для числовых признаков\n",
    "# num = Pipeline(steps=[\n",
    "#     ('missing_num', IterativeImputer(missing_values=np.nan, max_iter=20)),\n",
    "#     ('scaler', RobustScaler())  # Здесь также заменяется скейлер\n",
    "# ])\n",
    "\n",
    "# # Пайплайн для категориальных признаков\n",
    "# cat = Pipeline(steps=[\n",
    "#     ('imputer', SimpleImputer(strategy='most_frequent')),  # Заполнение пропусков наиболее частым значением\n",
    "#     ('onehot', OneHotEncoder(sparse_output=False))  # Кодирование категориальных переменных\n",
    "# ])\n",
    "\n",
    "# # Объединение всех трансформеров в ColumnTransformer\n",
    "# CT = ColumnTransformer([\n",
    "#     (\"axis_transformer\", axis_transformer, axis_features),\n",
    "#     (\"num\", num, num_features),\n",
    "#     (\"cat\", cat, cat_features)\n",
    "# ]).set_output(transform='pandas')\n",
    "\n",
    "# # Вывод информации о ColumnTransformer\n",
    "# display(CT)\n",
    "\n",
    "# ct = CT.fit_transform(X_train)"
   ]
  },
  {
   "cell_type": "code",
   "execution_count": 51,
   "metadata": {},
   "outputs": [],
   "source": [
    "# axis_transformer = Pipeline(steps=[\n",
    "#     ('missing_num', IterativeImputer(missing_values=np.nan, max_iter=20)),\n",
    "#     ('polynom', PolynomialFeatures(2, include_bias=False)),  # Поставить True, если модель не имеет свободного члена\n",
    "#     ('scaler', RobustScaler())  # Это место будет заменяться скейлерами через GridSearchCV\n",
    "# ])\n",
    "\n",
    "# # Маппинг для cut, color и clarity\n",
    "# cut_map = [{\n",
    "#     'col': 'cut',\n",
    "#     'mapping': {'Fair': 0, 'Good': 1, 'Very Good': 2, 'Premium': 3, 'Ideal': 4}\n",
    "# }]\n",
    "\n",
    "# color_map = [{\n",
    "#     'col': 'color',\n",
    "#     'mapping': {'J': 0, 'I': 1, 'H': 2, 'G': 3, 'F': 4, 'E': 5, 'D': 6}\n",
    "# }]\n",
    "\n",
    "# clarity_map = [{\n",
    "#     'col': 'clarity',\n",
    "#     'mapping': {'I1': 0, 'SI2': 1, 'SI1': 2, 'VS2': 3, 'VS1': 4, 'VVS2': 5, 'VVS1': 6, 'IF': 7}\n",
    "# }]\n",
    "\n",
    "# # Трансформеры для cut, color и clarity\n",
    "# cut_transformer = Pipeline(steps=[\n",
    "#     ('imputer', SimpleImputer(strategy='most_frequent')),\n",
    "#     ('ce', ce.OrdinalEncoder(mapping=cut_map))\n",
    "#     # ('scaler', MinMaxScaler())\n",
    "# ])\n",
    "\n",
    "# color_transformer = Pipeline(steps=[\n",
    "#     ('imputer', SimpleImputer(strategy='most_frequent')),\n",
    "#     ('ce', ce.OrdinalEncoder(mapping=color_map))\n",
    "#     # ('scaler', MinMaxScaler())\n",
    "# ])\n",
    "\n",
    "# clarity_transformer = Pipeline(steps=[\n",
    "#     ('imputer', SimpleImputer(strategy='most_frequent')),\n",
    "#     ('ce', ce.OrdinalEncoder(mapping=clarity_map))\n",
    "#     # ('scaler', MinMaxScaler())\n",
    "# ])\n",
    "\n",
    "# # Пайплайн для числовых признаков\n",
    "# num = Pipeline(steps=[\n",
    "#     ('missing_num', IterativeImputer(missing_values=np.nan, max_iter=20)),\n",
    "#     ('scaler', RobustScaler())  # Здесь также заменяется скейлер\n",
    "# ])\n",
    "\n",
    "# # Объединение всех трансформеров в ColumnTransformer\n",
    "# CT = ColumnTransformer([\n",
    "#     (\"axis_transformer\", axis_transformer, axis_features),\n",
    "#     (\"num\", num, num_features),\n",
    "#     (\"cut_map\", cut_transformer, ['cut']),\n",
    "#     (\"color_map\", color_transformer, ['color']),\n",
    "#     (\"clarity_map\", clarity_transformer, ['clarity'])\n",
    "# ]).set_output(transform='pandas')\n",
    "\n",
    "# # Вывод информации о ColumnTransformer\n",
    "# display(CT)\n",
    "\n",
    "# # Применение трансформеров\n",
    "# ct = CT.fit_transform(X_train)\n",
    "\n"
   ]
  },
  {
   "cell_type": "code",
   "execution_count": 52,
   "metadata": {},
   "outputs": [],
   "source": [
    "# model_target =  TransformedTargetRegressor(\n",
    "#                 regressor = Pipeline(steps=[\n",
    "#                                 ('preproc', CT),\n",
    "#                                 ('estimator', Ridge())\n",
    "#                             ]),\n",
    "#                 transformer = PowerTransformer(method='yeo-johnson')\n",
    "# )\n",
    "\n",
    "# model_target.fit(X_train, y_train)\n",
    "# y_pred = model_target.predict(X_test)\n",
    "\n",
    "# mse = mean_squared_error(y_test, y_pred)\n",
    "# print(f\"Mean Squared Error (MSE): {mse:.2f}\")\n",
    "# print(irq_mse(y_test, y_pred))"
   ]
  },
  {
   "cell_type": "markdown",
   "metadata": {
    "jp-MarkdownHeadingCollapsed": true
   },
   "source": [
    "## Затестим пачку моделей"
   ]
  },
  {
   "cell_type": "markdown",
   "metadata": {},
   "source": [
    "**После более менее выстроенного пайплайна (который потом будет доработан кросс валидацией) начнем тестить разные модели что б выделить хоть парочку лидеров**"
   ]
  },
  {
   "cell_type": "code",
   "execution_count": 53,
   "metadata": {},
   "outputs": [],
   "source": [
    "from sklearn.svm import SVR  # Support Vector Machine для регрессии\n",
    "from sklearn.linear_model import LassoCV  # Lasso регрессия с кросс-валидацией\n",
    "from sklearn.neighbors import KNeighborsRegressor  # К ближайших соседей для регрессии\n",
    "from sklearn.linear_model import LarsCV  # Ларс (Least Angle Regression)\n",
    "from sklearn.linear_model import RANSACRegressor  # RANSAC регрессор\n",
    "from sklearn.linear_model import SGDRegressor  # Stochastic Gradient Descent для регрессии\n",
    "from sklearn.linear_model import LassoLarsCV  # Lasso с LARS и кросс-валидацией\n",
    "from sklearn.linear_model import OrthogonalMatchingPursuitCV  # Orthogonal Matching Pursuit с кросс-валидацией\n",
    "from sklearn.linear_model import RidgeCV  # Ridge регрессия с кросс-валидацией\n",
    "from sklearn.linear_model import HuberRegressor  # Huber регрессор\n",
    "from sklearn.linear_model import TheilSenRegressor  # Theil-Sen регрессор\n",
    "from sklearn.linear_model import PassiveAggressiveRegressor  # Passive-Aggressive регрессор\n",
    "\n"
   ]
  },
  {
   "cell_type": "code",
   "execution_count": 54,
   "metadata": {},
   "outputs": [],
   "source": [
    "# ультрахорош\n",
    "\n",
    "# model_target =  TransformedTargetRegressor(\n",
    "#                 regressor = Pipeline(steps=[\n",
    "#                                 ('preproc', CT),\n",
    "#                                 ('estimator', SVR())\n",
    "#                             ]),\n",
    "#                 transformer = PowerTransformer(method='yeo-johnson')\n",
    "# )\n",
    "\n",
    "# model_target.fit(X_train, y_train)\n",
    "# y_pred = model_target.predict(X_test)\n",
    "\n",
    "# mse = mean_squared_error(y_test, y_pred)\n",
    "# print(f\"Mean Squared Error (MSE): {mse:.2f}\")\n",
    "# print(irq_mse(y_test, y_pred))"
   ]
  },
  {
   "cell_type": "code",
   "execution_count": 55,
   "metadata": {},
   "outputs": [],
   "source": [
    "# плохо\n",
    "\n",
    "# model_target =  TransformedTargetRegressor(\n",
    "#                 regressor = Pipeline(steps=[\n",
    "#                                 ('preproc', CT),\n",
    "#                                 ('estimator', LassoCV())\n",
    "#                             ]),\n",
    "#                 transformer = PowerTransformer(method='yeo-johnson')\n",
    "# )\n",
    "\n",
    "# model_target.fit(X_train, y_train)\n",
    "# y_pred = model_target.predict(X_test)\n",
    "\n",
    "# mse = mean_squared_error(y_test, y_pred)\n",
    "# print(f\"Mean Squared Error (MSE): {mse:.2f}\")\n",
    "# print(irq_mse(y_test, y_pred))"
   ]
  },
  {
   "cell_type": "code",
   "execution_count": 56,
   "metadata": {},
   "outputs": [],
   "source": [
    "# Плохо но надо настраивать гиперпараметры\n",
    "\n",
    "# model_target =  TransformedTargetRegressor(\n",
    "#                 regressor = Pipeline(steps=[\n",
    "#                                 ('preproc', CT),\n",
    "#                                 ('estimator', KNeighborsRegressor())\n",
    "#                             ]),\n",
    "#                 transformer = PowerTransformer(method='yeo-johnson')\n",
    "# )\n",
    "\n",
    "# model_target.fit(X_train, y_train)\n",
    "# y_pred = model_target.predict(X_test)\n",
    "\n",
    "# mse = mean_squared_error(y_test, y_pred)\n",
    "# print(f\"Mean Squared Error (MSE): {mse:.2f}\")\n",
    "# print(irq_mse(y_test, y_pred))"
   ]
  },
  {
   "cell_type": "code",
   "execution_count": 57,
   "metadata": {},
   "outputs": [],
   "source": [
    "# Ультраплохо делаю что то не так максимально\n",
    "# ахахах -160 млн...\n",
    "\n",
    "# model_target =  TransformedTargetRegressor(\n",
    "#                 regressor = Pipeline(steps=[\n",
    "#                                 ('preproc', CT),\n",
    "#                                 ('estimator', LarsCV())\n",
    "#                             ]),\n",
    "#                 transformer = PowerTransformer(method='yeo-johnson')\n",
    "# )\n",
    "\n",
    "# model_target.fit(X_train, y_train)\n",
    "# y_pred = model_target.predict(X_test)\n",
    "\n",
    "# mse = mean_squared_error(y_test, y_pred)\n",
    "# print(f\"Mean Squared Error (MSE): {mse:.2f}\")\n",
    "# print(irq_mse(y_test, y_pred))"
   ]
  },
  {
   "cell_type": "code",
   "execution_count": 58,
   "metadata": {},
   "outputs": [],
   "source": [
    "# наравне с ридж изначальной - 3,3 млн\n",
    "\n",
    "# model_target =  TransformedTargetRegressor(\n",
    "#                 regressor = Pipeline(steps=[\n",
    "#                                 ('preproc', CT),\n",
    "#                                 ('estimator', RANSACRegressor())\n",
    "#                             ]),\n",
    "#                 transformer = PowerTransformer(method='yeo-johnson')\n",
    "# )\n",
    "\n",
    "# model_target.fit(X_train, y_train)\n",
    "# y_pred = model_target.predict(X_test)\n",
    "\n",
    "# mse = mean_squared_error(y_test, y_pred)\n",
    "# print(f\"Mean Squared Error (MSE): {mse:.2f}\")\n",
    "# print(irq_mse(y_test, y_pred))"
   ]
  },
  {
   "cell_type": "code",
   "execution_count": 59,
   "metadata": {},
   "outputs": [],
   "source": [
    "\n",
    "# Плохо но надо настраивать гиперпараметры\n",
    "\n",
    "# model_target =  TransformedTargetRegressor(\n",
    "#                 regressor = Pipeline(steps=[\n",
    "#                                 ('preproc', CT),\n",
    "#                                 ('estimator', SGDRegressor())\n",
    "#                             ]),\n",
    "#                 transformer = PowerTransformer(method='yeo-johnson')\n",
    "# )\n",
    "\n",
    "# model_target.fit(X_train, y_train)\n",
    "# y_pred = model_target.predict(X_test)\n",
    "\n",
    "# mse = mean_squared_error(y_test, y_pred)\n",
    "# print(f\"Mean Squared Error (MSE): {mse:.2f}\")\n",
    "# print(irq_mse(y_test, y_pred))"
   ]
  },
  {
   "cell_type": "code",
   "execution_count": 60,
   "metadata": {},
   "outputs": [],
   "source": [
    "# намного лучше чем лассо и ларс по отдельности\n",
    "# но все равно плохо 3,4 млн\n",
    "\n",
    "# model_target =  TransformedTargetRegressor(\n",
    "#                 regressor = Pipeline(steps=[\n",
    "#                                 ('preproc', CT),\n",
    "#                                 ('estimator', LassoLarsCV())\n",
    "#                             ]),\n",
    "#                 transformer = PowerTransformer(method='yeo-johnson')\n",
    "# )\n",
    "\n",
    "# model_target.fit(X_train, y_train)\n",
    "# y_pred = model_target.predict(X_test)\n",
    "\n",
    "# mse = mean_squared_error(y_test, y_pred)\n",
    "# print(f\"Mean Squared Error (MSE): {mse:.2f}\")\n",
    "# print(irq_mse(y_test, y_pred))"
   ]
  },
  {
   "cell_type": "code",
   "execution_count": 61,
   "metadata": {},
   "outputs": [],
   "source": [
    "# Очень плохо -10млн\n",
    "\n",
    "# model_target =  TransformedTargetRegressor(\n",
    "#                 regressor = Pipeline(steps=[\n",
    "#                                 ('preproc', CT),\n",
    "#                                 ('estimator', OrthogonalMatchingPursuitCV())\n",
    "#                             ]),\n",
    "#                 transformer = PowerTransformer(method='yeo-johnson')\n",
    "# )\n",
    "\n",
    "# model_target.fit(X_train, y_train)\n",
    "# y_pred = model_target.predict(X_test)\n",
    "\n",
    "# mse = mean_squared_error(y_test, y_pred)\n",
    "# print(f\"Mean Squared Error (MSE): {mse:.2f}\")\n",
    "# print(irq_mse(y_test, y_pred))"
   ]
  },
  {
   "cell_type": "code",
   "execution_count": 62,
   "metadata": {},
   "outputs": [],
   "source": [
    "# Чуть лучше нежели обычная Ridge\n",
    "\n",
    "# model_target =  TransformedTargetRegressor(\n",
    "#                 regressor = Pipeline(steps=[\n",
    "#                                 ('preproc', CT),\n",
    "#                                 ('estimator', RidgeCV())\n",
    "#                             ]),\n",
    "#                 transformer = PowerTransformer(method='yeo-johnson')\n",
    "# )\n",
    "\n",
    "# model_target.fit(X_train, y_train)\n",
    "# y_pred = model_target.predict(X_test)\n",
    "\n",
    "# mse = mean_squared_error(y_test, y_pred)\n",
    "# print(f\"Mean Squared Error (MSE): {mse:.2f}\")\n",
    "# print(irq_mse(y_test, y_pred))"
   ]
  },
  {
   "cell_type": "code",
   "execution_count": 63,
   "metadata": {},
   "outputs": [],
   "source": [
    "# Тоже не лучше чем ридж обычная\n",
    "\n",
    "# model_target =  TransformedTargetRegressor(\n",
    "#                 regressor = Pipeline(steps=[\n",
    "#                                 ('preproc', CT),\n",
    "#                                 ('estimator', HuberRegressor(max_iter=100000))\n",
    "#                             ]),\n",
    "#                 transformer = PowerTransformer(method='yeo-johnson')\n",
    "# )\n",
    "\n",
    "# model_target.fit(X_train, y_train)\n",
    "# y_pred = model_target.predict(X_test)\n",
    "\n",
    "# mse = mean_squared_error(y_test, y_pred)\n",
    "# print(f\"Mean Squared Error (MSE): {mse:.2f}\")\n",
    "# print(irq_mse(y_test, y_pred))"
   ]
  },
  {
   "cell_type": "code",
   "execution_count": 64,
   "metadata": {},
   "outputs": [],
   "source": [
    "# тоже плохо плохо\n",
    "\n",
    "# model_target =  TransformedTargetRegressor(\n",
    "#                 regressor = Pipeline(steps=[\n",
    "#                                 ('preproc', CT),\n",
    "#                                 ('estimator', TheilSenRegressor(max_iter=100000))\n",
    "#                             ]),\n",
    "#                 transformer = PowerTransformer(method='yeo-johnson')\n",
    "# )\n",
    "\n",
    "# model_target.fit(X_train, y_train)\n",
    "# y_pred = model_target.predict(X_test)\n",
    "\n",
    "# mse = mean_squared_error(y_test, y_pred)\n",
    "# print(f\"Mean Squared Error (MSE): {mse:.2f}\")\n",
    "# print(irq_mse(y_test, y_pred))"
   ]
  },
  {
   "cell_type": "code",
   "execution_count": 65,
   "metadata": {},
   "outputs": [],
   "source": [
    "# тоже слишком плохо...\n",
    "\n",
    "# model_target =  TransformedTargetRegressor(\n",
    "#                 regressor = Pipeline(steps=[\n",
    "#                                 ('preproc', CT),\n",
    "#                                 ('estimator', PassiveAggressiveRegressor())\n",
    "#                             ]),\n",
    "#                 transformer = PowerTransformer(method='yeo-johnson')\n",
    "# )\n",
    "\n",
    "# model_target.fit(X_train, y_train)\n",
    "# y_pred = model_target.predict(X_test)\n",
    "\n",
    "# mse = mean_squared_error(y_test, y_pred)\n",
    "# print(f\"Mean Squared Error (MSE): {mse:.2f}\")\n",
    "# print(irq_mse(y_test, y_pred))"
   ]
  },
  {
   "cell_type": "code",
   "execution_count": null,
   "metadata": {},
   "outputs": [],
   "source": []
  },
  {
   "cell_type": "markdown",
   "metadata": {},
   "source": [
    "## Попробуем хорошо затюнить SVC"
   ]
  },
  {
   "cell_type": "code",
   "execution_count": 66,
   "metadata": {},
   "outputs": [],
   "source": [
    "# cat_features = ['cut', 'color', 'clarity']\n",
    "# axis_features = ['x', 'y', 'z']\n",
    "# num_features = ['carat', 'depth', 'table']\n",
    "\n",
    "# axis_transformer = Pipeline(steps=[\n",
    "#     ('missing_num', IterativeImputer(missing_values=np.nan, max_iter=20)),\n",
    "#     ('polynom', PolynomialFeatures(2, include_bias=False)),  # Поставить True, если модель не имеет свободного члена\n",
    "#     ('scaler', RobustScaler())  # Это место будет заменяться скейлерами через GridSearchCV\n",
    "# ])\n",
    "\n",
    "# # Пайплайн для числовых признаков\n",
    "# num = Pipeline(steps=[\n",
    "#     ('missing_num', IterativeImputer(missing_values=np.nan, max_iter=20)),\n",
    "#     ('scaler', RobustScaler())  # Здесь также заменяется скейлер\n",
    "# ])\n",
    "\n",
    "# # Пайплайн для категориальных признаков\n",
    "# cat = Pipeline(steps=[\n",
    "#     ('imputer', SimpleImputer(strategy='most_frequent')),  # Заполнение пропусков наиболее частым значением\n",
    "#     ('onehot', OneHotEncoder(sparse_output=False))  # Кодирование категориальных переменных\n",
    "# ])\n",
    "\n",
    "# # Объединение всех трансформеров в ColumnTransformer\n",
    "# CT = ColumnTransformer([\n",
    "#     (\"axis_transformer\", axis_transformer, axis_features),\n",
    "#     (\"num\", num, num_features),\n",
    "#     (\"cat\", cat, cat_features)\n",
    "# ]).set_output(transform='pandas')\n",
    "# display(CT)\n"
   ]
  },
  {
   "cell_type": "code",
   "execution_count": 67,
   "metadata": {},
   "outputs": [],
   "source": [
    "# model_target =  TransformedTargetRegressor(\n",
    "#                 regressor = Pipeline(steps=[\n",
    "#                                 ('preproc', CT),\n",
    "#                                 ('estimator', SVR())\n",
    "#                             ]),\n",
    "#                 # transformer = QuantileTransformer()\n",
    "#                 transformer = PowerTransformer(method='yeo-johnson')\n",
    "#                 # transformer =  PowerTransformer(method='box-cox')               \n",
    "# )\n",
    "# model_target.fit(X_train, y_train)\n",
    "# y_pred = model_target.predict(X_test)\n",
    "\n",
    "# mse = mean_squared_error(y_test, y_pred)\n",
    "# print(f\"Mean Squared Error (MSE): {mse:.2f}\")\n",
    "# print(irq_mse(y_test, y_pred))"
   ]
  },
  {
   "cell_type": "code",
   "execution_count": 68,
   "metadata": {
    "scrolled": true
   },
   "outputs": [],
   "source": [
    "# param_grid = {\n",
    "#     # Параметры для axis_transformer\n",
    "#     'regressor__preproc__axis_transformer__polynom__degree': [2, 3],\n",
    "#     'regressor__preproc__axis_transformer__scaler': [RobustScaler(), StandardScaler(), MinMaxScaler()],\n",
    "    \n",
    "#     # Параметры для числовых признаков\n",
    "#     'regressor__preproc__num__scaler': [RobustScaler(), StandardScaler(), MinMaxScaler()],\n",
    "   \n",
    "#     # Параметры для SVR (основной модели)\n",
    "#     'regressor__estimator__kernel': ['linear', 'poly', 'rbf', 'sigmoid'],\n",
    "#     'regressor__estimator__C': [0.1, 1, 10, 100, 1000],\n",
    "#     'regressor__estimator__gamma': ['scale', 'auto'],\n",
    "    \n",
    "#     # Параметры для трансформера целевой переменной\n",
    "#     'transformer': [PowerTransformer(method='yeo-johnson'), PowerTransformer(method='box-cox')]\n",
    "# }\n",
    "\n",
    "# # Определение RandomizedSearchCV\n",
    "# random_search = RandomizedSearchCV(\n",
    "#     estimator=model_target,\n",
    "#     param_distributions=param_grid,  # Используем param_distributions вместо param_grid\n",
    "#     n_iter=1,                       # Количество случайных комбинаций для проверки (настраивается)\n",
    "#     cv=4,                            # Количество фолдов для кросс-валидации\n",
    "#     scoring=score_irq_mse, # Используем свою метрику\n",
    "#     verbose=2,\n",
    "#     n_jobs=-1,\n",
    "#     random_state=42,                 # Фиксируем seed для воспроизводимости\n",
    "# )\n",
    "\n",
    "# # Запуск случайного поиска\n",
    "# random_search.fit(X_train, y_train)\n",
    "# print(f\"Лучшие параметры: {random_search.best_params_}\")\n",
    "# print(f\"Лучшее значение MSE: {random_search.best_score_:.2f}\")\n",
    "\n"
   ]
  },
  {
   "cell_type": "code",
   "execution_count": null,
   "metadata": {},
   "outputs": [],
   "source": []
  },
  {
   "cell_type": "code",
   "execution_count": null,
   "metadata": {},
   "outputs": [],
   "source": []
  },
  {
   "cell_type": "code",
   "execution_count": null,
   "metadata": {},
   "outputs": [],
   "source": []
  },
  {
   "cell_type": "markdown",
   "metadata": {
    "jp-MarkdownHeadingCollapsed": true
   },
   "source": [
    "## Логарифмирование целевой переменной"
   ]
  },
  {
   "cell_type": "code",
   "execution_count": 69,
   "metadata": {},
   "outputs": [],
   "source": [
    "# y_train_transformed = np.log1p(y_train)  # Применяем логарифмическую трансформацию к целевой переменной\n",
    "# y_test_transformed = np.log1p(y_test)"
   ]
  },
  {
   "cell_type": "code",
   "execution_count": 70,
   "metadata": {},
   "outputs": [],
   "source": [
    "# # model_target =  TransformedTargetRegressor(\n",
    "# #                 regressor = Pipeline(steps=[\n",
    "# #                                 ('preproc', CT),\n",
    "# #                                 ('estimator', SVR())\n",
    "# #                             ]),\n",
    "# #                 # transformer = QuantileTransformer()\n",
    "# #                 transformer = PowerTransformer(method='yeo-johnson')\n",
    "# #                 # transformer =  PowerTransformer(method='box-cox')               \n",
    "# # )\n",
    "# model_target = Pipeline(steps=[\n",
    "#                                 ('preproc', CT),\n",
    "#                                 ('estimator', SVR())\n",
    "#                             ])\n",
    "\n",
    "# model_target.fit(X_train, y_train_transformed)\n",
    "# y_pred_log = model_target.predict(X_test)\n",
    "# y_pred = np.expm1(y_pred_log)  # Обратная трансформация\n",
    "\n",
    "# mse = mean_squared_error(y_test_transformed, y_pred)\n",
    "# print(f\"Mean Squared Error (MSE): {mse:.2f}\")\n",
    "# print(irq_mse(y_test, y_pred))"
   ]
  },
  {
   "cell_type": "code",
   "execution_count": 71,
   "metadata": {},
   "outputs": [],
   "source": [
    "# sns.histplot(y_train_transformed, kde=True)\n",
    "# plt.title('Распределение цены после логарифмической трансформации')\n",
    "# plt.show()"
   ]
  },
  {
   "cell_type": "markdown",
   "metadata": {},
   "source": [
    "## Поли фичи 3 (особой разницы нет) / все фичи в axis (-2,4 млн) / carat, depth, table в axis и xyz в num (-2,6 млн)"
   ]
  },
  {
   "cell_type": "code",
   "execution_count": 72,
   "metadata": {},
   "outputs": [],
   "source": [
    "# cat_features = ['cut', 'color', 'clarity']\n",
    "# axis_features = ['x', 'y', 'z', 'carat']\n",
    "# num_features = ['table', 'depth']\n",
    "\n",
    "# axis_transformer = Pipeline(steps=[\n",
    "#     ('missing_num', IterativeImputer(missing_values=np.nan, max_iter=20)),\n",
    "#     ('polynom', PolynomialFeatures(2, include_bias=False)),  # Поставить True, если модель не имеет свободного члена\n",
    "#     ('scaler', RobustScaler())  # Это место будет заменяться скейлерами через GridSearchCV\n",
    "# ])\n",
    "\n",
    "# Пайплайн для числовых признаков\n",
    "# num = Pipeline(steps=[\n",
    "#     ('missing_num', IterativeImputer(missing_values=np.nan, max_iter=20)),\n",
    "#     ('scaler', RobustScaler())  # Здесь также заменяется скейлер\n",
    "# ])\n",
    "\n",
    "# # Пайплайн для категориальных признаков\n",
    "# cat = Pipeline(steps=[\n",
    "#     ('imputer', SimpleImputer(strategy='most_frequent')),  # Заполнение пропусков наиболее частым значением\n",
    "#     ('onehot', OneHotEncoder(sparse_output=False))  # Кодирование категориальных переменных\n",
    "# ])\n",
    "\n",
    "# # Объединение всех трансформеров в ColumnTransformer\n",
    "# CT = ColumnTransformer([\n",
    "#     (\"axis_transformer\", axis_transformer, axis_features),\n",
    "#     (\"num\", num, num_features),\n",
    "#     (\"cat\", cat, cat_features)\n",
    "# ]).set_output(transform='pandas')\n",
    "# display(CT)\n"
   ]
  },
  {
   "cell_type": "code",
   "execution_count": 73,
   "metadata": {},
   "outputs": [],
   "source": [
    "# model_target =  TransformedTargetRegressor(\n",
    "#                 regressor = Pipeline(steps=[\n",
    "#                                 ('preproc', CT),\n",
    "#                                 ('estimator', SVR())\n",
    "#                             ]),\n",
    "#                 # transformer = QuantileTransformer()\n",
    "#                 transformer = PowerTransformer(method='yeo-johnson')\n",
    "#                 # transformer =  PowerTransformer(method='box-cox')               \n",
    "# )\n",
    "# model_target.fit(X_train, y_train)\n",
    "# y_pred = model_target.predict(X_test)\n",
    "\n",
    "# mse = mean_squared_error(y_test, y_pred)\n",
    "# print(f\"Mean Squared Error (MSE): {mse:.2f}\")\n",
    "# print(irq_mse(y_test, y_pred))"
   ]
  },
  {
   "cell_type": "markdown",
   "metadata": {},
   "source": [
    "**Добавление carat в axis помогло стабилизировать метрику + теперь метрика находится в пределах 1,7-1,8млн \\\n",
    "Такой же эксперимент с table и depth не прокатил \\\n",
    "При этом такая метрика вылетает только если не использовать Robust на num, что весьма странно**"
   ]
  },
  {
   "cell_type": "code",
   "execution_count": null,
   "metadata": {},
   "outputs": [],
   "source": []
  },
  {
   "cell_type": "code",
   "execution_count": null,
   "metadata": {},
   "outputs": [],
   "source": []
  },
  {
   "cell_type": "markdown",
   "metadata": {
    "jp-MarkdownHeadingCollapsed": true
   },
   "source": [
    "## Отбор признаков через SelectKBest"
   ]
  },
  {
   "cell_type": "markdown",
   "metadata": {},
   "source": [
    "**всего признаков 36**"
   ]
  },
  {
   "cell_type": "code",
   "execution_count": 74,
   "metadata": {},
   "outputs": [],
   "source": [
    "# cat_features = ['cut', 'color', 'clarity']\n",
    "# axis_features = ['x', 'y', 'z', 'carat']\n",
    "# num_features = ['depth', 'table']\n",
    "\n",
    "# axis_transformer = Pipeline(steps=[\n",
    "#     ('missing_num', IterativeImputer(missing_values=np.nan, max_iter=20)),\n",
    "#     ('polynom', PolynomialFeatures(2, include_bias=False)),\n",
    "#     ('scaler', RobustScaler())\n",
    "# ])\n",
    "\n",
    "# num = Pipeline(steps=[\n",
    "#     ('missing_num', IterativeImputer(missing_values=np.nan, max_iter=20)),\n",
    "#     ('scaler', RobustScaler())\n",
    "# ])\n",
    "\n",
    "# cat = Pipeline(steps=[\n",
    "#     ('imputer', SimpleImputer(strategy='most_frequent')),\n",
    "#     ('onehot', OneHotEncoder(sparse_output=False, handle_unknown='ignore'))\n",
    "# ])\n",
    "\n",
    "# CT = ColumnTransformer([\n",
    "#     (\"axis_transformer\", axis_transformer, axis_features),\n",
    "#     (\"num\", num, num_features),\n",
    "#     (\"cat\", cat, cat_features)\n",
    "# ]).set_output(transform='pandas')\n",
    "\n",
    "# pipeline = Pipeline(steps=[\n",
    "#     ('preproc', CT),\n",
    "#     ('feature_selection', SelectKBest(score_func=f_regression, k=35)),  # Настройте k под ваши данные\n",
    "#     ('estimator', SVR())\n",
    "# ])\n",
    "\n",
    "# model_target = TransformedTargetRegressor(\n",
    "#     regressor=pipeline,\n",
    "#     transformer=PowerTransformer(method='yeo-johnson')\n",
    "# )\n",
    "\n",
    "# display(model_target)"
   ]
  },
  {
   "cell_type": "code",
   "execution_count": 75,
   "metadata": {},
   "outputs": [],
   "source": [
    "# # Обучение модели\n",
    "# model_target.fit(X_train, y_train)\n",
    "# y_pred = model_target.predict(X_test)\n",
    "\n",
    "# # Оценка модели по вашей метрике\n",
    "# print(irq_mse(y_test, y_pred))\n",
    "\n",
    "# # Получение отобранных признаков\n",
    "# feature_names = model_target.regressor_['preproc'].get_feature_names_out()\n",
    "# mask = model_target.regressor_['feature_selection'].get_support()\n",
    "# selected_features = feature_names[mask]\n",
    "# print(\"Выбранные признаки:\", selected_features)"
   ]
  },
  {
   "cell_type": "code",
   "execution_count": null,
   "metadata": {},
   "outputs": [],
   "source": []
  },
  {
   "cell_type": "markdown",
   "metadata": {},
   "source": [
    "**Позволяет при отборе 35 признаков стабильно держать метрику на уровне 1,8-1,875 ляма без настройки гиперпаарметров**"
   ]
  },
  {
   "cell_type": "code",
   "execution_count": null,
   "metadata": {},
   "outputs": [],
   "source": []
  },
  {
   "cell_type": "markdown",
   "metadata": {},
   "source": [
    "## Проверка теории комментирования num и подбора k в SelectKBest"
   ]
  },
  {
   "cell_type": "code",
   "execution_count": 76,
   "metadata": {},
   "outputs": [],
   "source": [
    "# cat_features = ['cut', 'color', 'clarity']\n",
    "# axis_features = ['x', 'y', 'z', 'carat']\n",
    "# num_features = ['depth', 'table']\n",
    "\n",
    "# axis_transformer = Pipeline(steps=[\n",
    "#     ('missing_num', IterativeImputer(missing_values=np.nan, max_iter=20)),\n",
    "#     ('polynom', PolynomialFeatures(2, include_bias=False)),\n",
    "#     ('scaler', RobustScaler())\n",
    "# ])\n",
    "\n",
    "# # num = Pipeline(steps=[\n",
    "# #     ('missing_num', IterativeImputer(missing_values=np.nan, max_iter=20)),\n",
    "# #     ('scaler', RobustScaler())\n",
    "# # ])\n",
    "\n",
    "# cat = Pipeline(steps=[\n",
    "#     ('imputer', SimpleImputer(strategy='most_frequent')),\n",
    "#     ('onehot', OneHotEncoder(sparse_output=False, handle_unknown='ignore'))\n",
    "# ])\n",
    "\n",
    "# CT = ColumnTransformer([\n",
    "#     (\"axis_transformer\", axis_transformer, axis_features),\n",
    "#     # (\"num\", num, num_features),\n",
    "#     (\"cat\", cat, cat_features)\n",
    "# ]).set_output(transform='pandas')\n",
    "\n",
    "# pipeline = Pipeline(steps=[\n",
    "#     ('preproc', CT),\n",
    "#     ('feature_selection', SelectKBest(score_func=f_regression, k='all')),  # Настройте k под ваши данные\n",
    "#     ('estimator', SVR())\n",
    "# ])\n",
    "\n",
    "# model_target = TransformedTargetRegressor(\n",
    "#     regressor=pipeline,\n",
    "#     transformer=PowerTransformer(method='yeo-johnson')\n",
    "# )\n",
    "\n",
    "# display(model_target)"
   ]
  },
  {
   "cell_type": "code",
   "execution_count": 77,
   "metadata": {},
   "outputs": [],
   "source": [
    "# # Обучение модели\n",
    "# model_target.fit(X_train, y_train)\n",
    "# y_pred = model_target.predict(X_test)\n",
    "\n",
    "# # Оценка модели по вашей метрике\n",
    "# print(irq_mse(y_test, y_pred))\n",
    "\n",
    "# # Получение отобранных признаков\n",
    "# feature_names = model_target.regressor_['preproc'].get_feature_names_out()\n",
    "# mask = model_target.regressor_['feature_selection'].get_support()\n",
    "# selected_features = feature_names[mask]\n",
    "# print(\"Выбранные признаки:\", selected_features)"
   ]
  },
  {
   "cell_type": "code",
   "execution_count": null,
   "metadata": {},
   "outputs": [],
   "source": []
  },
  {
   "cell_type": "markdown",
   "metadata": {},
   "source": [
    "**Не очень понятно почему, но в среднем действительно на 30-50 тысяч метрика лучше либо где то 1,82 ляма получается стабильно**"
   ]
  },
  {
   "cell_type": "code",
   "execution_count": null,
   "metadata": {},
   "outputs": [],
   "source": []
  },
  {
   "cell_type": "code",
   "execution_count": null,
   "metadata": {},
   "outputs": [],
   "source": []
  },
  {
   "cell_type": "markdown",
   "metadata": {},
   "source": [
    "## Перебор параметров"
   ]
  },
  {
   "cell_type": "code",
   "execution_count": 78,
   "metadata": {},
   "outputs": [],
   "source": [
    "# cat_features = ['cut', 'color', 'clarity']\n",
    "# axis_features = ['x', 'y', 'z', 'carat']\n",
    "# num_features = ['depth', 'table']\n",
    "\n",
    "# axis_transformer = Pipeline(steps=[\n",
    "#     ('missing_num', IterativeImputer(missing_values=np.nan, max_iter=20)),\n",
    "#     ('polynom', PolynomialFeatures(2, include_bias=False)),\n",
    "#     ('scaler', RobustScaler())\n",
    "# ])\n",
    "\n",
    "# num = Pipeline(steps=[\n",
    "#     ('missing_num', IterativeImputer(missing_values=np.nan, max_iter=20)),\n",
    "#     ('scaler', RobustScaler())\n",
    "# ])\n",
    "\n",
    "# cat = Pipeline(steps=[\n",
    "#     ('imputer', SimpleImputer(strategy='most_frequent')),\n",
    "#     ('onehot', OneHotEncoder(sparse_output=False, handle_unknown='ignore'))\n",
    "# ])\n",
    "\n",
    "# CT = ColumnTransformer([\n",
    "#     (\"axis_transformer\", axis_transformer, axis_features),\n",
    "#     (\"num\", num, num_features),\n",
    "#     (\"cat\", cat, cat_features)\n",
    "# ]).set_output(transform='pandas')\n",
    "\n",
    "# pipeline = Pipeline(steps=[\n",
    "#     ('preproc', CT),\n",
    "#     ('feature_selection', SelectKBest(score_func=f_regression, k=35)),  # Настройте k под ваши данные\n",
    "#     ('estimator', SVR())\n",
    "# ])\n",
    "\n",
    "# model_target = TransformedTargetRegressor(\n",
    "#     regressor=pipeline,\n",
    "#     transformer=PowerTransformer(method='yeo-johnson')\n",
    "# )\n",
    "\n",
    "# display(model_target)"
   ]
  },
  {
   "cell_type": "code",
   "execution_count": 79,
   "metadata": {},
   "outputs": [],
   "source": [
    "# # Обучение модели\n",
    "# model_target.fit(X_train, y_train)\n",
    "# y_pred = model_target.predict(X_test)\n",
    "\n",
    "# # Оценка модели по вашей метрике\n",
    "# print(irq_mse(y_test, y_pred))\n",
    "\n",
    "# # Получение отобранных признаков\n",
    "# feature_names = model_target.regressor_['preproc'].get_feature_names_out()\n",
    "# mask = model_target.regressor_['feature_selection'].get_support()\n",
    "# selected_features = feature_names[mask]\n",
    "# print(\"Выбранные признаки:\", selected_features)"
   ]
  },
  {
   "cell_type": "code",
   "execution_count": 80,
   "metadata": {},
   "outputs": [],
   "source": [
    "# param_grid = {\n",
    "#     # Параметры для axis_transformer\n",
    "#     'regressor__preproc__axis_transformer__polynom__degree': [2],\n",
    "#     'regressor__preproc__axis_transformer__scaler': [RobustScaler(), StandardScaler(), MinMaxScaler()],\n",
    "    \n",
    "#     # Параметры для числовых признаков\n",
    "#     'regressor__preproc__num__scaler': [RobustScaler(), StandardScaler(), MinMaxScaler()],\n",
    "   \n",
    "#     # Параметры для SVR (основной модели)\n",
    "#     'regressor__estimator__kernel': ['linear', 'poly', 'rbf', 'sigmoid'],\n",
    "#     'regressor__estimator__C': [10, 100, 1000],\n",
    "#     'regressor__estimator__gamma': ['scale', 'auto'],\n",
    "    \n",
    "#     # Параметры для трансформера целевой переменной\n",
    "#     'transformer': [PowerTransformer(method='yeo-johnson'), PowerTransformer(method='box-cox')]\n",
    "# }\n",
    "\n",
    "# random_search = RandomizedSearchCV(\n",
    "#     estimator=model_target,\n",
    "#     param_distributions=param_grid,  # Используем param_distributions вместо param_grid\n",
    "#     n_iter=10,                       # Количество случайных комбинаций для проверки (настраивается)\n",
    "#     cv=4,                            # Количество фолдов для кросс-валидации\n",
    "#     scoring=score_irq_mse, # Используем свою метрику\n",
    "#     verbose=2,\n",
    "#     n_jobs=-1,\n",
    "#     random_state=42,                 # Фиксируем seed для воспроизводимости\n",
    "# )\n",
    "\n",
    "# # Запуск случайного поиска\n",
    "# random_search.fit(X_train, y_train)\n",
    "\n",
    "# grid_results = pd.DataFrame(grid.cv_results_)\n",
    "# display(grid_results.sort_values(['rank_test_score']).T)"
   ]
  },
  {
   "cell_type": "code",
   "execution_count": 81,
   "metadata": {},
   "outputs": [],
   "source": [
    "# print(f\"Лучшие параметры: {random_search.best_params_}\")"
   ]
  },
  {
   "cell_type": "code",
   "execution_count": null,
   "metadata": {},
   "outputs": [],
   "source": []
  },
  {
   "cell_type": "markdown",
   "metadata": {},
   "source": [
    "## Выборочно подбираю параметры"
   ]
  },
  {
   "cell_type": "markdown",
   "metadata": {},
   "source": [
    "**Выберу rbf ядро, тк оно сможет учесть нелийненые зависимости**"
   ]
  },
  {
   "cell_type": "code",
   "execution_count": 82,
   "metadata": {},
   "outputs": [],
   "source": [
    "# X = df.drop('price', axis=1)\n",
    "# y = df['price']"
   ]
  },
  {
   "cell_type": "code",
   "execution_count": 83,
   "metadata": {},
   "outputs": [],
   "source": [
    "# X_train, X_test, y_train, y_test = train_test_split(X, y, test_size=0.3)"
   ]
  },
  {
   "cell_type": "code",
   "execution_count": 1,
   "metadata": {},
   "outputs": [],
   "source": [
    "# -2367721.2999663167\n",
    "\n",
    "\n",
    "# cat_features = ['cut', 'color', 'clarity']\n",
    "# axis_features = ['x', 'y', 'z', 'carat']\n",
    "# num_features = ['depth', 'table']\n",
    "\n",
    "# axis_transformer = Pipeline(steps=[\n",
    "#     ('missing_num', IterativeImputer(missing_values=np.nan, initial_strategy='mean')),\n",
    "#     ('polynom', PolynomialFeatures(2, include_bias=False)),\n",
    "#     ('scaler', RobustScaler())\n",
    "# ])\n",
    "\n",
    "# num = Pipeline(steps=[\n",
    "#     ('missing_num', IterativeImputer(missing_values=np.nan, initial_strategy='mean')),\n",
    "#     ('scaler', RobustScaler())\n",
    "# ])\n",
    "\n",
    "# cat = Pipeline(steps=[\n",
    "#     ('imputer', SimpleImputer(strategy='most_frequent')),\n",
    "#     ('onehot', OneHotEncoder(sparse_output=False, handle_unknown='ignore'))\n",
    "# ])\n",
    "\n",
    "# CT = ColumnTransformer([\n",
    "#     (\"axis_transformer\", axis_transformer, axis_features),\n",
    "#     (\"num\", num, num_features),\n",
    "#     (\"cat\", cat, cat_features)\n",
    "# ]).set_output(transform='pandas')\n",
    "\n",
    "# pipeline = Pipeline(steps=[\n",
    "#     ('preproc', CT),\n",
    "#     ('feature_selection', SelectKBest(score_func=f_regression, k=35)),  # Настройте k при необходимости\n",
    "#     ('estimator', SVR(kernel='rbf', epsilon=0.1, gamma='scale', C=100))\n",
    "# ])\n",
    "\n",
    "# model_target = TransformedTargetRegressor(\n",
    "#     regressor=pipeline,\n",
    "#     transformer=PowerTransformer(method='yeo-johnson')\n",
    "# )\n",
    "\n",
    "# display(model_target)"
   ]
  },
  {
   "cell_type": "code",
   "execution_count": 85,
   "metadata": {},
   "outputs": [
    {
     "name": "stderr",
     "output_type": "stream",
     "text": [
      "C:\\ProgramData\\anaconda3\\Lib\\site-packages\\sklearn\\impute\\_iterative.py:785: ConvergenceWarning: [IterativeImputer] Early stopping criterion not reached.\n",
      "  warnings.warn(\n"
     ]
    },
    {
     "name": "stdout",
     "output_type": "stream",
     "text": [
      "-2367721.2999663167\n"
     ]
    }
   ],
   "source": [
    "# model_target.fit(X_train, y_train)\n",
    "# y_pred = model_target.predict(X_test)\n",
    "\n",
    "# # Оценка модели по вашей метрике\n",
    "# print(irq_mse(y_test, y_pred))"
   ]
  },
  {
   "cell_type": "code",
   "execution_count": null,
   "metadata": {},
   "outputs": [],
   "source": []
  },
  {
   "cell_type": "markdown",
   "metadata": {},
   "source": [
    "## Какие значения есть в test ? "
   ]
  },
  {
   "cell_type": "code",
   "execution_count": 4,
   "metadata": {},
   "outputs": [],
   "source": [
    "# см тюн моделс"
   ]
  },
  {
   "cell_type": "code",
   "execution_count": null,
   "metadata": {},
   "outputs": [],
   "source": []
  }
 ],
 "metadata": {
  "kernelspec": {
   "display_name": "Python 3 (ipykernel)",
   "language": "python",
   "name": "python3"
  },
  "language_info": {
   "codemirror_mode": {
    "name": "ipython",
    "version": 3
   },
   "file_extension": ".py",
   "mimetype": "text/x-python",
   "name": "python",
   "nbconvert_exporter": "python",
   "pygments_lexer": "ipython3",
   "version": "3.12.4"
  }
 },
 "nbformat": 4,
 "nbformat_minor": 4
}
