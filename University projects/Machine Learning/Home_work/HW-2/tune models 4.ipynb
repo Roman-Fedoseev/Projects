{
 "cells": [
  {
   "cell_type": "code",
   "execution_count": 1,
   "id": "321c0fe3-9a94-48c8-892f-22f7b87373b5",
   "metadata": {},
   "outputs": [],
   "source": [
    "import numpy as np\n",
    "import pandas as pd\n",
    "import matplotlib.pyplot as plt\n",
    "import seaborn as sns\n",
    "from IPython.display import display\n",
    "from collections import Counter\n",
    "import matplotlib.colors as mcolors\n",
    "\n",
    "from sklearn.experimental import enable_iterative_imputer\n",
    "from sklearn.pipeline import Pipeline, make_pipeline\n",
    "from sklearn.preprocessing import (MinMaxScaler, StandardScaler, RobustScaler, Normalizer, PolynomialFeatures, \n",
    "                                   OneHotEncoder, OrdinalEncoder, LabelEncoder, QuantileTransformer, PowerTransformer)\n",
    "from sklearn.model_selection import (train_test_split, cross_val_score, GridSearchCV, KFold, StratifiedKFold, \n",
    "                                     StratifiedShuffleSplit, RepeatedStratifiedKFold, validation_curve, \n",
    "                                     cross_validate, RandomizedSearchCV)\n",
    "from sklearn.linear_model import (LogisticRegression, Ridge, Lasso, ElasticNet, BayesianRidge, LinearRegression)\n",
    "from sklearn.neighbors import (KNeighborsClassifier, KNeighborsRegressor)\n",
    "from sklearn.naive_bayes import GaussianNB\n",
    "from sklearn.svm import SVC, SVR\n",
    "from sklearn.impute import (SimpleImputer, IterativeImputer, KNNImputer)\n",
    "from sklearn.compose import (ColumnTransformer, make_column_transformer, TransformedTargetRegressor)\n",
    "from sklearn.metrics import (accuracy_score, precision_score, recall_score, make_scorer, f1_score, \n",
    "                             classification_report, confusion_matrix, roc_curve, precision_recall_curve, \n",
    "                             RocCurveDisplay, PrecisionRecallDisplay, ConfusionMatrixDisplay, \n",
    "                             balanced_accuracy_score, average_precision_score, mean_absolute_percentage_error, \n",
    "                             mean_squared_error, r2_score)\n",
    "from sklearn.gaussian_process import GaussianProcessRegressor\n",
    "from sklearn.feature_selection import (SelectKBest, f_regression)\n",
    "from sklearn.feature_selection import SelectKBest, mutual_info_regression\n",
    "from sklearn.feature_selection import SelectFromModel\n"
   ]
  },
  {
   "cell_type": "code",
   "execution_count": 2,
   "id": "aa43f1b4-c25b-4188-a3ae-ba23a068ebec",
   "metadata": {},
   "outputs": [],
   "source": [
    "path_train = 'train.csv'"
   ]
  },
  {
   "cell_type": "code",
   "execution_count": 3,
   "id": "5511640c-761c-427c-bac7-b4ec30da0a58",
   "metadata": {},
   "outputs": [],
   "source": [
    "df = pd.read_csv(path_train)"
   ]
  },
  {
   "cell_type": "code",
   "execution_count": 4,
   "id": "018b075a-3044-4642-a1ee-961e0e5b32b6",
   "metadata": {},
   "outputs": [],
   "source": [
    "df.duplicated().sum() # Колво дубликатов\n",
    "df = df.drop_duplicates()"
   ]
  },
  {
   "cell_type": "code",
   "execution_count": 5,
   "id": "faab1e5e-01a1-4ffc-a433-475cb6e3f444",
   "metadata": {},
   "outputs": [],
   "source": [
    "df.loc[df['x'] <= 0, 'x'] = np.nan\n",
    "df.loc[df['y'] <= 0, 'y'] = np.nan\n",
    "df.loc[df['z'] <= 0, 'z'] = np.nan\n",
    "df.loc[df['carat'] <= 0, 'carat'] = np.nan\n",
    "df.loc[df['depth'] <= 0, 'depth'] = np.nan\n",
    "df.loc[df['table'] <= 0, 'table'] = np.nan"
   ]
  },
  {
   "cell_type": "code",
   "execution_count": 6,
   "id": "c5328613-f0c1-49b4-91ea-6f1ade872e06",
   "metadata": {},
   "outputs": [],
   "source": [
    "df.loc[df['x'] > 20, 'x'] /= 10\n",
    "df.loc[df['y'] > 20, 'y'] /= 10\n",
    "df.loc[df['z'] > 20, 'z'] /= 10"
   ]
  },
  {
   "cell_type": "code",
   "execution_count": 7,
   "id": "785421ca-ccd0-42f8-ab66-847729b5ee6b",
   "metadata": {},
   "outputs": [],
   "source": [
    "df['depth'] = round(2 * df['z'] / (df['x'] + df['y']) * 100, 1)"
   ]
  },
  {
   "cell_type": "code",
   "execution_count": 8,
   "id": "74e4f39e-c29a-4549-bdd4-73ee4a09ea52",
   "metadata": {},
   "outputs": [],
   "source": [
    "# df"
   ]
  },
  {
   "cell_type": "code",
   "execution_count": 9,
   "id": "64154140-12f7-4d7c-91a7-7578c8edd3ce",
   "metadata": {},
   "outputs": [
    {
     "data": {
      "text/plain": [
       "make_scorer(irq_mse, response_method='predict')"
      ]
     },
     "execution_count": 9,
     "metadata": {},
     "output_type": "execute_result"
    }
   ],
   "source": [
    "def irq_mse(y_true, y_pred):\n",
    "    delta = y_pred - y_true\n",
    "    quant_75 = np.quantile(delta, 0.75)\n",
    "    quant_25 = np.quantile(delta, 0.25)\n",
    "    irq = quant_75 - quant_25\n",
    "    mask = (delta < quant_25 - 1.5*irq) | (delta > quant_75 + 1.5*irq)\n",
    "    \n",
    "    if mask.sum() == 0:\n",
    "        irq_mse = 0\n",
    "    else:\n",
    "        delta_new = delta[mask]**2\n",
    "        irq_mse = -1/len(delta_new) * np.sum(delta_new)\n",
    "    return irq_mse\n",
    "\n",
    "score_irq_mse = make_scorer(irq_mse)\n",
    "score_irq_mse"
   ]
  },
  {
   "cell_type": "code",
   "execution_count": 10,
   "id": "853fc003-830d-4f84-b9d0-02940253aa68",
   "metadata": {},
   "outputs": [
    {
     "name": "stdout",
     "output_type": "stream",
     "text": [
      "Числовые колонки: ['carat', 'depth', 'table', 'price', 'x', 'y', 'z']\n",
      "Категориальные колонки: ['cut', 'color', 'clarity']\n"
     ]
    }
   ],
   "source": [
    "def classify_columns(df):\n",
    "    numeric_columns = []\n",
    "    categorical_columns = []\n",
    "\n",
    "    for column in df.columns:\n",
    "        if pd.api.types.is_numeric_dtype(df[column]):\n",
    "            numeric_columns.append(column)\n",
    "        else:\n",
    "            categorical_columns.append(column)\n",
    "\n",
    "    return numeric_columns, categorical_columns\n",
    "\n",
    "numeric_columns, categorical_columns = classify_columns(df)\n",
    "\n",
    "print(\"Числовые колонки:\", numeric_columns)\n",
    "print(\"Категориальные колонки:\", categorical_columns)"
   ]
  },
  {
   "cell_type": "code",
   "execution_count": 11,
   "id": "9b7fd4f0-abee-434e-b474-06f397d8fbb8",
   "metadata": {},
   "outputs": [],
   "source": [
    "# df = df.drop(['depth', 'table'], axis=1)"
   ]
  },
  {
   "cell_type": "code",
   "execution_count": 12,
   "id": "e25a7489-fda4-44dd-b4d0-33b00c633203",
   "metadata": {},
   "outputs": [],
   "source": [
    "X = df.drop('price', axis=1)\n",
    "y = df['price']\n",
    "\n",
    "X_train, X_test, y_train, y_test = train_test_split(X, y, test_size=0.33, random_state=43)"
   ]
  },
  {
   "cell_type": "markdown",
   "id": "e3034212-d788-4a7c-89ba-729641af786f",
   "metadata": {},
   "source": [
    "## Select K-best"
   ]
  },
  {
   "cell_type": "markdown",
   "id": "7806fd86-478f-465b-9347-19b5fda39d65",
   "metadata": {},
   "source": [
    "**Фич без обработки num всего 34**"
   ]
  },
  {
   "cell_type": "code",
   "execution_count": 15,
   "id": "90905f9f-93b7-4ad1-8b03-19c2a3464625",
   "metadata": {},
   "outputs": [],
   "source": [
    "# cat_features = ['cut', 'color', 'clarity']\n",
    "# axis_features = ['x', 'y', 'z', 'carat']\n",
    "# num_features = ['depth', 'table']\n",
    "\n",
    "# axis_transformer = Pipeline(steps=[\n",
    "#     ('missing_num', IterativeImputer(missing_values=np.nan, max_iter=20)),\n",
    "#     ('polynom', PolynomialFeatures(2, include_bias=False)),\n",
    "#     ('scaler', RobustScaler())\n",
    "# ])\n",
    "\n",
    "# # num = Pipeline(steps=[\n",
    "# #     ('missing_num', IterativeImputer(missing_values=np.nan, max_iter=20)),\n",
    "# #     ('scaler', RobustScaler())\n",
    "# # ])\n",
    "\n",
    "# cat = Pipeline(steps=[\n",
    "#     ('imputer', SimpleImputer(strategy='most_frequent')),\n",
    "#     ('onehot', OneHotEncoder(sparse_output=False, handle_unknown='ignore'))\n",
    "# ])\n",
    "\n",
    "# CT = ColumnTransformer([\n",
    "#     (\"axis_transformer\", axis_transformer, axis_features),\n",
    "#     # (\"num\", num, num_features),\n",
    "#     (\"cat\", cat, cat_features)\n",
    "# ]).set_output(transform='pandas')\n",
    "\n",
    "# pipeline = Pipeline(steps=[\n",
    "#     ('preproc', CT),\n",
    "#     ('feature_selection', SelectKBest(score_func=f_regression, k=34)), \n",
    "#     ('estimator', SVR())\n",
    "# ])\n",
    "\n",
    "# model_target = TransformedTargetRegressor(\n",
    "#     regressor=pipeline,\n",
    "#     transformer=PowerTransformer(method='yeo-johnson')\n",
    "# )\n",
    "\n",
    "# display(model_target)"
   ]
  },
  {
   "cell_type": "code",
   "execution_count": 16,
   "id": "6e51fbe9-74e2-4284-b07c-5173297e2b91",
   "metadata": {},
   "outputs": [],
   "source": [
    "# model_target.fit(X_train, y_train)\n",
    "# y_pred = model_target.predict(X_test)\n",
    "\n",
    "# mse = mean_squared_error(y_test, y_pred)\n",
    "# print(f\"Mean Squared Error (MSE): {mse:.2f}\")\n",
    "# print(irq_mse(y_test, y_pred))"
   ]
  },
  {
   "cell_type": "markdown",
   "id": "7deb74a4-b4c4-48a5-8bfb-c52801106262",
   "metadata": {},
   "source": [
    "**убавление фич не помогает улучшить метрику \\\n",
    "Уберем select k best**"
   ]
  },
  {
   "cell_type": "markdown",
   "id": "81fc89c8-134f-4080-ab3d-826a9a7b2544",
   "metadata": {},
   "source": [
    "## Основная выбранная модель"
   ]
  },
  {
   "cell_type": "code",
   "execution_count": 19,
   "id": "ae919747-e2f3-4912-a648-4805859bdd41",
   "metadata": {},
   "outputs": [],
   "source": [
    "# cat_features = ['cut', 'color', 'clarity']\n",
    "# axis_features = ['x', 'y', 'z', 'carat']\n",
    "# num_features = ['depth', 'table']\n",
    "\n",
    "# axis_transformer = Pipeline(steps=[\n",
    "#     ('missing_num', IterativeImputer(missing_values=np.nan, max_iter=20)),\n",
    "#     ('polynom', PolynomialFeatures(2, include_bias=False)),\n",
    "#     ('scaler', RobustScaler())\n",
    "# ])\n",
    "\n",
    "# num = Pipeline(steps=[\n",
    "#     ('missing_num', IterativeImputer(missing_values=np.nan, max_iter=20)),\n",
    "#     ('scaler', RobustScaler())\n",
    "# ])\n",
    "\n",
    "# cat = Pipeline(steps=[\n",
    "#     ('imputer', SimpleImputer(strategy='most_frequent')),\n",
    "#     ('onehot', OneHotEncoder(sparse_output=False, handle_unknown='ignore'))\n",
    "# ])\n",
    "\n",
    "# CT = ColumnTransformer([\n",
    "#     (\"axis_transformer\", axis_transformer, axis_features),\n",
    "#     (\"num\", num, num_features),\n",
    "#     (\"cat\", cat, cat_features)\n",
    "# ]).set_output(transform='pandas')\n",
    "\n",
    "# pipeline = Pipeline(steps=[\n",
    "#     ('preproc', CT),\n",
    "#     ('estimator', SVR())\n",
    "# ])\n",
    "\n",
    "# model_target = TransformedTargetRegressor(\n",
    "#     regressor=pipeline,\n",
    "#     transformer=PowerTransformer(method='yeo-johnson')\n",
    "# )"
   ]
  },
  {
   "cell_type": "code",
   "execution_count": 20,
   "id": "c37b1e74-2bf2-4374-bf86-6127022c3c1f",
   "metadata": {},
   "outputs": [],
   "source": [
    "# model_target.fit(X_train, y_train)\n",
    "# y_pred = model_target.predict(X_test)\n",
    "\n",
    "# mse = mean_squared_error(y_test, y_pred)\n",
    "# print(f\"Mean Squared Error (MSE): {mse:.2f}\")\n",
    "# print(irq_mse(y_test, y_pred))"
   ]
  },
  {
   "cell_type": "code",
   "execution_count": null,
   "id": "869a5ef1-ba28-410e-9249-dd596351fccb",
   "metadata": {},
   "outputs": [],
   "source": []
  },
  {
   "cell_type": "markdown",
   "id": "acd1f239-23c3-4bbf-beb5-882d56ace863",
   "metadata": {},
   "source": [
    "## PCA "
   ]
  },
  {
   "cell_type": "code",
   "execution_count": 22,
   "id": "4a9fd695-0bc7-48be-bc55-50aa613fba1b",
   "metadata": {},
   "outputs": [],
   "source": [
    "# from sklearn.decomposition import PCA\n"
   ]
  },
  {
   "cell_type": "code",
   "execution_count": 23,
   "id": "656df38e-6abb-41f8-86b1-0121cf824e2f",
   "metadata": {},
   "outputs": [],
   "source": [
    "# cat_features = ['cut', 'color', 'clarity']\n",
    "# axis_features = ['x', 'y', 'z', 'carat']\n",
    "# num_features = ['depth', 'table']\n",
    "\n",
    "# axis_transformer = Pipeline(steps=[\n",
    "#     ('missing_num', IterativeImputer(missing_values=np.nan, max_iter=20)),\n",
    "#     ('polynom', PolynomialFeatures(2, include_bias=False)),\n",
    "#     ('scaler', RobustScaler())\n",
    "# ])\n",
    "\n",
    "# # num = Pipeline(steps=[\n",
    "# #     ('missing_num', IterativeImputer(missing_values=np.nan, max_iter=20)),\n",
    "# #     ('scaler', RobustScaler())\n",
    "# # ])\n",
    "\n",
    "# cat = Pipeline(steps=[\n",
    "#     ('imputer', SimpleImputer(strategy='most_frequent')),\n",
    "#     ('onehot', OneHotEncoder(sparse_output=False, handle_unknown='ignore'))\n",
    "# ])\n",
    "\n",
    "# CT = ColumnTransformer([\n",
    "#     (\"axis_transformer\", axis_transformer, axis_features),\n",
    "#     # (\"num\", num, num_features),\n",
    "#     (\"cat\", cat, cat_features)\n",
    "# ]).set_output(transform='pandas')\n",
    "\n",
    "# pipeline = Pipeline(steps=[\n",
    "#     ('preproc', CT),                    \n",
    "#     ('pca', PCA(n_components=33)),       \n",
    "#     ('estimator', SVR())\n",
    "# ])\n",
    "\n",
    "# model_target = TransformedTargetRegressor(\n",
    "#     regressor=pipeline,\n",
    "#     transformer=PowerTransformer(method='yeo-johnson')\n",
    "# )"
   ]
  },
  {
   "cell_type": "code",
   "execution_count": 24,
   "id": "7de79cc0-8136-49c3-b344-370e4608735b",
   "metadata": {},
   "outputs": [],
   "source": [
    "# model_target.fit(X_train, y_train)\n",
    "# y_pred = model_target.predict(X_test)\n",
    "\n",
    "# mse = mean_squared_error(y_test, y_pred)\n",
    "# print(f\"Mean Squared Error (MSE): {mse:.2f}\")\n",
    "# print(irq_mse(y_test, y_pred))"
   ]
  },
  {
   "cell_type": "markdown",
   "id": "6ac94ae0-4ef7-468c-9c5f-cdca078d143b",
   "metadata": {},
   "source": [
    "**неа**"
   ]
  },
  {
   "cell_type": "markdown",
   "id": "463914db-3316-4cee-b063-440781525a91",
   "metadata": {},
   "source": [
    "## L1-based feature selection (Lasso)"
   ]
  },
  {
   "cell_type": "code",
   "execution_count": 27,
   "id": "0730779a-7585-40f3-8173-4e0d525f351f",
   "metadata": {},
   "outputs": [],
   "source": [
    "# cat_features = ['cut', 'color', 'clarity']\n",
    "# axis_features = ['x', 'y', 'z', 'carat']\n",
    "# num_features = ['depth', 'table']\n",
    "\n",
    "# axis_transformer = Pipeline(steps=[\n",
    "#     ('missing_num', IterativeImputer(missing_values=np.nan, max_iter=20)),\n",
    "#     ('polynom', PolynomialFeatures(2, include_bias=False)),\n",
    "#     ('scaler', RobustScaler())\n",
    "# ])\n",
    "\n",
    "# # num = Pipeline(steps=[\n",
    "# #     ('missing_num', IterativeImputer(missing_values=np.nan, max_iter=20)),\n",
    "# #     ('scaler', RobustScaler())\n",
    "# # ])\n",
    "\n",
    "# cat = Pipeline(steps=[\n",
    "#     ('imputer', SimpleImputer(strategy='most_frequent')),\n",
    "#     ('onehot', OneHotEncoder(sparse_output=False, handle_unknown='ignore'))\n",
    "# ])\n",
    "\n",
    "# CT = ColumnTransformer([\n",
    "#     (\"axis_transformer\", axis_transformer, axis_features),\n",
    "#     # (\"num\", num, num_features),\n",
    "#     (\"cat\", cat, cat_features)\n",
    "# ]).set_output(transform='pandas')\n",
    "\n",
    "# pipeline = Pipeline(steps=[\n",
    "#     ('preproc', CT),\n",
    "#     ('feature_selection', SelectFromModel(Lasso(alpha=0.1))),  # выбираем значимые признаки с Lasso\n",
    "#     ('estimator', SVR())\n",
    "# ])\n",
    "\n",
    "# model_target = TransformedTargetRegressor(\n",
    "#     regressor=pipeline,\n",
    "#     transformer=PowerTransformer(method='yeo-johnson')\n",
    "# )"
   ]
  },
  {
   "cell_type": "code",
   "execution_count": 28,
   "id": "c4593e69-9cdf-4c9b-96d1-71282dc407c5",
   "metadata": {},
   "outputs": [],
   "source": [
    "# model_target.fit(X_train, y_train)\n",
    "# y_pred = model_target.predict(X_test)\n",
    "\n",
    "# mse = mean_squared_error(y_test, y_pred)\n",
    "# print(f\"Mean Squared Error (MSE): {mse:.2f}\")\n",
    "# print(irq_mse(y_test, y_pred))"
   ]
  },
  {
   "cell_type": "markdown",
   "id": "7445622f-441c-46a5-93b7-bd3458d7d39c",
   "metadata": {},
   "source": [
    "**оч плохо**"
   ]
  },
  {
   "cell_type": "markdown",
   "id": "fe0a3040-daab-4150-bc0b-2c3c3d96ac75",
   "metadata": {},
   "source": [
    "## Mutual info"
   ]
  },
  {
   "cell_type": "code",
   "execution_count": 31,
   "id": "ca6cf21b-9eec-4e2b-b891-212595a7fa66",
   "metadata": {},
   "outputs": [],
   "source": [
    "# cat_features = ['cut', 'color', 'clarity']\n",
    "# axis_features = ['x', 'y', 'z', 'carat']\n",
    "# num_features = ['depth', 'table']\n",
    "\n",
    "# axis_transformer = Pipeline(steps=[\n",
    "#     ('missing_num', IterativeImputer(missing_values=np.nan, max_iter=20)),\n",
    "#     ('polynom', PolynomialFeatures(3, include_bias=False)),\n",
    "#     ('scaler', RobustScaler())\n",
    "# ])\n",
    "\n",
    "# # num = Pipeline(steps=[\n",
    "# #     ('missing_num', IterativeImputer(missing_values=np.nan, max_iter=20)),\n",
    "# #     ('scaler', RobustScaler())\n",
    "# # ])\n",
    "\n",
    "# cat = Pipeline(steps=[\n",
    "#     ('imputer', SimpleImputer(strategy='most_frequent')),\n",
    "#     ('onehot', OneHotEncoder(sparse_output=False, handle_unknown='ignore'))\n",
    "# ])\n",
    "\n",
    "# CT = ColumnTransformer([\n",
    "#     (\"axis_transformer\", axis_transformer, axis_features),\n",
    "#     # (\"num\", num, num_features),\n",
    "#     (\"cat\", cat, cat_features)\n",
    "# ]).set_output(transform='pandas')\n",
    "\n",
    "# pipeline = Pipeline(steps=[\n",
    "#     ('preproc', CT),\n",
    "#     ('feature_selection', SelectKBest(mutual_info_regression, k=33)),  \n",
    "#     ('estimator', SVR())\n",
    "# ])\n",
    "\n",
    "# model_target = TransformedTargetRegressor(\n",
    "#     regressor=pipeline,\n",
    "#     transformer=PowerTransformer(method='yeo-johnson')\n",
    "# )"
   ]
  },
  {
   "cell_type": "code",
   "execution_count": 32,
   "id": "bd5e7a9f-b67a-4bb1-8162-ba9ab3a425a8",
   "metadata": {},
   "outputs": [],
   "source": [
    "# model_target.fit(X_train, y_train)\n",
    "# y_pred = model_target.predict(X_test)\n",
    "\n",
    "# mse = mean_squared_error(y_test, y_pred)\n",
    "# print(f\"Mean Squared Error (MSE): {mse:.2f}\")\n",
    "# print(irq_mse(y_test, y_pred))"
   ]
  },
  {
   "cell_type": "markdown",
   "id": "463135f2-b959-41d5-adeb-fdd637d9d3fe",
   "metadata": {},
   "source": [
    "**Далее проверю гипотезу, что если создать полином 3 степени и отобрать признаки \\\n",
    "Не сработало**"
   ]
  },
  {
   "cell_type": "code",
   "execution_count": null,
   "id": "ef7e5753-35a4-42ba-bc65-e5ae46440193",
   "metadata": {},
   "outputs": [],
   "source": []
  },
  {
   "cell_type": "code",
   "execution_count": 34,
   "id": "6decebb0-ed79-4da1-8c95-f48b6727ff07",
   "metadata": {},
   "outputs": [],
   "source": [
    "# sns.pairplot(df)"
   ]
  },
  {
   "cell_type": "code",
   "execution_count": 35,
   "id": "403af8bb-1621-45d0-b80f-0506571f0479",
   "metadata": {},
   "outputs": [],
   "source": [
    "# Видим что нужно еще обработать table\n",
    "# и x, y, z + carat "
   ]
  },
  {
   "cell_type": "code",
   "execution_count": 36,
   "id": "5f139eb5-9072-4a6a-a068-18a5214edf52",
   "metadata": {},
   "outputs": [],
   "source": [
    "# plt.figure(figsize=(6, 4))\n",
    "# sns.scatterplot(x='carat', y='y', data=df)\n",
    "# plt.show()"
   ]
  },
  {
   "cell_type": "code",
   "execution_count": null,
   "id": "daea07a3-16d2-4700-a79b-ac93633adbe3",
   "metadata": {},
   "outputs": [],
   "source": []
  },
  {
   "cell_type": "markdown",
   "id": "7b341fcc-7dd7-4846-a8b7-5abdd76b6019",
   "metadata": {},
   "source": [
    "## Доработка"
   ]
  },
  {
   "cell_type": "markdown",
   "id": "9357dcca-18b5-46b4-9302-476b7326e28f",
   "metadata": {},
   "source": [
    "**1) Здесь была идея реализовать поиск похожих строк выбивающихся из общего тренда совокупности и далее принимать решение какую фичу из пары нужно менять что б строка встала в общую совокупность \\\n",
    "Однако времени уже нет \\\n",
    "Возможно стоило аккуратно построить модели которые будут пресказывать адекватные значения x, y, z, carat на такие точки**"
   ]
  },
  {
   "cell_type": "markdown",
   "id": "2adc7a50-57b9-418b-8694-22659a9d4473",
   "metadata": {},
   "source": [
    "**2) Провести детальный разбор ошибок модели**"
   ]
  },
  {
   "cell_type": "code",
   "execution_count": 40,
   "id": "d70a6221-41a6-446f-a41a-1cec84c6771d",
   "metadata": {},
   "outputs": [
    {
     "name": "stderr",
     "output_type": "stream",
     "text": [
      "C:\\ProgramData\\anaconda3\\Lib\\site-packages\\sklearn\\impute\\_iterative.py:825: ConvergenceWarning: [IterativeImputer] Early stopping criterion not reached.\n",
      "  warnings.warn(\n"
     ]
    },
    {
     "name": "stdout",
     "output_type": "stream",
     "text": [
      "Mean Squared Error (MSE): 354617.86\n",
      "-1938410.7911721717\n"
     ]
    },
    {
     "name": "stderr",
     "output_type": "stream",
     "text": [
      "C:\\ProgramData\\anaconda3\\Lib\\site-packages\\sklearn\\impute\\_iterative.py:825: ConvergenceWarning: [IterativeImputer] Early stopping criterion not reached.\n",
      "  warnings.warn(\n"
     ]
    },
    {
     "name": "stdout",
     "output_type": "stream",
     "text": [
      "Mean Squared Error (MSE): 379495.36\n",
      "-2087163.9604078943\n"
     ]
    },
    {
     "name": "stderr",
     "output_type": "stream",
     "text": [
      "C:\\ProgramData\\anaconda3\\Lib\\site-packages\\sklearn\\impute\\_iterative.py:825: ConvergenceWarning: [IterativeImputer] Early stopping criterion not reached.\n",
      "  warnings.warn(\n"
     ]
    },
    {
     "name": "stdout",
     "output_type": "stream",
     "text": [
      "Mean Squared Error (MSE): 324109.58\n",
      "-1740690.2367330913\n"
     ]
    },
    {
     "name": "stderr",
     "output_type": "stream",
     "text": [
      "C:\\ProgramData\\anaconda3\\Lib\\site-packages\\sklearn\\impute\\_iterative.py:825: ConvergenceWarning: [IterativeImputer] Early stopping criterion not reached.\n",
      "  warnings.warn(\n"
     ]
    },
    {
     "name": "stdout",
     "output_type": "stream",
     "text": [
      "Mean Squared Error (MSE): 378038.54\n",
      "-2091621.372954791\n"
     ]
    },
    {
     "name": "stderr",
     "output_type": "stream",
     "text": [
      "C:\\ProgramData\\anaconda3\\Lib\\site-packages\\sklearn\\impute\\_iterative.py:825: ConvergenceWarning: [IterativeImputer] Early stopping criterion not reached.\n",
      "  warnings.warn(\n"
     ]
    },
    {
     "name": "stdout",
     "output_type": "stream",
     "text": [
      "Mean Squared Error (MSE): 346113.40\n",
      "-1877837.265484561\n"
     ]
    }
   ],
   "source": [
    "lst_mse = []\n",
    "lst_irq_mse = []\n",
    "for i in range(50, 55):\n",
    "    X_train, X_test, y_train, y_test = train_test_split(X, y, test_size=0.33, random_state=i)\n",
    "    cat_features = ['cut', 'color', 'clarity']\n",
    "    axis_features = ['x', 'y', 'z', 'carat']\n",
    "    num_features = ['depth', 'table']\n",
    "    axis_transformer = Pipeline(steps=[\n",
    "        ('missing_num', IterativeImputer(missing_values=np.nan, max_iter=20)),\n",
    "        ('polynom', PolynomialFeatures(2, include_bias=False)),\n",
    "        ('scaler', RobustScaler())\n",
    "    ])\n",
    "\n",
    "    # num = Pipeline(steps=[\n",
    "    #     ('missing_num', IterativeImputer(missing_values=np.nan, max_iter=20)),\n",
    "    #     ('scaler', RobustScaler())\n",
    "    # ])\n",
    "\n",
    "    cat = Pipeline(steps=[\n",
    "        ('imputer', SimpleImputer(strategy='most_frequent')),\n",
    "        ('onehot', OneHotEncoder(sparse_output=False, handle_unknown='ignore'))\n",
    "    ])\n",
    "\n",
    "    CT = ColumnTransformer([\n",
    "        (\"axis_transformer\", axis_transformer, axis_features),\n",
    "        # (\"num\", num, num_features),\n",
    "        (\"cat\", cat, cat_features)\n",
    "    ]).set_output(transform='pandas')\n",
    "\n",
    "    pipeline = Pipeline(steps=[\n",
    "        ('preproc', CT),\n",
    "        ('estimator', SVR())\n",
    "    ])\n",
    "    \n",
    "    model_target = TransformedTargetRegressor(\n",
    "        regressor=pipeline,\n",
    "        transformer=PowerTransformer(method='yeo-johnson')\n",
    "    )\n",
    "\n",
    "    model_target.fit(X_train, y_train)\n",
    "    y_pred = model_target.predict(X_test)\n",
    "    mse = mean_squared_error(y_test, y_pred)\n",
    "    lst_mse.append(mse)\n",
    "    print(f\"Mean Squared Error (MSE): {mse:.2f}\")\n",
    "    irq = irq_mse(y_test, y_pred)\n",
    "    lst_irq_mse.append(irq)\n",
    "    print(irq_mse(y_test, y_pred))\n",
    "\n",
    " "
   ]
  },
  {
   "cell_type": "code",
   "execution_count": 41,
   "id": "9d57195e-de66-4981-8832-150a1f33e3ac",
   "metadata": {},
   "outputs": [
    {
     "data": {
      "text/plain": [
       "356474.95066289336"
      ]
     },
     "execution_count": 41,
     "metadata": {},
     "output_type": "execute_result"
    }
   ],
   "source": [
    "np.mean(lst_mse)"
   ]
  },
  {
   "cell_type": "code",
   "execution_count": 42,
   "id": "7d759b2d-7b75-4792-850e-fa1f5b4a9f86",
   "metadata": {},
   "outputs": [
    {
     "data": {
      "text/plain": [
       "-1947144.7253505017"
      ]
     },
     "execution_count": 42,
     "metadata": {},
     "output_type": "execute_result"
    }
   ],
   "source": [
    "np.mean(lst_irq_mse)"
   ]
  },
  {
   "cell_type": "code",
   "execution_count": 43,
   "id": "c61c91c7-1508-477d-a957-f46b63040096",
   "metadata": {},
   "outputs": [],
   "source": [
    "# Итоговая модель (с закоменченым num) то есть признаки num будут удалены\n",
    "# -1826684.715572456\n",
    "# 331143.7409430638\n",
    "\n",
    "# Без комммента нам: \n",
    "# хуже на две сотки где то"
   ]
  },
  {
   "cell_type": "code",
   "execution_count": null,
   "id": "07915315-3fbd-4160-a065-94a79fabf6f8",
   "metadata": {},
   "outputs": [],
   "source": []
  }
 ],
 "metadata": {
  "kernelspec": {
   "display_name": "Python 3 (ipykernel)",
   "language": "python",
   "name": "python3"
  },
  "language_info": {
   "codemirror_mode": {
    "name": "ipython",
    "version": 3
   },
   "file_extension": ".py",
   "mimetype": "text/x-python",
   "name": "python",
   "nbconvert_exporter": "python",
   "pygments_lexer": "ipython3",
   "version": "3.12.4"
  }
 },
 "nbformat": 4,
 "nbformat_minor": 5
}
